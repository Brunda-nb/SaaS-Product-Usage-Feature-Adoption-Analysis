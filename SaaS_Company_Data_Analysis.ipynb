{
  "nbformat": 4,
  "nbformat_minor": 0,
  "metadata": {
    "colab": {
      "provenance": [],
      "collapsed_sections": [
        "3Ns1uDwLbcZe",
        "Cg1JSvSWbgPs",
        "J1yWC6skdOIW",
        "2_FdaFu3o7Vg",
        "VGF9OOsKq4V7",
        "qxoVYaYdvgyq",
        "PXzsJi2x3U8K",
        "2NaVvnPC4Ztx",
        "mBSpY5yo5QqR",
        "PvOtjtIkGq7K",
        "fqEVmGcTljfZ"
      ],
      "authorship_tag": "ABX9TyO1wIdPR1xTelPrCqyO2v0T"
    },
    "kernelspec": {
      "name": "python3",
      "display_name": "Python 3"
    },
    "language_info": {
      "name": "python"
    }
  },
  "cells": [
    {
      "cell_type": "markdown",
      "source": [
        "## Problem Statement\n",
        "\n",
        "The SaaS company is a **B2B (business-to-business)** organization selling **sales and marketing software** to other companies. They have collected **transactional data** from their customers and have hired a **data scientist** to analyze this dataset in order to gain insights and improve the company’s future performance.\n",
        "\n",
        "The specific insights required are:\n",
        "\n",
        "1. **Top 5 Products by Profit Margin:**  \n",
        "   Identify the 5 products with the highest profit margins to prioritize resource allocation in R&D.\n",
        "\n",
        "2. **Top 3 Industries by Profit:**  \n",
        "   Determine the 3 industries that yield the highest profit to focus company efforts on these sectors.\n",
        "\n",
        "3. **Top 5 Countries by Sales:**  \n",
        "   Identify the 5 countries with the highest sales to expand the team and networking in those regions.\n",
        "\n",
        "4. **Quarterly Profit Analysis:**  \n",
        "   Break down profits by quarter to help plan resource allocation.\n",
        "\n",
        "5. **Sales vs. Discount Correlation:**  \n",
        "   Evaluate the correlation between sales and discounts to measure the effectiveness of the discounts provided.\n",
        "\n",
        "6. **Industry-Country Independence Analysis:**  \n",
        "   Assess the independence between the 5 countries with the highest sales (from Insight 3) and the 3 industries with the highest profit (from Insight 2) using a **Chi-Squared Test**, to decide whether those 3 industries should be prioritized in those 5 countries.\n"
      ],
      "metadata": {
        "id": "O42Cbr27ac4i"
      }
    },
    {
      "cell_type": "markdown",
      "source": [
        "#**DB Loading**"
      ],
      "metadata": {
        "id": "BG2klR4C0Kin"
      }
    },
    {
      "cell_type": "code",
      "execution_count": null,
      "metadata": {
        "colab": {
          "base_uri": "https://localhost:8080/"
        },
        "id": "u7WnlzmbZ_AJ",
        "outputId": "f01182b3-1fcd-432b-b2bf-8ce74f97909b"
      },
      "outputs": [
        {
          "output_type": "stream",
          "name": "stdout",
          "text": [
            "Collecting prettytable==3.9.0\n",
            "  Downloading prettytable-3.9.0-py3-none-any.whl.metadata (26 kB)\n",
            "Requirement already satisfied: wcwidth in /usr/local/lib/python3.12/dist-packages (from prettytable==3.9.0) (0.2.13)\n",
            "Downloading prettytable-3.9.0-py3-none-any.whl (27 kB)\n",
            "Installing collected packages: prettytable\n",
            "  Attempting uninstall: prettytable\n",
            "    Found existing installation: prettytable 3.16.0\n",
            "    Uninstalling prettytable-3.16.0:\n",
            "      Successfully uninstalled prettytable-3.16.0\n",
            "Successfully installed prettytable-3.9.0\n"
          ]
        }
      ],
      "source": [
        "!pip install prettytable==3.9.0"
      ]
    },
    {
      "cell_type": "code",
      "source": [
        "#1️⃣\n",
        "from google.colab import files\n",
        "import zipfile, os, glob\n",
        "import pandas as pd\n",
        "import sqlite3\n",
        "\n",
        "#2️⃣\n",
        "# Upload the zip containing Excel files\n",
        "print(\"Upload the csv files\")\n",
        "uploaded = files.upload()"
      ],
      "metadata": {
        "colab": {
          "base_uri": "https://localhost:8080/",
          "height": 90
        },
        "id": "NNtN1o1Aa2J8",
        "outputId": "5b4240f3-0374-42ea-f2c6-530756b18b00"
      },
      "execution_count": null,
      "outputs": [
        {
          "output_type": "stream",
          "name": "stdout",
          "text": [
            "Upload the csv files\n"
          ]
        },
        {
          "output_type": "display_data",
          "data": {
            "text/plain": [
              "<IPython.core.display.HTML object>"
            ],
            "text/html": [
              "\n",
              "     <input type=\"file\" id=\"files-d487645a-8591-4b81-b9be-431567bc96ad\" name=\"files[]\" multiple disabled\n",
              "        style=\"border:none\" />\n",
              "     <output id=\"result-d487645a-8591-4b81-b9be-431567bc96ad\">\n",
              "      Upload widget is only available when the cell has been executed in the\n",
              "      current browser session. Please rerun this cell to enable.\n",
              "      </output>\n",
              "      <script>// Copyright 2017 Google LLC\n",
              "//\n",
              "// Licensed under the Apache License, Version 2.0 (the \"License\");\n",
              "// you may not use this file except in compliance with the License.\n",
              "// You may obtain a copy of the License at\n",
              "//\n",
              "//      http://www.apache.org/licenses/LICENSE-2.0\n",
              "//\n",
              "// Unless required by applicable law or agreed to in writing, software\n",
              "// distributed under the License is distributed on an \"AS IS\" BASIS,\n",
              "// WITHOUT WARRANTIES OR CONDITIONS OF ANY KIND, either express or implied.\n",
              "// See the License for the specific language governing permissions and\n",
              "// limitations under the License.\n",
              "\n",
              "/**\n",
              " * @fileoverview Helpers for google.colab Python module.\n",
              " */\n",
              "(function(scope) {\n",
              "function span(text, styleAttributes = {}) {\n",
              "  const element = document.createElement('span');\n",
              "  element.textContent = text;\n",
              "  for (const key of Object.keys(styleAttributes)) {\n",
              "    element.style[key] = styleAttributes[key];\n",
              "  }\n",
              "  return element;\n",
              "}\n",
              "\n",
              "// Max number of bytes which will be uploaded at a time.\n",
              "const MAX_PAYLOAD_SIZE = 100 * 1024;\n",
              "\n",
              "function _uploadFiles(inputId, outputId) {\n",
              "  const steps = uploadFilesStep(inputId, outputId);\n",
              "  const outputElement = document.getElementById(outputId);\n",
              "  // Cache steps on the outputElement to make it available for the next call\n",
              "  // to uploadFilesContinue from Python.\n",
              "  outputElement.steps = steps;\n",
              "\n",
              "  return _uploadFilesContinue(outputId);\n",
              "}\n",
              "\n",
              "// This is roughly an async generator (not supported in the browser yet),\n",
              "// where there are multiple asynchronous steps and the Python side is going\n",
              "// to poll for completion of each step.\n",
              "// This uses a Promise to block the python side on completion of each step,\n",
              "// then passes the result of the previous step as the input to the next step.\n",
              "function _uploadFilesContinue(outputId) {\n",
              "  const outputElement = document.getElementById(outputId);\n",
              "  const steps = outputElement.steps;\n",
              "\n",
              "  const next = steps.next(outputElement.lastPromiseValue);\n",
              "  return Promise.resolve(next.value.promise).then((value) => {\n",
              "    // Cache the last promise value to make it available to the next\n",
              "    // step of the generator.\n",
              "    outputElement.lastPromiseValue = value;\n",
              "    return next.value.response;\n",
              "  });\n",
              "}\n",
              "\n",
              "/**\n",
              " * Generator function which is called between each async step of the upload\n",
              " * process.\n",
              " * @param {string} inputId Element ID of the input file picker element.\n",
              " * @param {string} outputId Element ID of the output display.\n",
              " * @return {!Iterable<!Object>} Iterable of next steps.\n",
              " */\n",
              "function* uploadFilesStep(inputId, outputId) {\n",
              "  const inputElement = document.getElementById(inputId);\n",
              "  inputElement.disabled = false;\n",
              "\n",
              "  const outputElement = document.getElementById(outputId);\n",
              "  outputElement.innerHTML = '';\n",
              "\n",
              "  const pickedPromise = new Promise((resolve) => {\n",
              "    inputElement.addEventListener('change', (e) => {\n",
              "      resolve(e.target.files);\n",
              "    });\n",
              "  });\n",
              "\n",
              "  const cancel = document.createElement('button');\n",
              "  inputElement.parentElement.appendChild(cancel);\n",
              "  cancel.textContent = 'Cancel upload';\n",
              "  const cancelPromise = new Promise((resolve) => {\n",
              "    cancel.onclick = () => {\n",
              "      resolve(null);\n",
              "    };\n",
              "  });\n",
              "\n",
              "  // Wait for the user to pick the files.\n",
              "  const files = yield {\n",
              "    promise: Promise.race([pickedPromise, cancelPromise]),\n",
              "    response: {\n",
              "      action: 'starting',\n",
              "    }\n",
              "  };\n",
              "\n",
              "  cancel.remove();\n",
              "\n",
              "  // Disable the input element since further picks are not allowed.\n",
              "  inputElement.disabled = true;\n",
              "\n",
              "  if (!files) {\n",
              "    return {\n",
              "      response: {\n",
              "        action: 'complete',\n",
              "      }\n",
              "    };\n",
              "  }\n",
              "\n",
              "  for (const file of files) {\n",
              "    const li = document.createElement('li');\n",
              "    li.append(span(file.name, {fontWeight: 'bold'}));\n",
              "    li.append(span(\n",
              "        `(${file.type || 'n/a'}) - ${file.size} bytes, ` +\n",
              "        `last modified: ${\n",
              "            file.lastModifiedDate ? file.lastModifiedDate.toLocaleDateString() :\n",
              "                                    'n/a'} - `));\n",
              "    const percent = span('0% done');\n",
              "    li.appendChild(percent);\n",
              "\n",
              "    outputElement.appendChild(li);\n",
              "\n",
              "    const fileDataPromise = new Promise((resolve) => {\n",
              "      const reader = new FileReader();\n",
              "      reader.onload = (e) => {\n",
              "        resolve(e.target.result);\n",
              "      };\n",
              "      reader.readAsArrayBuffer(file);\n",
              "    });\n",
              "    // Wait for the data to be ready.\n",
              "    let fileData = yield {\n",
              "      promise: fileDataPromise,\n",
              "      response: {\n",
              "        action: 'continue',\n",
              "      }\n",
              "    };\n",
              "\n",
              "    // Use a chunked sending to avoid message size limits. See b/62115660.\n",
              "    let position = 0;\n",
              "    do {\n",
              "      const length = Math.min(fileData.byteLength - position, MAX_PAYLOAD_SIZE);\n",
              "      const chunk = new Uint8Array(fileData, position, length);\n",
              "      position += length;\n",
              "\n",
              "      const base64 = btoa(String.fromCharCode.apply(null, chunk));\n",
              "      yield {\n",
              "        response: {\n",
              "          action: 'append',\n",
              "          file: file.name,\n",
              "          data: base64,\n",
              "        },\n",
              "      };\n",
              "\n",
              "      let percentDone = fileData.byteLength === 0 ?\n",
              "          100 :\n",
              "          Math.round((position / fileData.byteLength) * 100);\n",
              "      percent.textContent = `${percentDone}% done`;\n",
              "\n",
              "    } while (position < fileData.byteLength);\n",
              "  }\n",
              "\n",
              "  // All done.\n",
              "  yield {\n",
              "    response: {\n",
              "      action: 'complete',\n",
              "    }\n",
              "  };\n",
              "}\n",
              "\n",
              "scope.google = scope.google || {};\n",
              "scope.google.colab = scope.google.colab || {};\n",
              "scope.google.colab._files = {\n",
              "  _uploadFiles,\n",
              "  _uploadFilesContinue,\n",
              "};\n",
              "})(self);\n",
              "</script> "
            ]
          },
          "metadata": {}
        },
        {
          "output_type": "stream",
          "name": "stdout",
          "text": [
            "Saving SaaS_Company.db to SaaS_Company.db\n"
          ]
        }
      ]
    },
    {
      "cell_type": "code",
      "source": [
        "!ls"
      ],
      "metadata": {
        "colab": {
          "base_uri": "https://localhost:8080/"
        },
        "id": "hefY0J920gUS",
        "outputId": "b735ae30-7128-47df-e403-4fb3d51fb649"
      },
      "execution_count": null,
      "outputs": [
        {
          "output_type": "stream",
          "name": "stdout",
          "text": [
            "SaaS_Company.db  sample_data\n"
          ]
        }
      ]
    },
    {
      "cell_type": "code",
      "source": [
        "#3️⃣ Read data(csv) and make into dataframe\n",
        "df = pd.read_csv('SaaS-Sales.csv')\n",
        "df.head()"
      ],
      "metadata": {
        "colab": {
          "base_uri": "https://localhost:8080/",
          "height": 417
        },
        "id": "jGncbAs9aoVx",
        "outputId": "0e62ac5e-ff7a-465e-e91e-84c4bef39649",
        "collapsed": true
      },
      "execution_count": null,
      "outputs": [
        {
          "output_type": "execute_result",
          "data": {
            "text/plain": [
              "   Row ID          Order ID  Order Date  Date Key    Contact Name  \\\n",
              "0       1  EMEA-2022-152156   11/9/2022  20221109     Nathan Bell   \n",
              "1       2  EMEA-2022-152156   11/9/2022  20221109     Nathan Bell   \n",
              "2       3  AMER-2022-138688   6/13/2022  20220613  Deirdre Bailey   \n",
              "3       4  EMEA-2021-108966  10/11/2021  20211011      Zoe Hodges   \n",
              "4       5  EMEA-2021-108966  10/11/2021  20211011      Zoe Hodges   \n",
              "\n",
              "         Country           City Region Subregion           Customer  \\\n",
              "0        Ireland         Dublin   EMEA      UKIR            Chevron   \n",
              "1        Ireland         Dublin   EMEA      UKIR            Chevron   \n",
              "2  United States  New York City   AMER     NAMER        Phillips 66   \n",
              "3        Germany      Stuttgart   EMEA   EU-WEST  Royal Dutch Shell   \n",
              "4        Germany      Stuttgart   EMEA   EU-WEST  Royal Dutch Shell   \n",
              "\n",
              "   Customer ID Industry    Segment                 Product     License  \\\n",
              "0         1017   Energy        SMB         Marketing Suite  16GRM07R1K   \n",
              "1         1017   Energy        SMB              FinanceHub  QLIW57KZUV   \n",
              "2         1056   Energy  Strategic              FinanceHub  JI6BVL70HQ   \n",
              "3         1031   Energy        SMB          ContactMatcher  DE9GJKGD44   \n",
              "4         1031   Energy        SMB  Marketing Suite - Gold  OIF7NY23WD   \n",
              "\n",
              "      Sales  Quantity  Discount    Profit  \n",
              "0  261.9600         2      0.00   41.9136  \n",
              "1  731.9400         3      0.00  219.5820  \n",
              "2   14.6200         2      0.00    6.8714  \n",
              "3  957.5775         5      0.45 -383.0310  \n",
              "4   22.3680         2      0.20    2.5164  "
            ],
            "text/html": [
              "\n",
              "  <div id=\"df-ad923fd2-5519-4957-9f7b-1742808c74e2\" class=\"colab-df-container\">\n",
              "    <div>\n",
              "<style scoped>\n",
              "    .dataframe tbody tr th:only-of-type {\n",
              "        vertical-align: middle;\n",
              "    }\n",
              "\n",
              "    .dataframe tbody tr th {\n",
              "        vertical-align: top;\n",
              "    }\n",
              "\n",
              "    .dataframe thead th {\n",
              "        text-align: right;\n",
              "    }\n",
              "</style>\n",
              "<table border=\"1\" class=\"dataframe\">\n",
              "  <thead>\n",
              "    <tr style=\"text-align: right;\">\n",
              "      <th></th>\n",
              "      <th>Row ID</th>\n",
              "      <th>Order ID</th>\n",
              "      <th>Order Date</th>\n",
              "      <th>Date Key</th>\n",
              "      <th>Contact Name</th>\n",
              "      <th>Country</th>\n",
              "      <th>City</th>\n",
              "      <th>Region</th>\n",
              "      <th>Subregion</th>\n",
              "      <th>Customer</th>\n",
              "      <th>Customer ID</th>\n",
              "      <th>Industry</th>\n",
              "      <th>Segment</th>\n",
              "      <th>Product</th>\n",
              "      <th>License</th>\n",
              "      <th>Sales</th>\n",
              "      <th>Quantity</th>\n",
              "      <th>Discount</th>\n",
              "      <th>Profit</th>\n",
              "    </tr>\n",
              "  </thead>\n",
              "  <tbody>\n",
              "    <tr>\n",
              "      <th>0</th>\n",
              "      <td>1</td>\n",
              "      <td>EMEA-2022-152156</td>\n",
              "      <td>11/9/2022</td>\n",
              "      <td>20221109</td>\n",
              "      <td>Nathan Bell</td>\n",
              "      <td>Ireland</td>\n",
              "      <td>Dublin</td>\n",
              "      <td>EMEA</td>\n",
              "      <td>UKIR</td>\n",
              "      <td>Chevron</td>\n",
              "      <td>1017</td>\n",
              "      <td>Energy</td>\n",
              "      <td>SMB</td>\n",
              "      <td>Marketing Suite</td>\n",
              "      <td>16GRM07R1K</td>\n",
              "      <td>261.9600</td>\n",
              "      <td>2</td>\n",
              "      <td>0.00</td>\n",
              "      <td>41.9136</td>\n",
              "    </tr>\n",
              "    <tr>\n",
              "      <th>1</th>\n",
              "      <td>2</td>\n",
              "      <td>EMEA-2022-152156</td>\n",
              "      <td>11/9/2022</td>\n",
              "      <td>20221109</td>\n",
              "      <td>Nathan Bell</td>\n",
              "      <td>Ireland</td>\n",
              "      <td>Dublin</td>\n",
              "      <td>EMEA</td>\n",
              "      <td>UKIR</td>\n",
              "      <td>Chevron</td>\n",
              "      <td>1017</td>\n",
              "      <td>Energy</td>\n",
              "      <td>SMB</td>\n",
              "      <td>FinanceHub</td>\n",
              "      <td>QLIW57KZUV</td>\n",
              "      <td>731.9400</td>\n",
              "      <td>3</td>\n",
              "      <td>0.00</td>\n",
              "      <td>219.5820</td>\n",
              "    </tr>\n",
              "    <tr>\n",
              "      <th>2</th>\n",
              "      <td>3</td>\n",
              "      <td>AMER-2022-138688</td>\n",
              "      <td>6/13/2022</td>\n",
              "      <td>20220613</td>\n",
              "      <td>Deirdre Bailey</td>\n",
              "      <td>United States</td>\n",
              "      <td>New York City</td>\n",
              "      <td>AMER</td>\n",
              "      <td>NAMER</td>\n",
              "      <td>Phillips 66</td>\n",
              "      <td>1056</td>\n",
              "      <td>Energy</td>\n",
              "      <td>Strategic</td>\n",
              "      <td>FinanceHub</td>\n",
              "      <td>JI6BVL70HQ</td>\n",
              "      <td>14.6200</td>\n",
              "      <td>2</td>\n",
              "      <td>0.00</td>\n",
              "      <td>6.8714</td>\n",
              "    </tr>\n",
              "    <tr>\n",
              "      <th>3</th>\n",
              "      <td>4</td>\n",
              "      <td>EMEA-2021-108966</td>\n",
              "      <td>10/11/2021</td>\n",
              "      <td>20211011</td>\n",
              "      <td>Zoe Hodges</td>\n",
              "      <td>Germany</td>\n",
              "      <td>Stuttgart</td>\n",
              "      <td>EMEA</td>\n",
              "      <td>EU-WEST</td>\n",
              "      <td>Royal Dutch Shell</td>\n",
              "      <td>1031</td>\n",
              "      <td>Energy</td>\n",
              "      <td>SMB</td>\n",
              "      <td>ContactMatcher</td>\n",
              "      <td>DE9GJKGD44</td>\n",
              "      <td>957.5775</td>\n",
              "      <td>5</td>\n",
              "      <td>0.45</td>\n",
              "      <td>-383.0310</td>\n",
              "    </tr>\n",
              "    <tr>\n",
              "      <th>4</th>\n",
              "      <td>5</td>\n",
              "      <td>EMEA-2021-108966</td>\n",
              "      <td>10/11/2021</td>\n",
              "      <td>20211011</td>\n",
              "      <td>Zoe Hodges</td>\n",
              "      <td>Germany</td>\n",
              "      <td>Stuttgart</td>\n",
              "      <td>EMEA</td>\n",
              "      <td>EU-WEST</td>\n",
              "      <td>Royal Dutch Shell</td>\n",
              "      <td>1031</td>\n",
              "      <td>Energy</td>\n",
              "      <td>SMB</td>\n",
              "      <td>Marketing Suite - Gold</td>\n",
              "      <td>OIF7NY23WD</td>\n",
              "      <td>22.3680</td>\n",
              "      <td>2</td>\n",
              "      <td>0.20</td>\n",
              "      <td>2.5164</td>\n",
              "    </tr>\n",
              "  </tbody>\n",
              "</table>\n",
              "</div>\n",
              "    <div class=\"colab-df-buttons\">\n",
              "\n",
              "  <div class=\"colab-df-container\">\n",
              "    <button class=\"colab-df-convert\" onclick=\"convertToInteractive('df-ad923fd2-5519-4957-9f7b-1742808c74e2')\"\n",
              "            title=\"Convert this dataframe to an interactive table.\"\n",
              "            style=\"display:none;\">\n",
              "\n",
              "  <svg xmlns=\"http://www.w3.org/2000/svg\" height=\"24px\" viewBox=\"0 -960 960 960\">\n",
              "    <path d=\"M120-120v-720h720v720H120Zm60-500h600v-160H180v160Zm220 220h160v-160H400v160Zm0 220h160v-160H400v160ZM180-400h160v-160H180v160Zm440 0h160v-160H620v160ZM180-180h160v-160H180v160Zm440 0h160v-160H620v160Z\"/>\n",
              "  </svg>\n",
              "    </button>\n",
              "\n",
              "  <style>\n",
              "    .colab-df-container {\n",
              "      display:flex;\n",
              "      gap: 12px;\n",
              "    }\n",
              "\n",
              "    .colab-df-convert {\n",
              "      background-color: #E8F0FE;\n",
              "      border: none;\n",
              "      border-radius: 50%;\n",
              "      cursor: pointer;\n",
              "      display: none;\n",
              "      fill: #1967D2;\n",
              "      height: 32px;\n",
              "      padding: 0 0 0 0;\n",
              "      width: 32px;\n",
              "    }\n",
              "\n",
              "    .colab-df-convert:hover {\n",
              "      background-color: #E2EBFA;\n",
              "      box-shadow: 0px 1px 2px rgba(60, 64, 67, 0.3), 0px 1px 3px 1px rgba(60, 64, 67, 0.15);\n",
              "      fill: #174EA6;\n",
              "    }\n",
              "\n",
              "    .colab-df-buttons div {\n",
              "      margin-bottom: 4px;\n",
              "    }\n",
              "\n",
              "    [theme=dark] .colab-df-convert {\n",
              "      background-color: #3B4455;\n",
              "      fill: #D2E3FC;\n",
              "    }\n",
              "\n",
              "    [theme=dark] .colab-df-convert:hover {\n",
              "      background-color: #434B5C;\n",
              "      box-shadow: 0px 1px 3px 1px rgba(0, 0, 0, 0.15);\n",
              "      filter: drop-shadow(0px 1px 2px rgba(0, 0, 0, 0.3));\n",
              "      fill: #FFFFFF;\n",
              "    }\n",
              "  </style>\n",
              "\n",
              "    <script>\n",
              "      const buttonEl =\n",
              "        document.querySelector('#df-ad923fd2-5519-4957-9f7b-1742808c74e2 button.colab-df-convert');\n",
              "      buttonEl.style.display =\n",
              "        google.colab.kernel.accessAllowed ? 'block' : 'none';\n",
              "\n",
              "      async function convertToInteractive(key) {\n",
              "        const element = document.querySelector('#df-ad923fd2-5519-4957-9f7b-1742808c74e2');\n",
              "        const dataTable =\n",
              "          await google.colab.kernel.invokeFunction('convertToInteractive',\n",
              "                                                    [key], {});\n",
              "        if (!dataTable) return;\n",
              "\n",
              "        const docLinkHtml = 'Like what you see? Visit the ' +\n",
              "          '<a target=\"_blank\" href=https://colab.research.google.com/notebooks/data_table.ipynb>data table notebook</a>'\n",
              "          + ' to learn more about interactive tables.';\n",
              "        element.innerHTML = '';\n",
              "        dataTable['output_type'] = 'display_data';\n",
              "        await google.colab.output.renderOutput(dataTable, element);\n",
              "        const docLink = document.createElement('div');\n",
              "        docLink.innerHTML = docLinkHtml;\n",
              "        element.appendChild(docLink);\n",
              "      }\n",
              "    </script>\n",
              "  </div>\n",
              "\n",
              "\n",
              "    <div id=\"df-624751f3-1fd9-4d06-bcca-8fd991fba3b2\">\n",
              "      <button class=\"colab-df-quickchart\" onclick=\"quickchart('df-624751f3-1fd9-4d06-bcca-8fd991fba3b2')\"\n",
              "                title=\"Suggest charts\"\n",
              "                style=\"display:none;\">\n",
              "\n",
              "<svg xmlns=\"http://www.w3.org/2000/svg\" height=\"24px\"viewBox=\"0 0 24 24\"\n",
              "     width=\"24px\">\n",
              "    <g>\n",
              "        <path d=\"M19 3H5c-1.1 0-2 .9-2 2v14c0 1.1.9 2 2 2h14c1.1 0 2-.9 2-2V5c0-1.1-.9-2-2-2zM9 17H7v-7h2v7zm4 0h-2V7h2v10zm4 0h-2v-4h2v4z\"/>\n",
              "    </g>\n",
              "</svg>\n",
              "      </button>\n",
              "\n",
              "<style>\n",
              "  .colab-df-quickchart {\n",
              "      --bg-color: #E8F0FE;\n",
              "      --fill-color: #1967D2;\n",
              "      --hover-bg-color: #E2EBFA;\n",
              "      --hover-fill-color: #174EA6;\n",
              "      --disabled-fill-color: #AAA;\n",
              "      --disabled-bg-color: #DDD;\n",
              "  }\n",
              "\n",
              "  [theme=dark] .colab-df-quickchart {\n",
              "      --bg-color: #3B4455;\n",
              "      --fill-color: #D2E3FC;\n",
              "      --hover-bg-color: #434B5C;\n",
              "      --hover-fill-color: #FFFFFF;\n",
              "      --disabled-bg-color: #3B4455;\n",
              "      --disabled-fill-color: #666;\n",
              "  }\n",
              "\n",
              "  .colab-df-quickchart {\n",
              "    background-color: var(--bg-color);\n",
              "    border: none;\n",
              "    border-radius: 50%;\n",
              "    cursor: pointer;\n",
              "    display: none;\n",
              "    fill: var(--fill-color);\n",
              "    height: 32px;\n",
              "    padding: 0;\n",
              "    width: 32px;\n",
              "  }\n",
              "\n",
              "  .colab-df-quickchart:hover {\n",
              "    background-color: var(--hover-bg-color);\n",
              "    box-shadow: 0 1px 2px rgba(60, 64, 67, 0.3), 0 1px 3px 1px rgba(60, 64, 67, 0.15);\n",
              "    fill: var(--button-hover-fill-color);\n",
              "  }\n",
              "\n",
              "  .colab-df-quickchart-complete:disabled,\n",
              "  .colab-df-quickchart-complete:disabled:hover {\n",
              "    background-color: var(--disabled-bg-color);\n",
              "    fill: var(--disabled-fill-color);\n",
              "    box-shadow: none;\n",
              "  }\n",
              "\n",
              "  .colab-df-spinner {\n",
              "    border: 2px solid var(--fill-color);\n",
              "    border-color: transparent;\n",
              "    border-bottom-color: var(--fill-color);\n",
              "    animation:\n",
              "      spin 1s steps(1) infinite;\n",
              "  }\n",
              "\n",
              "  @keyframes spin {\n",
              "    0% {\n",
              "      border-color: transparent;\n",
              "      border-bottom-color: var(--fill-color);\n",
              "      border-left-color: var(--fill-color);\n",
              "    }\n",
              "    20% {\n",
              "      border-color: transparent;\n",
              "      border-left-color: var(--fill-color);\n",
              "      border-top-color: var(--fill-color);\n",
              "    }\n",
              "    30% {\n",
              "      border-color: transparent;\n",
              "      border-left-color: var(--fill-color);\n",
              "      border-top-color: var(--fill-color);\n",
              "      border-right-color: var(--fill-color);\n",
              "    }\n",
              "    40% {\n",
              "      border-color: transparent;\n",
              "      border-right-color: var(--fill-color);\n",
              "      border-top-color: var(--fill-color);\n",
              "    }\n",
              "    60% {\n",
              "      border-color: transparent;\n",
              "      border-right-color: var(--fill-color);\n",
              "    }\n",
              "    80% {\n",
              "      border-color: transparent;\n",
              "      border-right-color: var(--fill-color);\n",
              "      border-bottom-color: var(--fill-color);\n",
              "    }\n",
              "    90% {\n",
              "      border-color: transparent;\n",
              "      border-bottom-color: var(--fill-color);\n",
              "    }\n",
              "  }\n",
              "</style>\n",
              "\n",
              "      <script>\n",
              "        async function quickchart(key) {\n",
              "          const quickchartButtonEl =\n",
              "            document.querySelector('#' + key + ' button');\n",
              "          quickchartButtonEl.disabled = true;  // To prevent multiple clicks.\n",
              "          quickchartButtonEl.classList.add('colab-df-spinner');\n",
              "          try {\n",
              "            const charts = await google.colab.kernel.invokeFunction(\n",
              "                'suggestCharts', [key], {});\n",
              "          } catch (error) {\n",
              "            console.error('Error during call to suggestCharts:', error);\n",
              "          }\n",
              "          quickchartButtonEl.classList.remove('colab-df-spinner');\n",
              "          quickchartButtonEl.classList.add('colab-df-quickchart-complete');\n",
              "        }\n",
              "        (() => {\n",
              "          let quickchartButtonEl =\n",
              "            document.querySelector('#df-624751f3-1fd9-4d06-bcca-8fd991fba3b2 button');\n",
              "          quickchartButtonEl.style.display =\n",
              "            google.colab.kernel.accessAllowed ? 'block' : 'none';\n",
              "        })();\n",
              "      </script>\n",
              "    </div>\n",
              "\n",
              "    </div>\n",
              "  </div>\n"
            ],
            "application/vnd.google.colaboratory.intrinsic+json": {
              "type": "dataframe",
              "variable_name": "df",
              "summary": "{\n  \"name\": \"df\",\n  \"rows\": 9994,\n  \"fields\": [\n    {\n      \"column\": \"Row ID\",\n      \"properties\": {\n        \"dtype\": \"number\",\n        \"std\": 2885,\n        \"min\": 1,\n        \"max\": 9994,\n        \"num_unique_values\": 9994,\n        \"samples\": [\n          3126,\n          1442,\n          4511\n        ],\n        \"semantic_type\": \"\",\n        \"description\": \"\"\n      }\n    },\n    {\n      \"column\": \"Order ID\",\n      \"properties\": {\n        \"dtype\": \"string\",\n        \"num_unique_values\": 5009,\n        \"samples\": [\n          \"EMEA-2022-120796\",\n          \"AMER-2020-141901\",\n          \"EMEA-2023-101273\"\n        ],\n        \"semantic_type\": \"\",\n        \"description\": \"\"\n      }\n    },\n    {\n      \"column\": \"Order Date\",\n      \"properties\": {\n        \"dtype\": \"object\",\n        \"num_unique_values\": 1237,\n        \"samples\": [\n          \"12/30/2023\",\n          \"12/19/2020\",\n          \"3/26/2022\"\n        ],\n        \"semantic_type\": \"\",\n        \"description\": \"\"\n      }\n    },\n    {\n      \"column\": \"Date Key\",\n      \"properties\": {\n        \"dtype\": \"number\",\n        \"std\": 11238,\n        \"min\": 20200104,\n        \"max\": 20231231,\n        \"num_unique_values\": 1237,\n        \"samples\": [\n          20231230,\n          20201219,\n          20220326\n        ],\n        \"semantic_type\": \"\",\n        \"description\": \"\"\n      }\n    },\n    {\n      \"column\": \"Contact Name\",\n      \"properties\": {\n        \"dtype\": \"category\",\n        \"num_unique_values\": 793,\n        \"samples\": [\n          \"Fiona Allan\",\n          \"Carol Forsyth\",\n          \"Victor Gill\"\n        ],\n        \"semantic_type\": \"\",\n        \"description\": \"\"\n      }\n    },\n    {\n      \"column\": \"Country\",\n      \"properties\": {\n        \"dtype\": \"category\",\n        \"num_unique_values\": 48,\n        \"samples\": [\n          \"New Zealand\",\n          \"Indonesia\",\n          \"Singapore\"\n        ],\n        \"semantic_type\": \"\",\n        \"description\": \"\"\n      }\n    },\n    {\n      \"column\": \"City\",\n      \"properties\": {\n        \"dtype\": \"category\",\n        \"num_unique_values\": 262,\n        \"samples\": [\n          \"Victoria\",\n          \"Busan\",\n          \"Houston\"\n        ],\n        \"semantic_type\": \"\",\n        \"description\": \"\"\n      }\n    },\n    {\n      \"column\": \"Region\",\n      \"properties\": {\n        \"dtype\": \"category\",\n        \"num_unique_values\": 3,\n        \"samples\": [\n          \"EMEA\",\n          \"AMER\",\n          \"APJ\"\n        ],\n        \"semantic_type\": \"\",\n        \"description\": \"\"\n      }\n    },\n    {\n      \"column\": \"Subregion\",\n      \"properties\": {\n        \"dtype\": \"category\",\n        \"num_unique_values\": 12,\n        \"samples\": [\n          \"IND\",\n          \"APAC\",\n          \"UKIR\"\n        ],\n        \"semantic_type\": \"\",\n        \"description\": \"\"\n      }\n    },\n    {\n      \"column\": \"Customer\",\n      \"properties\": {\n        \"dtype\": \"category\",\n        \"num_unique_values\": 99,\n        \"samples\": [\n          \"BMW\",\n          \"Trafigura Group\",\n          \"Caterpillar\"\n        ],\n        \"semantic_type\": \"\",\n        \"description\": \"\"\n      }\n    },\n    {\n      \"column\": \"Customer ID\",\n      \"properties\": {\n        \"dtype\": \"number\",\n        \"std\": 29,\n        \"min\": 1001,\n        \"max\": 1101,\n        \"num_unique_values\": 99,\n        \"samples\": [\n          1039,\n          1100,\n          1016\n        ],\n        \"semantic_type\": \"\",\n        \"description\": \"\"\n      }\n    },\n    {\n      \"column\": \"Industry\",\n      \"properties\": {\n        \"dtype\": \"category\",\n        \"num_unique_values\": 10,\n        \"samples\": [\n          \"Transportation\",\n          \"Finance\",\n          \"Retail\"\n        ],\n        \"semantic_type\": \"\",\n        \"description\": \"\"\n      }\n    },\n    {\n      \"column\": \"Segment\",\n      \"properties\": {\n        \"dtype\": \"category\",\n        \"num_unique_values\": 3,\n        \"samples\": [\n          \"SMB\",\n          \"Strategic\",\n          \"Enterprise\"\n        ],\n        \"semantic_type\": \"\",\n        \"description\": \"\"\n      }\n    },\n    {\n      \"column\": \"Product\",\n      \"properties\": {\n        \"dtype\": \"category\",\n        \"num_unique_values\": 14,\n        \"samples\": [\n          \"Data Smasher\",\n          \"Storage\",\n          \"Marketing Suite\"\n        ],\n        \"semantic_type\": \"\",\n        \"description\": \"\"\n      }\n    },\n    {\n      \"column\": \"License\",\n      \"properties\": {\n        \"dtype\": \"string\",\n        \"num_unique_values\": 9994,\n        \"samples\": [\n          \"WPVBJ3CN6D\",\n          \"TOEP09HQQ5\",\n          \"UMJ8N3NSFN\"\n        ],\n        \"semantic_type\": \"\",\n        \"description\": \"\"\n      }\n    },\n    {\n      \"column\": \"Sales\",\n      \"properties\": {\n        \"dtype\": \"number\",\n        \"std\": 623.2451005086818,\n        \"min\": 0.444,\n        \"max\": 22638.48,\n        \"num_unique_values\": 5825,\n        \"samples\": [\n          2624.985,\n          84.416,\n          30.28\n        ],\n        \"semantic_type\": \"\",\n        \"description\": \"\"\n      }\n    },\n    {\n      \"column\": \"Quantity\",\n      \"properties\": {\n        \"dtype\": \"number\",\n        \"std\": 2,\n        \"min\": 1,\n        \"max\": 14,\n        \"num_unique_values\": 14,\n        \"samples\": [\n          14,\n          13,\n          2\n        ],\n        \"semantic_type\": \"\",\n        \"description\": \"\"\n      }\n    },\n    {\n      \"column\": \"Discount\",\n      \"properties\": {\n        \"dtype\": \"number\",\n        \"std\": 0.2064519678256984,\n        \"min\": 0.0,\n        \"max\": 0.8,\n        \"num_unique_values\": 12,\n        \"samples\": [\n          0.4,\n          0.1,\n          0.0\n        ],\n        \"semantic_type\": \"\",\n        \"description\": \"\"\n      }\n    },\n    {\n      \"column\": \"Profit\",\n      \"properties\": {\n        \"dtype\": \"number\",\n        \"std\": 234.26010769095757,\n        \"min\": -6599.978,\n        \"max\": 8399.976,\n        \"num_unique_values\": 7287,\n        \"samples\": [\n          -183.6324,\n          1.926,\n          144.3546\n        ],\n        \"semantic_type\": \"\",\n        \"description\": \"\"\n      }\n    }\n  ]\n}"
            }
          },
          "metadata": {},
          "execution_count": 10
        }
      ]
    },
    {
      "cell_type": "code",
      "source": [
        "#4️⃣\n",
        "file = \"SaaS-Sales.csv\"\n",
        "table_name = os.path.splitext(os.path.basename(file))[0]"
      ],
      "metadata": {
        "id": "95xbQIjJgsd8"
      },
      "execution_count": null,
      "outputs": []
    },
    {
      "cell_type": "code",
      "source": [
        "# 5️⃣ Create / connect to SQLite DB\n",
        "db_name = 'SaaS_Company.db'\n",
        "conn = sqlite3.connect(db_name)\n",
        "\n",
        "try:\n",
        "    # Insert into SQL\n",
        "    df.to_sql(table_name, conn, if_exists='replace', index=False)\n",
        "    print(f\"✅ Inserted {len(df)} rows into table '{table_name}'\")\n",
        "except Exception as e:\n",
        "    print(f\"❌ Error loading {file}: {e}\")\n",
        "\n",
        "# Commit & close\n",
        "conn.commit()\n",
        "conn.close()\n"
      ],
      "metadata": {
        "colab": {
          "base_uri": "https://localhost:8080/"
        },
        "id": "9CkMs-jofkFH",
        "outputId": "6575b7ba-c0b3-4b47-c93e-30af6ae9e79c"
      },
      "execution_count": null,
      "outputs": [
        {
          "output_type": "stream",
          "name": "stdout",
          "text": [
            "✅ Inserted 9994 rows into table 'SaaS-Sales'\n"
          ]
        }
      ]
    },
    {
      "cell_type": "code",
      "source": [
        "# 6️⃣ Connect with %sql magic\n",
        "%load_ext sql\n",
        "%sql sqlite:///SaaS_Company.db\n",
        "print(\"\\n✅ Setup complete! Use %sql to query your tables.\")"
      ],
      "metadata": {
        "colab": {
          "base_uri": "https://localhost:8080/"
        },
        "id": "GbYQu59MhE01",
        "outputId": "5df7c92e-1ed9-43b8-dde7-4c8f90110809"
      },
      "execution_count": null,
      "outputs": [
        {
          "output_type": "stream",
          "name": "stdout",
          "text": [
            "\n",
            "✅ Setup complete! Use %sql to query your tables.\n"
          ]
        }
      ]
    },
    {
      "cell_type": "code",
      "source": [
        "%%sql\n",
        "ALTER TABLE \"SaaS-Sales\" RENAME TO SaaS_Sales;"
      ],
      "metadata": {
        "colab": {
          "base_uri": "https://localhost:8080/"
        },
        "id": "Uiz40q36jBH-",
        "outputId": "540c7843-2479-4c21-a8d5-5376e1766b4d"
      },
      "execution_count": null,
      "outputs": [
        {
          "output_type": "stream",
          "name": "stdout",
          "text": [
            " * sqlite:///SaaS_Company.db\n",
            "   sqlite:///{db_name}\n",
            "Done.\n"
          ]
        },
        {
          "output_type": "execute_result",
          "data": {
            "text/plain": [
              "[]"
            ]
          },
          "metadata": {},
          "execution_count": 14
        }
      ]
    },
    {
      "cell_type": "code",
      "source": [
        "# Import necessary libraries\n",
        "import numpy as np\n",
        "import pandas as pd\n",
        "import matplotlib.pyplot as plt\n",
        "import seaborn as sns\n",
        "# import squarify\n",
        "from geopy.geocoders import Nominatim\n",
        "import folium\n",
        "from scipy.stats import shapiro\n",
        "from scipy.stats import chi2_contingency"
      ],
      "metadata": {
        "id": "wQl0wtdhe0hW"
      },
      "execution_count": null,
      "outputs": []
    },
    {
      "cell_type": "markdown",
      "source": [
        "# **Data Preprocesing**"
      ],
      "metadata": {
        "id": "3Ns1uDwLbcZe"
      }
    },
    {
      "cell_type": "markdown",
      "source": [
        "## Dataset Description\n",
        "\n",
        "This dataset contains **transaction data** from a SaaS company selling **sales and marketing software** to other companies (B2B). Each row represents a single transaction/order (9,994 transactions), and the columns include:\n",
        "\n",
        "- **Row ID:** A unique identifier for each transaction.  \n",
        "- **Order ID:** A unique identifier for each order.  \n",
        "- **Order Date:** The date when the order was placed.  \n",
        "- **Date Key:** A numerical representation of the order date (YYYYMMDD).  \n",
        "- **Contact Name:** The name of the person who placed the order.  \n",
        "- **Country:** The country where the order was placed.  \n",
        "- **City:** The city where the order was placed.  \n",
        "- **Region:** The region where the order was placed.  \n",
        "- **Subregion:** The subregion where the order was placed.  \n",
        "- **Customer:** The name of the company that placed the order.  \n",
        "- **Customer ID:** A unique identifier for each customer.  \n",
        "- **Industry:** The industry the customer belongs to.  \n",
        "- **Segment:** The customer segment (SMB, Strategic, Enterprise, etc.).  \n",
        "- **Product:** The product that was ordered.  \n",
        "- **License:** The license key for the product.  \n",
        "- **Sales:** The total sales amount for the transaction.  \n",
        "- **Quantity:** The total number of items in the transaction.  \n",
        "- **Discount:** The discount applied to the transaction.  \n",
        "- **Profit:** The profit from the transaction.\n"
      ],
      "metadata": {
        "id": "krtvl8BgbF3c"
      }
    },
    {
      "cell_type": "markdown",
      "source": [
        "## **Data Preprocesing - Data Types**"
      ],
      "metadata": {
        "id": "Cg1JSvSWbgPs"
      }
    },
    {
      "cell_type": "code",
      "source": [
        "# Getting Data Information:\n",
        "%%sql\n",
        "PRAGMA table_info(SaaS_Sales);"
      ],
      "metadata": {
        "colab": {
          "base_uri": "https://localhost:8080/",
          "height": 490
        },
        "id": "EUWl_SGKjX9e",
        "outputId": "4de67e55-f650-44f0-9f2b-5fa8ec080849"
      },
      "execution_count": null,
      "outputs": [
        {
          "output_type": "stream",
          "name": "stdout",
          "text": [
            " * sqlite:///SaaS_Company.db\n",
            "   sqlite:///{db_name}\n",
            "Done.\n"
          ]
        },
        {
          "output_type": "execute_result",
          "data": {
            "text/plain": [
              "[(0, 'Row ID', 'INTEGER', 0, None, 0),\n",
              " (1, 'Order ID', 'TEXT', 0, None, 0),\n",
              " (2, 'Order Date', 'TEXT', 0, None, 0),\n",
              " (3, 'Date Key', 'INTEGER', 0, None, 0),\n",
              " (4, 'Contact Name', 'TEXT', 0, None, 0),\n",
              " (5, 'Country', 'TEXT', 0, None, 0),\n",
              " (6, 'City', 'TEXT', 0, None, 0),\n",
              " (7, 'Region', 'TEXT', 0, None, 0),\n",
              " (8, 'Subregion', 'TEXT', 0, None, 0),\n",
              " (9, 'Customer', 'TEXT', 0, None, 0),\n",
              " (10, 'Customer ID', 'INTEGER', 0, None, 0),\n",
              " (11, 'Industry', 'TEXT', 0, None, 0),\n",
              " (12, 'Segment', 'TEXT', 0, None, 0),\n",
              " (13, 'Product', 'TEXT', 0, None, 0),\n",
              " (14, 'License', 'TEXT', 0, None, 0),\n",
              " (15, 'Sales', 'REAL', 0, None, 0),\n",
              " (16, 'Quantity', 'INTEGER', 0, None, 0),\n",
              " (17, 'Discount', 'REAL', 0, None, 0),\n",
              " (18, 'Profit', 'REAL', 0, None, 0)]"
            ],
            "text/html": [
              "<table>\n",
              "    <thead>\n",
              "        <tr>\n",
              "            <th>cid</th>\n",
              "            <th>name</th>\n",
              "            <th>type</th>\n",
              "            <th>notnull</th>\n",
              "            <th>dflt_value</th>\n",
              "            <th>pk</th>\n",
              "        </tr>\n",
              "    </thead>\n",
              "    <tbody>\n",
              "        <tr>\n",
              "            <td>0</td>\n",
              "            <td>Row ID</td>\n",
              "            <td>INTEGER</td>\n",
              "            <td>0</td>\n",
              "            <td>None</td>\n",
              "            <td>0</td>\n",
              "        </tr>\n",
              "        <tr>\n",
              "            <td>1</td>\n",
              "            <td>Order ID</td>\n",
              "            <td>TEXT</td>\n",
              "            <td>0</td>\n",
              "            <td>None</td>\n",
              "            <td>0</td>\n",
              "        </tr>\n",
              "        <tr>\n",
              "            <td>2</td>\n",
              "            <td>Order Date</td>\n",
              "            <td>TEXT</td>\n",
              "            <td>0</td>\n",
              "            <td>None</td>\n",
              "            <td>0</td>\n",
              "        </tr>\n",
              "        <tr>\n",
              "            <td>3</td>\n",
              "            <td>Date Key</td>\n",
              "            <td>INTEGER</td>\n",
              "            <td>0</td>\n",
              "            <td>None</td>\n",
              "            <td>0</td>\n",
              "        </tr>\n",
              "        <tr>\n",
              "            <td>4</td>\n",
              "            <td>Contact Name</td>\n",
              "            <td>TEXT</td>\n",
              "            <td>0</td>\n",
              "            <td>None</td>\n",
              "            <td>0</td>\n",
              "        </tr>\n",
              "        <tr>\n",
              "            <td>5</td>\n",
              "            <td>Country</td>\n",
              "            <td>TEXT</td>\n",
              "            <td>0</td>\n",
              "            <td>None</td>\n",
              "            <td>0</td>\n",
              "        </tr>\n",
              "        <tr>\n",
              "            <td>6</td>\n",
              "            <td>City</td>\n",
              "            <td>TEXT</td>\n",
              "            <td>0</td>\n",
              "            <td>None</td>\n",
              "            <td>0</td>\n",
              "        </tr>\n",
              "        <tr>\n",
              "            <td>7</td>\n",
              "            <td>Region</td>\n",
              "            <td>TEXT</td>\n",
              "            <td>0</td>\n",
              "            <td>None</td>\n",
              "            <td>0</td>\n",
              "        </tr>\n",
              "        <tr>\n",
              "            <td>8</td>\n",
              "            <td>Subregion</td>\n",
              "            <td>TEXT</td>\n",
              "            <td>0</td>\n",
              "            <td>None</td>\n",
              "            <td>0</td>\n",
              "        </tr>\n",
              "        <tr>\n",
              "            <td>9</td>\n",
              "            <td>Customer</td>\n",
              "            <td>TEXT</td>\n",
              "            <td>0</td>\n",
              "            <td>None</td>\n",
              "            <td>0</td>\n",
              "        </tr>\n",
              "        <tr>\n",
              "            <td>10</td>\n",
              "            <td>Customer ID</td>\n",
              "            <td>INTEGER</td>\n",
              "            <td>0</td>\n",
              "            <td>None</td>\n",
              "            <td>0</td>\n",
              "        </tr>\n",
              "        <tr>\n",
              "            <td>11</td>\n",
              "            <td>Industry</td>\n",
              "            <td>TEXT</td>\n",
              "            <td>0</td>\n",
              "            <td>None</td>\n",
              "            <td>0</td>\n",
              "        </tr>\n",
              "        <tr>\n",
              "            <td>12</td>\n",
              "            <td>Segment</td>\n",
              "            <td>TEXT</td>\n",
              "            <td>0</td>\n",
              "            <td>None</td>\n",
              "            <td>0</td>\n",
              "        </tr>\n",
              "        <tr>\n",
              "            <td>13</td>\n",
              "            <td>Product</td>\n",
              "            <td>TEXT</td>\n",
              "            <td>0</td>\n",
              "            <td>None</td>\n",
              "            <td>0</td>\n",
              "        </tr>\n",
              "        <tr>\n",
              "            <td>14</td>\n",
              "            <td>License</td>\n",
              "            <td>TEXT</td>\n",
              "            <td>0</td>\n",
              "            <td>None</td>\n",
              "            <td>0</td>\n",
              "        </tr>\n",
              "        <tr>\n",
              "            <td>15</td>\n",
              "            <td>Sales</td>\n",
              "            <td>REAL</td>\n",
              "            <td>0</td>\n",
              "            <td>None</td>\n",
              "            <td>0</td>\n",
              "        </tr>\n",
              "        <tr>\n",
              "            <td>16</td>\n",
              "            <td>Quantity</td>\n",
              "            <td>INTEGER</td>\n",
              "            <td>0</td>\n",
              "            <td>None</td>\n",
              "            <td>0</td>\n",
              "        </tr>\n",
              "        <tr>\n",
              "            <td>17</td>\n",
              "            <td>Discount</td>\n",
              "            <td>REAL</td>\n",
              "            <td>0</td>\n",
              "            <td>None</td>\n",
              "            <td>0</td>\n",
              "        </tr>\n",
              "        <tr>\n",
              "            <td>18</td>\n",
              "            <td>Profit</td>\n",
              "            <td>REAL</td>\n",
              "            <td>0</td>\n",
              "            <td>None</td>\n",
              "            <td>0</td>\n",
              "        </tr>\n",
              "    </tbody>\n",
              "</table>"
            ]
          },
          "metadata": {},
          "execution_count": 16
        }
      ]
    },
    {
      "cell_type": "code",
      "source": [
        "# - Some cloumns have space in thier name. Lets rename those columns.\n",
        "%%sql\n",
        "ALTER TABLE SaaS_Sales\n",
        "RENAME column \"Customer ID\" TO Customer_ID ;"
      ],
      "metadata": {
        "colab": {
          "base_uri": "https://localhost:8080/"
        },
        "collapsed": true,
        "id": "NyUad7IVs7IM",
        "outputId": "079a427c-5a2c-4583-89b9-216fe5e95e46"
      },
      "execution_count": null,
      "outputs": [
        {
          "output_type": "stream",
          "name": "stdout",
          "text": [
            " * sqlite:///SaaS_Company.db\n",
            "   sqlite:///{db_name}\n",
            "Done.\n"
          ]
        },
        {
          "output_type": "execute_result",
          "data": {
            "text/plain": [
              "[]"
            ]
          },
          "metadata": {},
          "execution_count": 40
        }
      ]
    },
    {
      "cell_type": "code",
      "source": [
        "%%sql\n",
        "ALTER TABLE SaaS_Sales\n",
        "RENAME column \"Row ID\" TO Row_ID ;"
      ],
      "metadata": {
        "colab": {
          "base_uri": "https://localhost:8080/"
        },
        "id": "Mb64p5xatyW2",
        "outputId": "3236f656-f882-426a-cf6d-e7353aaeded8"
      },
      "execution_count": null,
      "outputs": [
        {
          "output_type": "stream",
          "name": "stdout",
          "text": [
            " * sqlite:///SaaS_Company.db\n",
            "   sqlite:///{db_name}\n",
            "Done.\n"
          ]
        },
        {
          "output_type": "execute_result",
          "data": {
            "text/plain": [
              "[]"
            ]
          },
          "metadata": {},
          "execution_count": 41
        }
      ]
    },
    {
      "cell_type": "code",
      "source": [
        "%%sql\n",
        "ALTER TABLE SaaS_Sales\n",
        "RENAME column \"Order ID\" TO Order_ID ;"
      ],
      "metadata": {
        "colab": {
          "base_uri": "https://localhost:8080/"
        },
        "id": "ceffRFBjty94",
        "outputId": "9c50298c-6280-42c3-8883-7dc9621ea3b5"
      },
      "execution_count": null,
      "outputs": [
        {
          "output_type": "stream",
          "name": "stdout",
          "text": [
            " * sqlite:///SaaS_Company.db\n",
            "   sqlite:///{db_name}\n",
            "Done.\n"
          ]
        },
        {
          "output_type": "execute_result",
          "data": {
            "text/plain": [
              "[]"
            ]
          },
          "metadata": {},
          "execution_count": 42
        }
      ]
    },
    {
      "cell_type": "code",
      "source": [
        "%%sql\n",
        "ALTER TABLE SaaS_Sales\n",
        "RENAME column \"Order Date\" TO Order_Date ;"
      ],
      "metadata": {
        "colab": {
          "base_uri": "https://localhost:8080/"
        },
        "id": "3idn0uvlt2bs",
        "outputId": "2946db33-38df-4daa-ffa6-0f6ea04d397c"
      },
      "execution_count": null,
      "outputs": [
        {
          "output_type": "stream",
          "name": "stdout",
          "text": [
            " * sqlite:///SaaS_Company.db\n",
            "   sqlite:///{db_name}\n",
            "Done.\n"
          ]
        },
        {
          "output_type": "execute_result",
          "data": {
            "text/plain": [
              "[]"
            ]
          },
          "metadata": {},
          "execution_count": 43
        }
      ]
    },
    {
      "cell_type": "code",
      "source": [
        "%%sql\n",
        "ALTER TABLE SaaS_Sales\n",
        "RENAME column \"Date Key\" TO \tDate_Key ;"
      ],
      "metadata": {
        "colab": {
          "base_uri": "https://localhost:8080/"
        },
        "id": "AtHsPdeZt29N",
        "outputId": "90526ce4-b636-4fd1-eff2-0638db6188b0"
      },
      "execution_count": null,
      "outputs": [
        {
          "output_type": "stream",
          "name": "stdout",
          "text": [
            " * sqlite:///SaaS_Company.db\n",
            "   sqlite:///{db_name}\n",
            "Done.\n"
          ]
        },
        {
          "output_type": "execute_result",
          "data": {
            "text/plain": [
              "[]"
            ]
          },
          "metadata": {},
          "execution_count": 45
        }
      ]
    },
    {
      "cell_type": "code",
      "source": [
        "%%sql\n",
        "ALTER TABLE SaaS_Sales\n",
        "RENAME column \"Contact Name\" TO Contact_Name ;"
      ],
      "metadata": {
        "colab": {
          "base_uri": "https://localhost:8080/"
        },
        "id": "KTU1kKZ9t3g5",
        "outputId": "ee889efa-7569-4a24-9bbe-c4d34bbf17b4"
      },
      "execution_count": null,
      "outputs": [
        {
          "output_type": "stream",
          "name": "stdout",
          "text": [
            " * sqlite:///SaaS_Company.db\n",
            "   sqlite:///{db_name}\n",
            "Done.\n"
          ]
        },
        {
          "output_type": "execute_result",
          "data": {
            "text/plain": [
              "[]"
            ]
          },
          "metadata": {},
          "execution_count": 46
        }
      ]
    },
    {
      "cell_type": "code",
      "source": [
        "%%sql\n",
        "select min(Order_Date) , Max(Order_Date) from SaaS_Sales_new;"
      ],
      "metadata": {
        "colab": {
          "base_uri": "https://localhost:8080/",
          "height": 95
        },
        "id": "8s_aEHv-CQ5b",
        "outputId": "6a918353-8291-485f-aafe-cbad4fc39136"
      },
      "execution_count": null,
      "outputs": [
        {
          "output_type": "stream",
          "name": "stdout",
          "text": [
            " * sqlite:///SaaS_Company.db\n",
            "Done.\n"
          ]
        },
        {
          "output_type": "execute_result",
          "data": {
            "text/plain": [
              "[('2020-01-04', '2023-12-31')]"
            ],
            "text/html": [
              "<table>\n",
              "    <thead>\n",
              "        <tr>\n",
              "            <th>min(Order_Date)</th>\n",
              "            <th>Max(Order_Date)</th>\n",
              "        </tr>\n",
              "    </thead>\n",
              "    <tbody>\n",
              "        <tr>\n",
              "            <td>2020-01-04</td>\n",
              "            <td>2023-12-31</td>\n",
              "        </tr>\n",
              "    </tbody>\n",
              "</table>"
            ]
          },
          "metadata": {},
          "execution_count": 53
        }
      ]
    },
    {
      "cell_type": "code",
      "source": [
        "# - Some columns has inappropriate data type, these columns need their type to be change as follows:\n",
        "#   -   Row ID      : int64     -> object\n",
        "#   -   Order Date  : object    -> datetime64[ns]\n",
        "#   -   Customer ID : int64     -> object\n",
        "# But usually, an ID is just a label/identifier, not something you want to do math on (Row ID & Customer ID)\n",
        "# For time-based analysis (sorting by date, calculating difference in days, filtering by month/year), we need proper datetime type.\n",
        "%%sql\n",
        "CREATE TABLE SaaS_Sales_new (\n",
        "    Row_ID TEXT,\n",
        "    Order_ID TEXT,\n",
        "    Order_Date DATE,\n",
        "    Date_Key TEXT,\n",
        "    Contact_Name TEXT,\n",
        "    Country TEXT,\n",
        "    City TEXT,\n",
        "    Region TEXT,\n",
        "    Subregion TEXT,\n",
        "    Customer TEXT,\n",
        "    Customer_ID TEXT,\n",
        "    Industry TEXT,\n",
        "    Segment TEXT,\n",
        "    Product TEXT,\n",
        "    License TEXT,\n",
        "    Sales REAL,\n",
        "    Quantity INTEGER,\n",
        "    Discount REAL,\n",
        "    Profit REAL\n",
        ");\n",
        "\n",
        "INSERT INTO SaaS_Sales_new\n",
        "SELECT\n",
        "    CAST(Row_ID AS TEXT),\n",
        "    Order_ID,\n",
        " date(\n",
        "        printf(\n",
        "            '%04d-%02d-%02d',\n",
        "            substr(Order_Date, length(Order_Date)-3, 4),                      -- year\n",
        "            substr('00'||substr(Order_Date, 1, instr(Order_Date,'/')-1), -2), -- month padded\n",
        "            substr(\n",
        "                '00'||substr(\n",
        "                    Order_Date,\n",
        "                    instr(Order_Date,'/')+1,\n",
        "                    instr(substr(Order_Date, instr(Order_Date,'/')+1),'/')-1\n",
        "                ), -2)                                                       -- day padded\n",
        "        )\n",
        "    ) AS Order_Date,\n",
        "    Date_Key,\n",
        "    Contact_Name,\n",
        "    Country,\n",
        "    City,\n",
        "    Region,\n",
        "    Subregion,\n",
        "    Customer,\n",
        "    CAST(Customer_ID AS TEXT),\n",
        "    Industry,\n",
        "    Segment,\n",
        "    Product,\n",
        "    License,\n",
        "    Sales,\n",
        "    Quantity,\n",
        "    Discount,\n",
        "    Profit\n",
        "FROM SaaS_Sales;\n"
      ],
      "metadata": {
        "colab": {
          "base_uri": "https://localhost:8080/"
        },
        "id": "4wo9v-qT8hS8",
        "outputId": "997426ef-f7eb-4452-c51d-d2dd4428e30d"
      },
      "execution_count": null,
      "outputs": [
        {
          "output_type": "stream",
          "name": "stdout",
          "text": [
            " * sqlite:///SaaS_Company.db\n",
            "Done.\n",
            "9994 rows affected.\n"
          ]
        },
        {
          "output_type": "execute_result",
          "data": {
            "text/plain": [
              "[]"
            ]
          },
          "metadata": {},
          "execution_count": 51
        }
      ]
    },
    {
      "cell_type": "code",
      "source": [
        "%%sql\n",
        "drop table SaaS_Sales;"
      ],
      "metadata": {
        "colab": {
          "base_uri": "https://localhost:8080/"
        },
        "id": "wGMyl6SC9Ja8",
        "outputId": "dc2194b2-6a1b-4bed-9cbb-0c7667e87c41"
      },
      "execution_count": null,
      "outputs": [
        {
          "output_type": "stream",
          "name": "stdout",
          "text": [
            " * sqlite:///SaaS_Company.db\n",
            "Done.\n"
          ]
        },
        {
          "output_type": "execute_result",
          "data": {
            "text/plain": [
              "[]"
            ]
          },
          "metadata": {},
          "execution_count": 56
        }
      ]
    },
    {
      "cell_type": "code",
      "source": [
        "%%sql\n",
        "ALTER TABLE SaaS_Sales_new RENAME TO SaaS_Sales;\n"
      ],
      "metadata": {
        "colab": {
          "base_uri": "https://localhost:8080/"
        },
        "id": "BmO8tIx_FffW",
        "outputId": "33033b1b-ea0b-445a-8451-335df42acb77"
      },
      "execution_count": null,
      "outputs": [
        {
          "output_type": "stream",
          "name": "stdout",
          "text": [
            " * sqlite:///SaaS_Company.db\n",
            "Done.\n"
          ]
        },
        {
          "output_type": "execute_result",
          "data": {
            "text/plain": [
              "[]"
            ]
          },
          "metadata": {},
          "execution_count": 57
        }
      ]
    },
    {
      "cell_type": "code",
      "source": [
        "%%sql\n",
        "PRAGMA table_info(SaaS_Sales);"
      ],
      "metadata": {
        "colab": {
          "base_uri": "https://localhost:8080/",
          "height": 472
        },
        "id": "5hTqJycJ8qcm",
        "outputId": "59b9cf7c-d4e9-4dd5-83f8-93511c891e20"
      },
      "execution_count": null,
      "outputs": [
        {
          "output_type": "stream",
          "name": "stdout",
          "text": [
            " * sqlite:///SaaS_Company.db\n",
            "Done.\n"
          ]
        },
        {
          "output_type": "execute_result",
          "data": {
            "text/plain": [
              "[(0, 'Row_ID', 'TEXT', 0, None, 0),\n",
              " (1, 'Order_ID', 'TEXT', 0, None, 0),\n",
              " (2, 'Order_Date', 'DATE', 0, None, 0),\n",
              " (3, 'Date_Key', 'TEXT', 0, None, 0),\n",
              " (4, 'Contact_Name', 'TEXT', 0, None, 0),\n",
              " (5, 'Country', 'TEXT', 0, None, 0),\n",
              " (6, 'City', 'TEXT', 0, None, 0),\n",
              " (7, 'Region', 'TEXT', 0, None, 0),\n",
              " (8, 'Subregion', 'TEXT', 0, None, 0),\n",
              " (9, 'Customer', 'TEXT', 0, None, 0),\n",
              " (10, 'Customer_ID', 'TEXT', 0, None, 0),\n",
              " (11, 'Industry', 'TEXT', 0, None, 0),\n",
              " (12, 'Segment', 'TEXT', 0, None, 0),\n",
              " (13, 'Product', 'TEXT', 0, None, 0),\n",
              " (14, 'License', 'TEXT', 0, None, 0),\n",
              " (15, 'Sales', 'REAL', 0, None, 0),\n",
              " (16, 'Quantity', 'INTEGER', 0, None, 0),\n",
              " (17, 'Discount', 'REAL', 0, None, 0),\n",
              " (18, 'Profit', 'REAL', 0, None, 0)]"
            ],
            "text/html": [
              "<table>\n",
              "    <thead>\n",
              "        <tr>\n",
              "            <th>cid</th>\n",
              "            <th>name</th>\n",
              "            <th>type</th>\n",
              "            <th>notnull</th>\n",
              "            <th>dflt_value</th>\n",
              "            <th>pk</th>\n",
              "        </tr>\n",
              "    </thead>\n",
              "    <tbody>\n",
              "        <tr>\n",
              "            <td>0</td>\n",
              "            <td>Row_ID</td>\n",
              "            <td>TEXT</td>\n",
              "            <td>0</td>\n",
              "            <td>None</td>\n",
              "            <td>0</td>\n",
              "        </tr>\n",
              "        <tr>\n",
              "            <td>1</td>\n",
              "            <td>Order_ID</td>\n",
              "            <td>TEXT</td>\n",
              "            <td>0</td>\n",
              "            <td>None</td>\n",
              "            <td>0</td>\n",
              "        </tr>\n",
              "        <tr>\n",
              "            <td>2</td>\n",
              "            <td>Order_Date</td>\n",
              "            <td>DATE</td>\n",
              "            <td>0</td>\n",
              "            <td>None</td>\n",
              "            <td>0</td>\n",
              "        </tr>\n",
              "        <tr>\n",
              "            <td>3</td>\n",
              "            <td>Date_Key</td>\n",
              "            <td>TEXT</td>\n",
              "            <td>0</td>\n",
              "            <td>None</td>\n",
              "            <td>0</td>\n",
              "        </tr>\n",
              "        <tr>\n",
              "            <td>4</td>\n",
              "            <td>Contact_Name</td>\n",
              "            <td>TEXT</td>\n",
              "            <td>0</td>\n",
              "            <td>None</td>\n",
              "            <td>0</td>\n",
              "        </tr>\n",
              "        <tr>\n",
              "            <td>5</td>\n",
              "            <td>Country</td>\n",
              "            <td>TEXT</td>\n",
              "            <td>0</td>\n",
              "            <td>None</td>\n",
              "            <td>0</td>\n",
              "        </tr>\n",
              "        <tr>\n",
              "            <td>6</td>\n",
              "            <td>City</td>\n",
              "            <td>TEXT</td>\n",
              "            <td>0</td>\n",
              "            <td>None</td>\n",
              "            <td>0</td>\n",
              "        </tr>\n",
              "        <tr>\n",
              "            <td>7</td>\n",
              "            <td>Region</td>\n",
              "            <td>TEXT</td>\n",
              "            <td>0</td>\n",
              "            <td>None</td>\n",
              "            <td>0</td>\n",
              "        </tr>\n",
              "        <tr>\n",
              "            <td>8</td>\n",
              "            <td>Subregion</td>\n",
              "            <td>TEXT</td>\n",
              "            <td>0</td>\n",
              "            <td>None</td>\n",
              "            <td>0</td>\n",
              "        </tr>\n",
              "        <tr>\n",
              "            <td>9</td>\n",
              "            <td>Customer</td>\n",
              "            <td>TEXT</td>\n",
              "            <td>0</td>\n",
              "            <td>None</td>\n",
              "            <td>0</td>\n",
              "        </tr>\n",
              "        <tr>\n",
              "            <td>10</td>\n",
              "            <td>Customer_ID</td>\n",
              "            <td>TEXT</td>\n",
              "            <td>0</td>\n",
              "            <td>None</td>\n",
              "            <td>0</td>\n",
              "        </tr>\n",
              "        <tr>\n",
              "            <td>11</td>\n",
              "            <td>Industry</td>\n",
              "            <td>TEXT</td>\n",
              "            <td>0</td>\n",
              "            <td>None</td>\n",
              "            <td>0</td>\n",
              "        </tr>\n",
              "        <tr>\n",
              "            <td>12</td>\n",
              "            <td>Segment</td>\n",
              "            <td>TEXT</td>\n",
              "            <td>0</td>\n",
              "            <td>None</td>\n",
              "            <td>0</td>\n",
              "        </tr>\n",
              "        <tr>\n",
              "            <td>13</td>\n",
              "            <td>Product</td>\n",
              "            <td>TEXT</td>\n",
              "            <td>0</td>\n",
              "            <td>None</td>\n",
              "            <td>0</td>\n",
              "        </tr>\n",
              "        <tr>\n",
              "            <td>14</td>\n",
              "            <td>License</td>\n",
              "            <td>TEXT</td>\n",
              "            <td>0</td>\n",
              "            <td>None</td>\n",
              "            <td>0</td>\n",
              "        </tr>\n",
              "        <tr>\n",
              "            <td>15</td>\n",
              "            <td>Sales</td>\n",
              "            <td>REAL</td>\n",
              "            <td>0</td>\n",
              "            <td>None</td>\n",
              "            <td>0</td>\n",
              "        </tr>\n",
              "        <tr>\n",
              "            <td>16</td>\n",
              "            <td>Quantity</td>\n",
              "            <td>INTEGER</td>\n",
              "            <td>0</td>\n",
              "            <td>None</td>\n",
              "            <td>0</td>\n",
              "        </tr>\n",
              "        <tr>\n",
              "            <td>17</td>\n",
              "            <td>Discount</td>\n",
              "            <td>REAL</td>\n",
              "            <td>0</td>\n",
              "            <td>None</td>\n",
              "            <td>0</td>\n",
              "        </tr>\n",
              "        <tr>\n",
              "            <td>18</td>\n",
              "            <td>Profit</td>\n",
              "            <td>REAL</td>\n",
              "            <td>0</td>\n",
              "            <td>None</td>\n",
              "            <td>0</td>\n",
              "        </tr>\n",
              "    </tbody>\n",
              "</table>"
            ]
          },
          "metadata": {},
          "execution_count": 58
        }
      ]
    },
    {
      "cell_type": "markdown",
      "source": [
        "## **Data Preprocesing - Mischaracterization**"
      ],
      "metadata": {
        "id": "J1yWC6skdOIW"
      }
    },
    {
      "cell_type": "code",
      "source": [
        "%%sql\n",
        "SELECT name\n",
        "FROM sqlite_master\n",
        "WHERE type='table';"
      ],
      "metadata": {
        "colab": {
          "base_uri": "https://localhost:8080/",
          "height": 113
        },
        "id": "6rZleWVniIS9",
        "outputId": "9f64388f-7d25-4ba0-eee8-9f2ff2211182",
        "collapsed": true
      },
      "execution_count": null,
      "outputs": [
        {
          "output_type": "stream",
          "name": "stdout",
          "text": [
            " * sqlite:///SaaS_Company.db\n",
            "   sqlite:///{db_name}\n",
            "Done.\n"
          ]
        },
        {
          "output_type": "execute_result",
          "data": {
            "text/plain": [
              "[('SaaS_Sales',)]"
            ],
            "text/html": [
              "<table>\n",
              "    <thead>\n",
              "        <tr>\n",
              "            <th>name</th>\n",
              "        </tr>\n",
              "    </thead>\n",
              "    <tbody>\n",
              "        <tr>\n",
              "            <td>SaaS_Sales</td>\n",
              "        </tr>\n",
              "    </tbody>\n",
              "</table>"
            ]
          },
          "metadata": {},
          "execution_count": 18
        }
      ]
    },
    {
      "cell_type": "code",
      "source": [
        "# Checking any mischaracterization in Country\n",
        "%%sql\n",
        "select distinct Country from  SaaS_Sales ;"
      ],
      "metadata": {
        "colab": {
          "base_uri": "https://localhost:8080/",
          "height": 1000
        },
        "collapsed": true,
        "id": "vPokH7LTfH7t",
        "outputId": "438bd574-05b6-4676-e815-01f5d3a405c4"
      },
      "execution_count": null,
      "outputs": [
        {
          "output_type": "stream",
          "name": "stdout",
          "text": [
            " * sqlite:///SaaS_Company.db\n",
            "   sqlite:///{db_name}\n",
            "Done.\n"
          ]
        },
        {
          "output_type": "execute_result",
          "data": {
            "text/plain": [
              "[('Ireland',),\n",
              " ('United States',),\n",
              " ('Germany',),\n",
              " ('Sweden',),\n",
              " ('Canada',),\n",
              " ('Japan',),\n",
              " ('Italy',),\n",
              " ('Turkey',),\n",
              " ('Costa Rica',),\n",
              " ('France',),\n",
              " ('Australia',),\n",
              " ('Luxembourg',),\n",
              " ('Brazil',),\n",
              " ('Philippines',),\n",
              " ('India',),\n",
              " ('United Kingdom',),\n",
              " ('Chile',),\n",
              " ('Spain',),\n",
              " ('South Africa',),\n",
              " ('Portugal',),\n",
              " ('Colombia',),\n",
              " ('Belgium',),\n",
              " ('Russia',),\n",
              " ('Netherlands',),\n",
              " ('Mexico',),\n",
              " ('Poland',),\n",
              " ('Singapore',),\n",
              " ('New Zealand',),\n",
              " ('Czech Republic',),\n",
              " ('Saudi Arabia',),\n",
              " ('Argentina',),\n",
              " ('South Korea',),\n",
              " ('Finland',),\n",
              " ('Israel',),\n",
              " ('Norway',),\n",
              " ('Ukraine',),\n",
              " ('United Arab Emirates',),\n",
              " ('Greece',),\n",
              " ('China',),\n",
              " ('Austria',),\n",
              " ('Indonesia',),\n",
              " ('Egypt',),\n",
              " ('Denmark',),\n",
              " ('Croatia',),\n",
              " ('Taiwan',),\n",
              " ('Qatar',),\n",
              " ('Slovenia',),\n",
              " ('Iceland',)]"
            ],
            "text/html": [
              "<table>\n",
              "    <thead>\n",
              "        <tr>\n",
              "            <th>Country</th>\n",
              "        </tr>\n",
              "    </thead>\n",
              "    <tbody>\n",
              "        <tr>\n",
              "            <td>Ireland</td>\n",
              "        </tr>\n",
              "        <tr>\n",
              "            <td>United States</td>\n",
              "        </tr>\n",
              "        <tr>\n",
              "            <td>Germany</td>\n",
              "        </tr>\n",
              "        <tr>\n",
              "            <td>Sweden</td>\n",
              "        </tr>\n",
              "        <tr>\n",
              "            <td>Canada</td>\n",
              "        </tr>\n",
              "        <tr>\n",
              "            <td>Japan</td>\n",
              "        </tr>\n",
              "        <tr>\n",
              "            <td>Italy</td>\n",
              "        </tr>\n",
              "        <tr>\n",
              "            <td>Turkey</td>\n",
              "        </tr>\n",
              "        <tr>\n",
              "            <td>Costa Rica</td>\n",
              "        </tr>\n",
              "        <tr>\n",
              "            <td>France</td>\n",
              "        </tr>\n",
              "        <tr>\n",
              "            <td>Australia</td>\n",
              "        </tr>\n",
              "        <tr>\n",
              "            <td>Luxembourg</td>\n",
              "        </tr>\n",
              "        <tr>\n",
              "            <td>Brazil</td>\n",
              "        </tr>\n",
              "        <tr>\n",
              "            <td>Philippines</td>\n",
              "        </tr>\n",
              "        <tr>\n",
              "            <td>India</td>\n",
              "        </tr>\n",
              "        <tr>\n",
              "            <td>United Kingdom</td>\n",
              "        </tr>\n",
              "        <tr>\n",
              "            <td>Chile</td>\n",
              "        </tr>\n",
              "        <tr>\n",
              "            <td>Spain</td>\n",
              "        </tr>\n",
              "        <tr>\n",
              "            <td>South Africa</td>\n",
              "        </tr>\n",
              "        <tr>\n",
              "            <td>Portugal</td>\n",
              "        </tr>\n",
              "        <tr>\n",
              "            <td>Colombia</td>\n",
              "        </tr>\n",
              "        <tr>\n",
              "            <td>Belgium</td>\n",
              "        </tr>\n",
              "        <tr>\n",
              "            <td>Russia</td>\n",
              "        </tr>\n",
              "        <tr>\n",
              "            <td>Netherlands</td>\n",
              "        </tr>\n",
              "        <tr>\n",
              "            <td>Mexico</td>\n",
              "        </tr>\n",
              "        <tr>\n",
              "            <td>Poland</td>\n",
              "        </tr>\n",
              "        <tr>\n",
              "            <td>Singapore</td>\n",
              "        </tr>\n",
              "        <tr>\n",
              "            <td>New Zealand</td>\n",
              "        </tr>\n",
              "        <tr>\n",
              "            <td>Czech Republic</td>\n",
              "        </tr>\n",
              "        <tr>\n",
              "            <td>Saudi Arabia</td>\n",
              "        </tr>\n",
              "        <tr>\n",
              "            <td>Argentina</td>\n",
              "        </tr>\n",
              "        <tr>\n",
              "            <td>South Korea</td>\n",
              "        </tr>\n",
              "        <tr>\n",
              "            <td>Finland</td>\n",
              "        </tr>\n",
              "        <tr>\n",
              "            <td>Israel</td>\n",
              "        </tr>\n",
              "        <tr>\n",
              "            <td>Norway</td>\n",
              "        </tr>\n",
              "        <tr>\n",
              "            <td>Ukraine</td>\n",
              "        </tr>\n",
              "        <tr>\n",
              "            <td>United Arab Emirates</td>\n",
              "        </tr>\n",
              "        <tr>\n",
              "            <td>Greece</td>\n",
              "        </tr>\n",
              "        <tr>\n",
              "            <td>China</td>\n",
              "        </tr>\n",
              "        <tr>\n",
              "            <td>Austria</td>\n",
              "        </tr>\n",
              "        <tr>\n",
              "            <td>Indonesia</td>\n",
              "        </tr>\n",
              "        <tr>\n",
              "            <td>Egypt</td>\n",
              "        </tr>\n",
              "        <tr>\n",
              "            <td>Denmark</td>\n",
              "        </tr>\n",
              "        <tr>\n",
              "            <td>Croatia</td>\n",
              "        </tr>\n",
              "        <tr>\n",
              "            <td>Taiwan</td>\n",
              "        </tr>\n",
              "        <tr>\n",
              "            <td>Qatar</td>\n",
              "        </tr>\n",
              "        <tr>\n",
              "            <td>Slovenia</td>\n",
              "        </tr>\n",
              "        <tr>\n",
              "            <td>Iceland</td>\n",
              "        </tr>\n",
              "    </tbody>\n",
              "</table>"
            ]
          },
          "metadata": {},
          "execution_count": 19
        }
      ]
    },
    {
      "cell_type": "code",
      "source": [
        "# Checking any mischaracterization in Segment\n",
        "%%sql\n",
        "select distinct Segment from  SaaS_Sales ;"
      ],
      "metadata": {
        "id": "p-aLrKTjlKy7",
        "colab": {
          "base_uri": "https://localhost:8080/",
          "height": 154
        },
        "collapsed": true,
        "outputId": "5714a765-e14b-46d4-c3e4-ac86b6b93cd4"
      },
      "execution_count": null,
      "outputs": [
        {
          "output_type": "stream",
          "name": "stdout",
          "text": [
            " * sqlite:///SaaS_Company.db\n",
            "   sqlite:///{db_name}\n",
            "Done.\n"
          ]
        },
        {
          "output_type": "execute_result",
          "data": {
            "text/plain": [
              "[('SMB',), ('Strategic',), ('Enterprise',)]"
            ],
            "text/html": [
              "<table>\n",
              "    <thead>\n",
              "        <tr>\n",
              "            <th>Segment</th>\n",
              "        </tr>\n",
              "    </thead>\n",
              "    <tbody>\n",
              "        <tr>\n",
              "            <td>SMB</td>\n",
              "        </tr>\n",
              "        <tr>\n",
              "            <td>Strategic</td>\n",
              "        </tr>\n",
              "        <tr>\n",
              "            <td>Enterprise</td>\n",
              "        </tr>\n",
              "    </tbody>\n",
              "</table>"
            ]
          },
          "metadata": {},
          "execution_count": 20
        }
      ]
    },
    {
      "cell_type": "code",
      "source": [
        "# Checking any mischaracterization in Product\n",
        "%%sql\n",
        "select distinct Product from  SaaS_Sales ;"
      ],
      "metadata": {
        "id": "-SpMcCE-lbrI",
        "colab": {
          "base_uri": "https://localhost:8080/",
          "height": 385
        },
        "collapsed": true,
        "outputId": "1a2ccee0-6da3-4541-9f2d-d51816e9254d"
      },
      "execution_count": null,
      "outputs": [
        {
          "output_type": "stream",
          "name": "stdout",
          "text": [
            " * sqlite:///SaaS_Company.db\n",
            "   sqlite:///{db_name}\n",
            "Done.\n"
          ]
        },
        {
          "output_type": "execute_result",
          "data": {
            "text/plain": [
              "[('Marketing Suite',),\n",
              " ('FinanceHub',),\n",
              " ('ContactMatcher',),\n",
              " ('Marketing Suite - Gold',),\n",
              " ('SaaS Connector Pack',),\n",
              " ('ChatBot Plugin',),\n",
              " ('Site Analytics',),\n",
              " ('OneView',),\n",
              " ('Support',),\n",
              " ('Data Smasher',),\n",
              " ('SaaS Connector Pack - Gold',),\n",
              " ('Storage',),\n",
              " ('Big Ol Database',),\n",
              " ('Alchemy',)]"
            ],
            "text/html": [
              "<table>\n",
              "    <thead>\n",
              "        <tr>\n",
              "            <th>Product</th>\n",
              "        </tr>\n",
              "    </thead>\n",
              "    <tbody>\n",
              "        <tr>\n",
              "            <td>Marketing Suite</td>\n",
              "        </tr>\n",
              "        <tr>\n",
              "            <td>FinanceHub</td>\n",
              "        </tr>\n",
              "        <tr>\n",
              "            <td>ContactMatcher</td>\n",
              "        </tr>\n",
              "        <tr>\n",
              "            <td>Marketing Suite - Gold</td>\n",
              "        </tr>\n",
              "        <tr>\n",
              "            <td>SaaS Connector Pack</td>\n",
              "        </tr>\n",
              "        <tr>\n",
              "            <td>ChatBot Plugin</td>\n",
              "        </tr>\n",
              "        <tr>\n",
              "            <td>Site Analytics</td>\n",
              "        </tr>\n",
              "        <tr>\n",
              "            <td>OneView</td>\n",
              "        </tr>\n",
              "        <tr>\n",
              "            <td>Support</td>\n",
              "        </tr>\n",
              "        <tr>\n",
              "            <td>Data Smasher</td>\n",
              "        </tr>\n",
              "        <tr>\n",
              "            <td>SaaS Connector Pack - Gold</td>\n",
              "        </tr>\n",
              "        <tr>\n",
              "            <td>Storage</td>\n",
              "        </tr>\n",
              "        <tr>\n",
              "            <td>Big Ol Database</td>\n",
              "        </tr>\n",
              "        <tr>\n",
              "            <td>Alchemy</td>\n",
              "        </tr>\n",
              "    </tbody>\n",
              "</table>"
            ]
          },
          "metadata": {},
          "execution_count": 21
        }
      ]
    },
    {
      "cell_type": "code",
      "source": [
        "# Checking any mischaracterization in Industry\n",
        "%%sql\n",
        "select distinct Industry from  SaaS_Sales ;"
      ],
      "metadata": {
        "id": "qUuFykculcJ1",
        "colab": {
          "base_uri": "https://localhost:8080/",
          "height": 301
        },
        "collapsed": true,
        "outputId": "3d917a42-31db-491e-bbbb-fd4e7bb32873"
      },
      "execution_count": null,
      "outputs": [
        {
          "output_type": "stream",
          "name": "stdout",
          "text": [
            " * sqlite:///SaaS_Company.db\n",
            "   sqlite:///{db_name}\n",
            "Done.\n"
          ]
        },
        {
          "output_type": "execute_result",
          "data": {
            "text/plain": [
              "[('Energy',),\n",
              " ('Finance',),\n",
              " ('Tech',),\n",
              " ('Healthcare',),\n",
              " ('Manufacturing',),\n",
              " ('Retail',),\n",
              " ('Consumer Products',),\n",
              " ('Misc',),\n",
              " ('Transportation',),\n",
              " ('Communications',)]"
            ],
            "text/html": [
              "<table>\n",
              "    <thead>\n",
              "        <tr>\n",
              "            <th>Industry</th>\n",
              "        </tr>\n",
              "    </thead>\n",
              "    <tbody>\n",
              "        <tr>\n",
              "            <td>Energy</td>\n",
              "        </tr>\n",
              "        <tr>\n",
              "            <td>Finance</td>\n",
              "        </tr>\n",
              "        <tr>\n",
              "            <td>Tech</td>\n",
              "        </tr>\n",
              "        <tr>\n",
              "            <td>Healthcare</td>\n",
              "        </tr>\n",
              "        <tr>\n",
              "            <td>Manufacturing</td>\n",
              "        </tr>\n",
              "        <tr>\n",
              "            <td>Retail</td>\n",
              "        </tr>\n",
              "        <tr>\n",
              "            <td>Consumer Products</td>\n",
              "        </tr>\n",
              "        <tr>\n",
              "            <td>Misc</td>\n",
              "        </tr>\n",
              "        <tr>\n",
              "            <td>Transportation</td>\n",
              "        </tr>\n",
              "        <tr>\n",
              "            <td>Communications</td>\n",
              "        </tr>\n",
              "    </tbody>\n",
              "</table>"
            ]
          },
          "metadata": {},
          "execution_count": 22
        }
      ]
    },
    {
      "cell_type": "markdown",
      "source": [
        "## **Data Preprocesing - Out of Range Values**"
      ],
      "metadata": {
        "id": "2_FdaFu3o7Vg"
      }
    },
    {
      "cell_type": "code",
      "source": [
        "# Checking whether there is any negative sales\n",
        "%%sql\n",
        "select\n",
        "min(Sales) Min ,\n",
        "max(Sales) Max ,\n",
        "(select Sales  from SaaS_Sales\n",
        "where Sales <= 0) Neg\n",
        "from SaaS_Sales ;"
      ],
      "metadata": {
        "colab": {
          "base_uri": "https://localhost:8080/",
          "height": 95
        },
        "id": "mv9sF8XGpBkA",
        "outputId": "990d2dcf-1491-48c5-aaf6-ceeb7b7ef0b5"
      },
      "execution_count": null,
      "outputs": [
        {
          "output_type": "stream",
          "name": "stdout",
          "text": [
            " * sqlite:///SaaS_Company.db\n",
            "Done.\n"
          ]
        },
        {
          "output_type": "execute_result",
          "data": {
            "text/plain": [
              "[(0.444, 22638.48, None)]"
            ],
            "text/html": [
              "<table>\n",
              "    <thead>\n",
              "        <tr>\n",
              "            <th>Min</th>\n",
              "            <th>Max</th>\n",
              "            <th>Neg</th>\n",
              "        </tr>\n",
              "    </thead>\n",
              "    <tbody>\n",
              "        <tr>\n",
              "            <td>0.444</td>\n",
              "            <td>22638.48</td>\n",
              "            <td>None</td>\n",
              "        </tr>\n",
              "    </tbody>\n",
              "</table>"
            ]
          },
          "metadata": {},
          "execution_count": 59
        }
      ]
    },
    {
      "cell_type": "code",
      "source": [
        "# Checking whether there is any negative or zero quantity\n",
        "%%sql\n",
        "select *  from SaaS_Sales\n",
        "where quantity <= 0 ;"
      ],
      "metadata": {
        "colab": {
          "base_uri": "https://localhost:8080/",
          "height": 92
        },
        "id": "bDOK-q30p940",
        "outputId": "d2a9be8d-7edf-4e47-df7b-86c7afc355de"
      },
      "execution_count": null,
      "outputs": [
        {
          "output_type": "stream",
          "name": "stdout",
          "text": [
            " * sqlite:///SaaS_Company.db\n",
            "   sqlite:///{db_name}\n",
            "Done.\n"
          ]
        },
        {
          "output_type": "execute_result",
          "data": {
            "text/plain": [
              "[]"
            ],
            "text/html": [
              "<table>\n",
              "    <thead>\n",
              "        <tr>\n",
              "            <th>Row ID</th>\n",
              "            <th>Order ID</th>\n",
              "            <th>Order Date</th>\n",
              "            <th>Date Key</th>\n",
              "            <th>Contact Name</th>\n",
              "            <th>Country</th>\n",
              "            <th>City</th>\n",
              "            <th>Region</th>\n",
              "            <th>Subregion</th>\n",
              "            <th>Customer</th>\n",
              "            <th>Customer ID</th>\n",
              "            <th>Industry</th>\n",
              "            <th>Segment</th>\n",
              "            <th>Product</th>\n",
              "            <th>License</th>\n",
              "            <th>Sales</th>\n",
              "            <th>Quantity</th>\n",
              "            <th>Discount</th>\n",
              "            <th>Profit</th>\n",
              "        </tr>\n",
              "    </thead>\n",
              "    <tbody>\n",
              "    </tbody>\n",
              "</table>"
            ]
          },
          "metadata": {},
          "execution_count": 29
        }
      ]
    },
    {
      "cell_type": "code",
      "source": [
        "# Checking whether the discount range is correct\n",
        "%%sql\n",
        "select Min(Discount) Min ,\n",
        "Max(Discount) Max\n",
        "from SaaS_Sales;"
      ],
      "metadata": {
        "colab": {
          "base_uri": "https://localhost:8080/",
          "height": 95
        },
        "id": "QvhMXRcXqWGz",
        "outputId": "dd43b6c1-2363-4c0d-c33c-76e1ad569688"
      },
      "execution_count": null,
      "outputs": [
        {
          "output_type": "stream",
          "name": "stdout",
          "text": [
            " * sqlite:///SaaS_Company.db\n",
            "Done.\n"
          ]
        },
        {
          "output_type": "execute_result",
          "data": {
            "text/plain": [
              "[(0.0, 0.8)]"
            ],
            "text/html": [
              "<table>\n",
              "    <thead>\n",
              "        <tr>\n",
              "            <th>Min</th>\n",
              "            <th>Max</th>\n",
              "        </tr>\n",
              "    </thead>\n",
              "    <tbody>\n",
              "        <tr>\n",
              "            <td>0.0</td>\n",
              "            <td>0.8</td>\n",
              "        </tr>\n",
              "    </tbody>\n",
              "</table>"
            ]
          },
          "metadata": {},
          "execution_count": 60
        }
      ]
    },
    {
      "cell_type": "markdown",
      "source": [
        "## **Data Preprocesing - Missing Values**"
      ],
      "metadata": {
        "id": "VGF9OOsKq4V7"
      }
    },
    {
      "cell_type": "code",
      "source": [
        "%%sql\n",
        "PRAGMA table_info(SaaS_Sales);"
      ],
      "metadata": {
        "colab": {
          "base_uri": "https://localhost:8080/",
          "height": 490
        },
        "id": "pMSXFONurYgw",
        "outputId": "5d9f82de-6a64-4b35-ee61-483594165d41"
      },
      "execution_count": null,
      "outputs": [
        {
          "output_type": "stream",
          "name": "stdout",
          "text": [
            " * sqlite:///SaaS_Company.db\n",
            "   sqlite:///{db_name}\n",
            "Done.\n"
          ]
        },
        {
          "output_type": "execute_result",
          "data": {
            "text/plain": [
              "[(0, 'Row ID', 'INTEGER', 0, None, 0),\n",
              " (1, 'Order ID', 'TEXT', 0, None, 0),\n",
              " (2, 'Order Date', 'TEXT', 0, None, 0),\n",
              " (3, 'Date Key', 'INTEGER', 0, None, 0),\n",
              " (4, 'Contact Name', 'TEXT', 0, None, 0),\n",
              " (5, 'Country', 'TEXT', 0, None, 0),\n",
              " (6, 'City', 'TEXT', 0, None, 0),\n",
              " (7, 'Region', 'TEXT', 0, None, 0),\n",
              " (8, 'Subregion', 'TEXT', 0, None, 0),\n",
              " (9, 'Customer', 'TEXT', 0, None, 0),\n",
              " (10, 'Customer ID', 'INTEGER', 0, None, 0),\n",
              " (11, 'Industry', 'TEXT', 0, None, 0),\n",
              " (12, 'Segment', 'TEXT', 0, None, 0),\n",
              " (13, 'Product', 'TEXT', 0, None, 0),\n",
              " (14, 'License', 'TEXT', 0, None, 0),\n",
              " (15, 'Sales', 'REAL', 0, None, 0),\n",
              " (16, 'Quantity', 'INTEGER', 0, None, 0),\n",
              " (17, 'Discount', 'REAL', 0, None, 0),\n",
              " (18, 'Profit', 'REAL', 0, None, 0)]"
            ],
            "text/html": [
              "<table>\n",
              "    <thead>\n",
              "        <tr>\n",
              "            <th>cid</th>\n",
              "            <th>name</th>\n",
              "            <th>type</th>\n",
              "            <th>notnull</th>\n",
              "            <th>dflt_value</th>\n",
              "            <th>pk</th>\n",
              "        </tr>\n",
              "    </thead>\n",
              "    <tbody>\n",
              "        <tr>\n",
              "            <td>0</td>\n",
              "            <td>Row ID</td>\n",
              "            <td>INTEGER</td>\n",
              "            <td>0</td>\n",
              "            <td>None</td>\n",
              "            <td>0</td>\n",
              "        </tr>\n",
              "        <tr>\n",
              "            <td>1</td>\n",
              "            <td>Order ID</td>\n",
              "            <td>TEXT</td>\n",
              "            <td>0</td>\n",
              "            <td>None</td>\n",
              "            <td>0</td>\n",
              "        </tr>\n",
              "        <tr>\n",
              "            <td>2</td>\n",
              "            <td>Order Date</td>\n",
              "            <td>TEXT</td>\n",
              "            <td>0</td>\n",
              "            <td>None</td>\n",
              "            <td>0</td>\n",
              "        </tr>\n",
              "        <tr>\n",
              "            <td>3</td>\n",
              "            <td>Date Key</td>\n",
              "            <td>INTEGER</td>\n",
              "            <td>0</td>\n",
              "            <td>None</td>\n",
              "            <td>0</td>\n",
              "        </tr>\n",
              "        <tr>\n",
              "            <td>4</td>\n",
              "            <td>Contact Name</td>\n",
              "            <td>TEXT</td>\n",
              "            <td>0</td>\n",
              "            <td>None</td>\n",
              "            <td>0</td>\n",
              "        </tr>\n",
              "        <tr>\n",
              "            <td>5</td>\n",
              "            <td>Country</td>\n",
              "            <td>TEXT</td>\n",
              "            <td>0</td>\n",
              "            <td>None</td>\n",
              "            <td>0</td>\n",
              "        </tr>\n",
              "        <tr>\n",
              "            <td>6</td>\n",
              "            <td>City</td>\n",
              "            <td>TEXT</td>\n",
              "            <td>0</td>\n",
              "            <td>None</td>\n",
              "            <td>0</td>\n",
              "        </tr>\n",
              "        <tr>\n",
              "            <td>7</td>\n",
              "            <td>Region</td>\n",
              "            <td>TEXT</td>\n",
              "            <td>0</td>\n",
              "            <td>None</td>\n",
              "            <td>0</td>\n",
              "        </tr>\n",
              "        <tr>\n",
              "            <td>8</td>\n",
              "            <td>Subregion</td>\n",
              "            <td>TEXT</td>\n",
              "            <td>0</td>\n",
              "            <td>None</td>\n",
              "            <td>0</td>\n",
              "        </tr>\n",
              "        <tr>\n",
              "            <td>9</td>\n",
              "            <td>Customer</td>\n",
              "            <td>TEXT</td>\n",
              "            <td>0</td>\n",
              "            <td>None</td>\n",
              "            <td>0</td>\n",
              "        </tr>\n",
              "        <tr>\n",
              "            <td>10</td>\n",
              "            <td>Customer ID</td>\n",
              "            <td>INTEGER</td>\n",
              "            <td>0</td>\n",
              "            <td>None</td>\n",
              "            <td>0</td>\n",
              "        </tr>\n",
              "        <tr>\n",
              "            <td>11</td>\n",
              "            <td>Industry</td>\n",
              "            <td>TEXT</td>\n",
              "            <td>0</td>\n",
              "            <td>None</td>\n",
              "            <td>0</td>\n",
              "        </tr>\n",
              "        <tr>\n",
              "            <td>12</td>\n",
              "            <td>Segment</td>\n",
              "            <td>TEXT</td>\n",
              "            <td>0</td>\n",
              "            <td>None</td>\n",
              "            <td>0</td>\n",
              "        </tr>\n",
              "        <tr>\n",
              "            <td>13</td>\n",
              "            <td>Product</td>\n",
              "            <td>TEXT</td>\n",
              "            <td>0</td>\n",
              "            <td>None</td>\n",
              "            <td>0</td>\n",
              "        </tr>\n",
              "        <tr>\n",
              "            <td>14</td>\n",
              "            <td>License</td>\n",
              "            <td>TEXT</td>\n",
              "            <td>0</td>\n",
              "            <td>None</td>\n",
              "            <td>0</td>\n",
              "        </tr>\n",
              "        <tr>\n",
              "            <td>15</td>\n",
              "            <td>Sales</td>\n",
              "            <td>REAL</td>\n",
              "            <td>0</td>\n",
              "            <td>None</td>\n",
              "            <td>0</td>\n",
              "        </tr>\n",
              "        <tr>\n",
              "            <td>16</td>\n",
              "            <td>Quantity</td>\n",
              "            <td>INTEGER</td>\n",
              "            <td>0</td>\n",
              "            <td>None</td>\n",
              "            <td>0</td>\n",
              "        </tr>\n",
              "        <tr>\n",
              "            <td>17</td>\n",
              "            <td>Discount</td>\n",
              "            <td>REAL</td>\n",
              "            <td>0</td>\n",
              "            <td>None</td>\n",
              "            <td>0</td>\n",
              "        </tr>\n",
              "        <tr>\n",
              "            <td>18</td>\n",
              "            <td>Profit</td>\n",
              "            <td>REAL</td>\n",
              "            <td>0</td>\n",
              "            <td>None</td>\n",
              "            <td>0</td>\n",
              "        </tr>\n",
              "    </tbody>\n",
              "</table>"
            ]
          },
          "metadata": {},
          "execution_count": 34
        }
      ]
    },
    {
      "cell_type": "code",
      "source": [
        "%%sql\n",
        "select * from SaaS_Sales limit 2;"
      ],
      "metadata": {
        "colab": {
          "base_uri": "https://localhost:8080/",
          "height": 134
        },
        "id": "uZSPCrexsT3c",
        "outputId": "9a3b8fdf-aeb1-43a3-acc3-a8923d6f65a2"
      },
      "execution_count": null,
      "outputs": [
        {
          "output_type": "stream",
          "name": "stdout",
          "text": [
            " * sqlite:///SaaS_Company.db\n",
            "   sqlite:///{db_name}\n",
            "Done.\n"
          ]
        },
        {
          "output_type": "execute_result",
          "data": {
            "text/plain": [
              "[(1, 'EMEA-2022-152156', '11/9/2022', 20221109, 'Nathan Bell', 'Ireland', 'Dublin', 'EMEA', 'UKIR', 'Chevron', 1017, 'Energy', 'SMB', 'Marketing Suite', '16GRM07R1K', 261.96, 2, 0.0, 41.9136),\n",
              " (2, 'EMEA-2022-152156', '11/9/2022', 20221109, 'Nathan Bell', 'Ireland', 'Dublin', 'EMEA', 'UKIR', 'Chevron', 1017, 'Energy', 'SMB', 'FinanceHub', 'QLIW57KZUV', 731.94, 3, 0.0, 219.582)]"
            ],
            "text/html": [
              "<table>\n",
              "    <thead>\n",
              "        <tr>\n",
              "            <th>Row ID</th>\n",
              "            <th>Order ID</th>\n",
              "            <th>Order Date</th>\n",
              "            <th>Date Key</th>\n",
              "            <th>Contact Name</th>\n",
              "            <th>Country</th>\n",
              "            <th>City</th>\n",
              "            <th>Region</th>\n",
              "            <th>Subregion</th>\n",
              "            <th>Customer</th>\n",
              "            <th>Customer ID</th>\n",
              "            <th>Industry</th>\n",
              "            <th>Segment</th>\n",
              "            <th>Product</th>\n",
              "            <th>License</th>\n",
              "            <th>Sales</th>\n",
              "            <th>Quantity</th>\n",
              "            <th>Discount</th>\n",
              "            <th>Profit</th>\n",
              "        </tr>\n",
              "    </thead>\n",
              "    <tbody>\n",
              "        <tr>\n",
              "            <td>1</td>\n",
              "            <td>EMEA-2022-152156</td>\n",
              "            <td>11/9/2022</td>\n",
              "            <td>20221109</td>\n",
              "            <td>Nathan Bell</td>\n",
              "            <td>Ireland</td>\n",
              "            <td>Dublin</td>\n",
              "            <td>EMEA</td>\n",
              "            <td>UKIR</td>\n",
              "            <td>Chevron</td>\n",
              "            <td>1017</td>\n",
              "            <td>Energy</td>\n",
              "            <td>SMB</td>\n",
              "            <td>Marketing Suite</td>\n",
              "            <td>16GRM07R1K</td>\n",
              "            <td>261.96</td>\n",
              "            <td>2</td>\n",
              "            <td>0.0</td>\n",
              "            <td>41.9136</td>\n",
              "        </tr>\n",
              "        <tr>\n",
              "            <td>2</td>\n",
              "            <td>EMEA-2022-152156</td>\n",
              "            <td>11/9/2022</td>\n",
              "            <td>20221109</td>\n",
              "            <td>Nathan Bell</td>\n",
              "            <td>Ireland</td>\n",
              "            <td>Dublin</td>\n",
              "            <td>EMEA</td>\n",
              "            <td>UKIR</td>\n",
              "            <td>Chevron</td>\n",
              "            <td>1017</td>\n",
              "            <td>Energy</td>\n",
              "            <td>SMB</td>\n",
              "            <td>FinanceHub</td>\n",
              "            <td>QLIW57KZUV</td>\n",
              "            <td>731.94</td>\n",
              "            <td>3</td>\n",
              "            <td>0.0</td>\n",
              "            <td>219.582</td>\n",
              "        </tr>\n",
              "    </tbody>\n",
              "</table>"
            ]
          },
          "metadata": {},
          "execution_count": 35
        }
      ]
    },
    {
      "cell_type": "code",
      "source": [
        "# Checking any Missing Values or Negative values in Primary Key\n",
        "%%sql\n",
        "select count(*),Row_ID\n",
        "from SaaS_Sales\n",
        "group by Row_ID\n",
        "having count(*) >1 or Row_ID is null"
      ],
      "metadata": {
        "colab": {
          "base_uri": "https://localhost:8080/",
          "height": 92
        },
        "id": "2G0ORVzrq6OJ",
        "outputId": "5f6b4b3a-94a2-4781-ad1f-f676abe322aa"
      },
      "execution_count": null,
      "outputs": [
        {
          "output_type": "stream",
          "name": "stdout",
          "text": [
            " * sqlite:///SaaS_Company.db\n",
            "   sqlite:///{db_name}\n",
            "Done.\n"
          ]
        },
        {
          "output_type": "execute_result",
          "data": {
            "text/plain": [
              "[]"
            ],
            "text/html": [
              "<table>\n",
              "    <thead>\n",
              "        <tr>\n",
              "            <th>count(*)</th>\n",
              "            <th>Row_ID</th>\n",
              "        </tr>\n",
              "    </thead>\n",
              "    <tbody>\n",
              "    </tbody>\n",
              "</table>"
            ]
          },
          "metadata": {},
          "execution_count": 49
        }
      ]
    },
    {
      "cell_type": "markdown",
      "source": [
        "# **Data Analysis**"
      ],
      "metadata": {
        "id": "Mlo1lmwsu8JO"
      }
    },
    {
      "cell_type": "markdown",
      "source": [
        "## **A. 5 Products with the highest margin**"
      ],
      "metadata": {
        "id": "qxoVYaYdvgyq"
      }
    },
    {
      "cell_type": "code",
      "source": [
        "%%sql\n",
        "select count(distinct Product) from SaaS_Sales;"
      ],
      "metadata": {
        "colab": {
          "base_uri": "https://localhost:8080/",
          "height": 95
        },
        "id": "6NWz_GRU1Vxd",
        "outputId": "a26f60ba-fa11-4fa0-a283-c57425f203c9"
      },
      "execution_count": null,
      "outputs": [
        {
          "output_type": "stream",
          "name": "stdout",
          "text": [
            " * sqlite:///SaaS_Company.db\n",
            "Done.\n"
          ]
        },
        {
          "output_type": "execute_result",
          "data": {
            "text/plain": [
              "[(14,)]"
            ],
            "text/html": [
              "<table>\n",
              "    <thead>\n",
              "        <tr>\n",
              "            <th>count(distinct Product)</th>\n",
              "        </tr>\n",
              "    </thead>\n",
              "    <tbody>\n",
              "        <tr>\n",
              "            <td>14</td>\n",
              "        </tr>\n",
              "    </tbody>\n",
              "</table>"
            ]
          },
          "metadata": {},
          "execution_count": 5
        }
      ]
    },
    {
      "cell_type": "code",
      "source": [
        "%%sql\n",
        "Select\n",
        "row_number() over( order by ROUND (((sum(Profit) / sum(Sales)) * 100) , 0)  desc ) Rank ,\n",
        "Product ,\n",
        "ROUND (((sum(Profit) / sum(sales)) * 100) , 2) ||'%' as Margin ,\n",
        "round(sum(Profit),0) Profit,\n",
        "round(sum(sales),0) Sales\n",
        "from SaaS_Sales\n",
        "group by Product ;"
      ],
      "metadata": {
        "colab": {
          "base_uri": "https://localhost:8080/",
          "height": 368
        },
        "id": "zUhU7So_u7xz",
        "outputId": "2108a490-0820-414c-feb4-6ae9fd2d42a6"
      },
      "execution_count": null,
      "outputs": [
        {
          "output_type": "stream",
          "name": "stdout",
          "text": [
            " * sqlite:///SaaS_Company.db\n",
            "Done.\n"
          ]
        },
        {
          "output_type": "execute_result",
          "data": {
            "text/plain": [
              "[(1, 'SaaS Connector Pack - Gold', '42.27%', 6964.0, 16476.0),\n",
              " (2, 'Alchemy', '37.2%', 55618.0, 149528.0),\n",
              " (3, 'Storage', '31.4%', 950.0, 3024.0),\n",
              " (4, 'Support', '26.26%', 32864.0, 125153.0),\n",
              " (5, 'Data Smasher', '25.05%', 41937.0, 167380.0),\n",
              " (6, 'ChatBot Plugin', '24.07%', 6528.0, 27119.0),\n",
              " (7, 'OneView', '16.87%', 18138.0, 107532.0),\n",
              " (8, 'SaaS Connector Pack', '14.24%', 13059.0, 91705.0),\n",
              " (9, 'Site Analytics', '13.49%', 44516.0, 330007.0),\n",
              " (10, 'Marketing Suite - Gold', '9.51%', 21279.0, 223844.0),\n",
              " (11, 'FinanceHub', '9.43%', 32136.0, 340935.0),\n",
              " (12, 'ContactMatcher', '3.05%', 12496.0, 410378.0),\n",
              " (13, 'Big Ol Database', '1.79%', 3385.0, 189239.0),\n",
              " (14, 'Marketing Suite', '-3.02%', -3473.0, 114880.0)]"
            ],
            "text/html": [
              "<table>\n",
              "    <thead>\n",
              "        <tr>\n",
              "            <th>Rank</th>\n",
              "            <th>Product</th>\n",
              "            <th>Margin</th>\n",
              "            <th>Profit</th>\n",
              "            <th>Sales</th>\n",
              "        </tr>\n",
              "    </thead>\n",
              "    <tbody>\n",
              "        <tr>\n",
              "            <td>1</td>\n",
              "            <td>SaaS Connector Pack - Gold</td>\n",
              "            <td>42.27%</td>\n",
              "            <td>6964.0</td>\n",
              "            <td>16476.0</td>\n",
              "        </tr>\n",
              "        <tr>\n",
              "            <td>2</td>\n",
              "            <td>Alchemy</td>\n",
              "            <td>37.2%</td>\n",
              "            <td>55618.0</td>\n",
              "            <td>149528.0</td>\n",
              "        </tr>\n",
              "        <tr>\n",
              "            <td>3</td>\n",
              "            <td>Storage</td>\n",
              "            <td>31.4%</td>\n",
              "            <td>950.0</td>\n",
              "            <td>3024.0</td>\n",
              "        </tr>\n",
              "        <tr>\n",
              "            <td>4</td>\n",
              "            <td>Support</td>\n",
              "            <td>26.26%</td>\n",
              "            <td>32864.0</td>\n",
              "            <td>125153.0</td>\n",
              "        </tr>\n",
              "        <tr>\n",
              "            <td>5</td>\n",
              "            <td>Data Smasher</td>\n",
              "            <td>25.05%</td>\n",
              "            <td>41937.0</td>\n",
              "            <td>167380.0</td>\n",
              "        </tr>\n",
              "        <tr>\n",
              "            <td>6</td>\n",
              "            <td>ChatBot Plugin</td>\n",
              "            <td>24.07%</td>\n",
              "            <td>6528.0</td>\n",
              "            <td>27119.0</td>\n",
              "        </tr>\n",
              "        <tr>\n",
              "            <td>7</td>\n",
              "            <td>OneView</td>\n",
              "            <td>16.87%</td>\n",
              "            <td>18138.0</td>\n",
              "            <td>107532.0</td>\n",
              "        </tr>\n",
              "        <tr>\n",
              "            <td>8</td>\n",
              "            <td>SaaS Connector Pack</td>\n",
              "            <td>14.24%</td>\n",
              "            <td>13059.0</td>\n",
              "            <td>91705.0</td>\n",
              "        </tr>\n",
              "        <tr>\n",
              "            <td>9</td>\n",
              "            <td>Site Analytics</td>\n",
              "            <td>13.49%</td>\n",
              "            <td>44516.0</td>\n",
              "            <td>330007.0</td>\n",
              "        </tr>\n",
              "        <tr>\n",
              "            <td>10</td>\n",
              "            <td>Marketing Suite - Gold</td>\n",
              "            <td>9.51%</td>\n",
              "            <td>21279.0</td>\n",
              "            <td>223844.0</td>\n",
              "        </tr>\n",
              "        <tr>\n",
              "            <td>11</td>\n",
              "            <td>FinanceHub</td>\n",
              "            <td>9.43%</td>\n",
              "            <td>32136.0</td>\n",
              "            <td>340935.0</td>\n",
              "        </tr>\n",
              "        <tr>\n",
              "            <td>12</td>\n",
              "            <td>ContactMatcher</td>\n",
              "            <td>3.05%</td>\n",
              "            <td>12496.0</td>\n",
              "            <td>410378.0</td>\n",
              "        </tr>\n",
              "        <tr>\n",
              "            <td>13</td>\n",
              "            <td>Big Ol Database</td>\n",
              "            <td>1.79%</td>\n",
              "            <td>3385.0</td>\n",
              "            <td>189239.0</td>\n",
              "        </tr>\n",
              "        <tr>\n",
              "            <td>14</td>\n",
              "            <td>Marketing Suite</td>\n",
              "            <td>-3.02%</td>\n",
              "            <td>-3473.0</td>\n",
              "            <td>114880.0</td>\n",
              "        </tr>\n",
              "    </tbody>\n",
              "</table>"
            ]
          },
          "metadata": {},
          "execution_count": 10
        }
      ]
    },
    {
      "cell_type": "markdown",
      "source": [
        "**Insight 1:** SaaS Connector Pack - Gold, Alchemy, Storage, Support, and Data Smasher are 5 products with the highest margin\n",
        "Recommendation: Allocate R&D Resources Strategically.\n",
        "Since SaaS Connector Pack - Gold, Alchemy, Storage, Support, and Data Smasher are the top products with the highest margin, it's recommended to allocate more resources and focus on further improving and enhancing these products. Consider investing in R&D to add new features, enhance user experience and addressing any pain points reported by customers. This investment could result in even higher profitability and customer satisfaction. Additionally, analyze what specifically makes these products successful and try to incorporate similar elements into other products to optimize their margins as well."
      ],
      "metadata": {
        "id": "Va5wddZU1HfT"
      }
    },
    {
      "cell_type": "markdown",
      "source": [
        "## **B.Top 3 Industries by Profit:**"
      ],
      "metadata": {
        "id": "PXzsJi2x3U8K"
      }
    },
    {
      "cell_type": "code",
      "source": [
        "%%sql\n",
        "select\n",
        "  row_number() over (order by round(sum(Profit),0) desc) Rank ,\n",
        "  Industry ,\n",
        "  round(sum(Profit),0) Profit\n",
        "from SaaS_Sales\n",
        "group by Industry;"
      ],
      "metadata": {
        "colab": {
          "base_uri": "https://localhost:8080/",
          "height": 284
        },
        "id": "JpHDtvOA3bMa",
        "outputId": "095db17a-f3f8-4e18-c3b6-b153a16ed2c2"
      },
      "execution_count": null,
      "outputs": [
        {
          "output_type": "stream",
          "name": "stdout",
          "text": [
            " * sqlite:///SaaS_Company.db\n",
            "Done.\n"
          ]
        },
        {
          "output_type": "execute_result",
          "data": {
            "text/plain": [
              "[(1, 'Finance', 50349.0),\n",
              " (2, 'Energy', 45282.0),\n",
              " (3, 'Manufacturing', 38413.0),\n",
              " (4, 'Consumer Products', 37018.0),\n",
              " (5, 'Healthcare', 31969.0),\n",
              " (6, 'Retail', 30208.0),\n",
              " (7, 'Tech', 24615.0),\n",
              " (8, 'Communications', 13976.0),\n",
              " (9, 'Transportation', 7403.0),\n",
              " (10, 'Misc', 7164.0)]"
            ],
            "text/html": [
              "<table>\n",
              "    <thead>\n",
              "        <tr>\n",
              "            <th>Rank</th>\n",
              "            <th>Industry</th>\n",
              "            <th>Profit</th>\n",
              "        </tr>\n",
              "    </thead>\n",
              "    <tbody>\n",
              "        <tr>\n",
              "            <td>1</td>\n",
              "            <td>Finance</td>\n",
              "            <td>50349.0</td>\n",
              "        </tr>\n",
              "        <tr>\n",
              "            <td>2</td>\n",
              "            <td>Energy</td>\n",
              "            <td>45282.0</td>\n",
              "        </tr>\n",
              "        <tr>\n",
              "            <td>3</td>\n",
              "            <td>Manufacturing</td>\n",
              "            <td>38413.0</td>\n",
              "        </tr>\n",
              "        <tr>\n",
              "            <td>4</td>\n",
              "            <td>Consumer Products</td>\n",
              "            <td>37018.0</td>\n",
              "        </tr>\n",
              "        <tr>\n",
              "            <td>5</td>\n",
              "            <td>Healthcare</td>\n",
              "            <td>31969.0</td>\n",
              "        </tr>\n",
              "        <tr>\n",
              "            <td>6</td>\n",
              "            <td>Retail</td>\n",
              "            <td>30208.0</td>\n",
              "        </tr>\n",
              "        <tr>\n",
              "            <td>7</td>\n",
              "            <td>Tech</td>\n",
              "            <td>24615.0</td>\n",
              "        </tr>\n",
              "        <tr>\n",
              "            <td>8</td>\n",
              "            <td>Communications</td>\n",
              "            <td>13976.0</td>\n",
              "        </tr>\n",
              "        <tr>\n",
              "            <td>9</td>\n",
              "            <td>Transportation</td>\n",
              "            <td>7403.0</td>\n",
              "        </tr>\n",
              "        <tr>\n",
              "            <td>10</td>\n",
              "            <td>Misc</td>\n",
              "            <td>7164.0</td>\n",
              "        </tr>\n",
              "    </tbody>\n",
              "</table>"
            ]
          },
          "metadata": {},
          "execution_count": 14
        }
      ]
    },
    {
      "cell_type": "markdown",
      "source": [
        "**Insight 2:** Finance, Energy, and Manufacturing are 3 Industry with the highest Profit\n",
        "Recommendation: Tailoring your product offerings and marketing strategies to specifically target these industries.\n",
        "The Finance, Energy, and Manufacturing industries are generating the highest profits. To capitalize on this insight, consider tailoring your product offerings and marketing strategies to specifically target these industries. Develop specialized solutions that address the unique needs and challenges of each industry. This will help you maintain a strong presence and attract more customers within these high-profit sectors."
      ],
      "metadata": {
        "id": "fhQmgeFp4Tpb"
      }
    },
    {
      "cell_type": "markdown",
      "source": [
        "## **C.Top 5 Countries by Sales:**"
      ],
      "metadata": {
        "id": "2NaVvnPC4Ztx"
      }
    },
    {
      "cell_type": "code",
      "source": [
        "%%sql\n",
        "select\n",
        "  row_number() over(order by round(sum(sales),0) desc) Rank ,\n",
        "  Country ,\n",
        "  round(sum(sales),0) Sales\n",
        "from SaaS_Sales\n",
        "group by Country ;"
      ],
      "metadata": {
        "colab": {
          "base_uri": "https://localhost:8080/",
          "height": 1000
        },
        "collapsed": true,
        "id": "jRrJ1-CQ4gsc",
        "outputId": "8efefa42-bc7d-4dc1-cabd-5c27c4b032a8"
      },
      "execution_count": null,
      "outputs": [
        {
          "output_type": "stream",
          "name": "stdout",
          "text": [
            " * sqlite:///SaaS_Company.db\n",
            "Done.\n"
          ]
        },
        {
          "output_type": "execute_result",
          "data": {
            "text/plain": [
              "[(1, 'United States', 457688.0),\n",
              " (2, 'United Kingdom', 313170.0),\n",
              " (3, 'Japan', 170188.0),\n",
              " (4, 'Canada', 138641.0),\n",
              " (5, 'France', 116512.0),\n",
              " (6, 'Germany', 89474.0),\n",
              " (7, 'Australia', 80166.0),\n",
              " (8, 'Mexico', 78258.0),\n",
              " (9, 'Brazil', 76270.0),\n",
              " (10, 'Spain', 70637.0),\n",
              " (11, 'Sweden', 55603.0),\n",
              " (12, 'India', 53555.0),\n",
              " (13, 'Finland', 49096.0),\n",
              " (14, 'Argentina', 35764.0),\n",
              " (15, 'Chile', 35282.0),\n",
              " (16, 'Ireland', 34298.0),\n",
              " (17, 'Italy', 32115.0),\n",
              " (18, 'Russia', 32108.0),\n",
              " (19, 'South Africa', 30662.0),\n",
              " (20, 'Luxembourg', 29863.0),\n",
              " (21, 'South Korea', 28634.0),\n",
              " (22, 'Philippines', 27451.0),\n",
              " (23, 'China', 23706.0),\n",
              " (24, 'Norway', 22628.0),\n",
              " (25, 'Poland', 22205.0),\n",
              " (26, 'Singapore', 19683.0),\n",
              " (27, 'Portugal', 19511.0),\n",
              " (28, 'Belgium', 17431.0),\n",
              " (29, 'Israel', 16729.0),\n",
              " (30, 'Saudi Arabia', 13384.0),\n",
              " (31, 'United Arab Emirates', 11678.0),\n",
              " (32, 'Turkey', 11220.0),\n",
              " (33, 'Ukraine', 10771.0),\n",
              " (34, 'Netherlands', 10169.0),\n",
              " (35, 'Czech Republic', 9217.0),\n",
              " (36, 'Egypt', 8929.0),\n",
              " (37, 'Colombia', 8482.0),\n",
              " (38, 'Costa Rica', 7465.0),\n",
              " (39, 'Greece', 7293.0),\n",
              " (40, 'New Zealand', 4784.0),\n",
              " (41, 'Taiwan', 4382.0),\n",
              " (42, 'Indonesia', 2914.0),\n",
              " (43, 'Austria', 2865.0),\n",
              " (44, 'Slovenia', 1603.0),\n",
              " (45, 'Croatia', 1316.0),\n",
              " (46, 'Denmark', 1271.0),\n",
              " (47, 'Iceland', 1210.0),\n",
              " (48, 'Qatar', 920.0)]"
            ],
            "text/html": [
              "<table>\n",
              "    <thead>\n",
              "        <tr>\n",
              "            <th>Rank</th>\n",
              "            <th>Country</th>\n",
              "            <th>Sales</th>\n",
              "        </tr>\n",
              "    </thead>\n",
              "    <tbody>\n",
              "        <tr>\n",
              "            <td>1</td>\n",
              "            <td>United States</td>\n",
              "            <td>457688.0</td>\n",
              "        </tr>\n",
              "        <tr>\n",
              "            <td>2</td>\n",
              "            <td>United Kingdom</td>\n",
              "            <td>313170.0</td>\n",
              "        </tr>\n",
              "        <tr>\n",
              "            <td>3</td>\n",
              "            <td>Japan</td>\n",
              "            <td>170188.0</td>\n",
              "        </tr>\n",
              "        <tr>\n",
              "            <td>4</td>\n",
              "            <td>Canada</td>\n",
              "            <td>138641.0</td>\n",
              "        </tr>\n",
              "        <tr>\n",
              "            <td>5</td>\n",
              "            <td>France</td>\n",
              "            <td>116512.0</td>\n",
              "        </tr>\n",
              "        <tr>\n",
              "            <td>6</td>\n",
              "            <td>Germany</td>\n",
              "            <td>89474.0</td>\n",
              "        </tr>\n",
              "        <tr>\n",
              "            <td>7</td>\n",
              "            <td>Australia</td>\n",
              "            <td>80166.0</td>\n",
              "        </tr>\n",
              "        <tr>\n",
              "            <td>8</td>\n",
              "            <td>Mexico</td>\n",
              "            <td>78258.0</td>\n",
              "        </tr>\n",
              "        <tr>\n",
              "            <td>9</td>\n",
              "            <td>Brazil</td>\n",
              "            <td>76270.0</td>\n",
              "        </tr>\n",
              "        <tr>\n",
              "            <td>10</td>\n",
              "            <td>Spain</td>\n",
              "            <td>70637.0</td>\n",
              "        </tr>\n",
              "        <tr>\n",
              "            <td>11</td>\n",
              "            <td>Sweden</td>\n",
              "            <td>55603.0</td>\n",
              "        </tr>\n",
              "        <tr>\n",
              "            <td>12</td>\n",
              "            <td>India</td>\n",
              "            <td>53555.0</td>\n",
              "        </tr>\n",
              "        <tr>\n",
              "            <td>13</td>\n",
              "            <td>Finland</td>\n",
              "            <td>49096.0</td>\n",
              "        </tr>\n",
              "        <tr>\n",
              "            <td>14</td>\n",
              "            <td>Argentina</td>\n",
              "            <td>35764.0</td>\n",
              "        </tr>\n",
              "        <tr>\n",
              "            <td>15</td>\n",
              "            <td>Chile</td>\n",
              "            <td>35282.0</td>\n",
              "        </tr>\n",
              "        <tr>\n",
              "            <td>16</td>\n",
              "            <td>Ireland</td>\n",
              "            <td>34298.0</td>\n",
              "        </tr>\n",
              "        <tr>\n",
              "            <td>17</td>\n",
              "            <td>Italy</td>\n",
              "            <td>32115.0</td>\n",
              "        </tr>\n",
              "        <tr>\n",
              "            <td>18</td>\n",
              "            <td>Russia</td>\n",
              "            <td>32108.0</td>\n",
              "        </tr>\n",
              "        <tr>\n",
              "            <td>19</td>\n",
              "            <td>South Africa</td>\n",
              "            <td>30662.0</td>\n",
              "        </tr>\n",
              "        <tr>\n",
              "            <td>20</td>\n",
              "            <td>Luxembourg</td>\n",
              "            <td>29863.0</td>\n",
              "        </tr>\n",
              "        <tr>\n",
              "            <td>21</td>\n",
              "            <td>South Korea</td>\n",
              "            <td>28634.0</td>\n",
              "        </tr>\n",
              "        <tr>\n",
              "            <td>22</td>\n",
              "            <td>Philippines</td>\n",
              "            <td>27451.0</td>\n",
              "        </tr>\n",
              "        <tr>\n",
              "            <td>23</td>\n",
              "            <td>China</td>\n",
              "            <td>23706.0</td>\n",
              "        </tr>\n",
              "        <tr>\n",
              "            <td>24</td>\n",
              "            <td>Norway</td>\n",
              "            <td>22628.0</td>\n",
              "        </tr>\n",
              "        <tr>\n",
              "            <td>25</td>\n",
              "            <td>Poland</td>\n",
              "            <td>22205.0</td>\n",
              "        </tr>\n",
              "        <tr>\n",
              "            <td>26</td>\n",
              "            <td>Singapore</td>\n",
              "            <td>19683.0</td>\n",
              "        </tr>\n",
              "        <tr>\n",
              "            <td>27</td>\n",
              "            <td>Portugal</td>\n",
              "            <td>19511.0</td>\n",
              "        </tr>\n",
              "        <tr>\n",
              "            <td>28</td>\n",
              "            <td>Belgium</td>\n",
              "            <td>17431.0</td>\n",
              "        </tr>\n",
              "        <tr>\n",
              "            <td>29</td>\n",
              "            <td>Israel</td>\n",
              "            <td>16729.0</td>\n",
              "        </tr>\n",
              "        <tr>\n",
              "            <td>30</td>\n",
              "            <td>Saudi Arabia</td>\n",
              "            <td>13384.0</td>\n",
              "        </tr>\n",
              "        <tr>\n",
              "            <td>31</td>\n",
              "            <td>United Arab Emirates</td>\n",
              "            <td>11678.0</td>\n",
              "        </tr>\n",
              "        <tr>\n",
              "            <td>32</td>\n",
              "            <td>Turkey</td>\n",
              "            <td>11220.0</td>\n",
              "        </tr>\n",
              "        <tr>\n",
              "            <td>33</td>\n",
              "            <td>Ukraine</td>\n",
              "            <td>10771.0</td>\n",
              "        </tr>\n",
              "        <tr>\n",
              "            <td>34</td>\n",
              "            <td>Netherlands</td>\n",
              "            <td>10169.0</td>\n",
              "        </tr>\n",
              "        <tr>\n",
              "            <td>35</td>\n",
              "            <td>Czech Republic</td>\n",
              "            <td>9217.0</td>\n",
              "        </tr>\n",
              "        <tr>\n",
              "            <td>36</td>\n",
              "            <td>Egypt</td>\n",
              "            <td>8929.0</td>\n",
              "        </tr>\n",
              "        <tr>\n",
              "            <td>37</td>\n",
              "            <td>Colombia</td>\n",
              "            <td>8482.0</td>\n",
              "        </tr>\n",
              "        <tr>\n",
              "            <td>38</td>\n",
              "            <td>Costa Rica</td>\n",
              "            <td>7465.0</td>\n",
              "        </tr>\n",
              "        <tr>\n",
              "            <td>39</td>\n",
              "            <td>Greece</td>\n",
              "            <td>7293.0</td>\n",
              "        </tr>\n",
              "        <tr>\n",
              "            <td>40</td>\n",
              "            <td>New Zealand</td>\n",
              "            <td>4784.0</td>\n",
              "        </tr>\n",
              "        <tr>\n",
              "            <td>41</td>\n",
              "            <td>Taiwan</td>\n",
              "            <td>4382.0</td>\n",
              "        </tr>\n",
              "        <tr>\n",
              "            <td>42</td>\n",
              "            <td>Indonesia</td>\n",
              "            <td>2914.0</td>\n",
              "        </tr>\n",
              "        <tr>\n",
              "            <td>43</td>\n",
              "            <td>Austria</td>\n",
              "            <td>2865.0</td>\n",
              "        </tr>\n",
              "        <tr>\n",
              "            <td>44</td>\n",
              "            <td>Slovenia</td>\n",
              "            <td>1603.0</td>\n",
              "        </tr>\n",
              "        <tr>\n",
              "            <td>45</td>\n",
              "            <td>Croatia</td>\n",
              "            <td>1316.0</td>\n",
              "        </tr>\n",
              "        <tr>\n",
              "            <td>46</td>\n",
              "            <td>Denmark</td>\n",
              "            <td>1271.0</td>\n",
              "        </tr>\n",
              "        <tr>\n",
              "            <td>47</td>\n",
              "            <td>Iceland</td>\n",
              "            <td>1210.0</td>\n",
              "        </tr>\n",
              "        <tr>\n",
              "            <td>48</td>\n",
              "            <td>Qatar</td>\n",
              "            <td>920.0</td>\n",
              "        </tr>\n",
              "    </tbody>\n",
              "</table>"
            ]
          },
          "metadata": {},
          "execution_count": 17
        }
      ]
    },
    {
      "cell_type": "markdown",
      "source": [
        "**Insight 3:** United States, United Kingdom, Japan, Canada, and France are 5 Country with the highest Sales\n",
        "Recommendation: Expand Sales Team and Network in Top Countries.\n",
        "United States, United Kingdom, Japan, Canada, and France are the countries with the highest sales. To expand your team and networking in these regions, you should consider establishing local sales and support teams in each of these countries. Building relationships with local businesses and attending industry events will help you further penetrate these markets and capitalize on the strong sales potential."
      ],
      "metadata": {
        "id": "I9DYB9Rn5OGy"
      }
    },
    {
      "cell_type": "markdown",
      "source": [
        "## **D.Quarterly Profit Analysis:**"
      ],
      "metadata": {
        "id": "mBSpY5yo5QqR"
      }
    },
    {
      "cell_type": "code",
      "source": [
        "%%sql\n",
        "select min(Order_Date) , Max(Order_Date)\n",
        "from SaaS_Sales;"
      ],
      "metadata": {
        "colab": {
          "base_uri": "https://localhost:8080/",
          "height": 95
        },
        "id": "jk2pK8wX5WgT",
        "outputId": "dae6402e-30ce-4088-f2a9-0d6f28ec4eca"
      },
      "execution_count": null,
      "outputs": [
        {
          "output_type": "stream",
          "name": "stdout",
          "text": [
            " * sqlite:///SaaS_Company.db\n",
            "Done.\n"
          ]
        },
        {
          "output_type": "execute_result",
          "data": {
            "text/plain": [
              "[('2020-01-04', '2023-12-31')]"
            ],
            "text/html": [
              "<table>\n",
              "    <thead>\n",
              "        <tr>\n",
              "            <th>min(Order_Date)</th>\n",
              "            <th>Max(Order_Date)</th>\n",
              "        </tr>\n",
              "    </thead>\n",
              "    <tbody>\n",
              "        <tr>\n",
              "            <td>2020-01-04</td>\n",
              "            <td>2023-12-31</td>\n",
              "        </tr>\n",
              "    </tbody>\n",
              "</table>"
            ]
          },
          "metadata": {},
          "execution_count": 63
        }
      ]
    },
    {
      "cell_type": "code",
      "source": [
        "%%sql\n",
        "select * from SaaS_Sales limit 5;"
      ],
      "metadata": {
        "colab": {
          "base_uri": "https://localhost:8080/",
          "height": 353
        },
        "id": "29vvTCkj4xVF",
        "outputId": "a943b954-f615-4f53-9648-8d3df37c6e96"
      },
      "execution_count": null,
      "outputs": [
        {
          "output_type": "stream",
          "name": "stdout",
          "text": [
            " * sqlite:///SaaS_Company.db\n",
            "Done.\n"
          ]
        },
        {
          "output_type": "execute_result",
          "data": {
            "text/plain": [
              "[(1, 'EMEA-2022-152156', '11/9/2022', 20221109, 'Nathan Bell', 'Ireland', 'Dublin', 'EMEA', 'UKIR', 'Chevron', 1017, 'Energy', 'SMB', 'Marketing Suite', '16GRM07R1K', 261.96, 2, 0.0, 41.9136),\n",
              " (2, 'EMEA-2022-152156', '11/9/2022', 20221109, 'Nathan Bell', 'Ireland', 'Dublin', 'EMEA', 'UKIR', 'Chevron', 1017, 'Energy', 'SMB', 'FinanceHub', 'QLIW57KZUV', 731.94, 3, 0.0, 219.582),\n",
              " (3, 'AMER-2022-138688', '6/13/2022', 20220613, 'Deirdre Bailey', 'United States', 'New York City', 'AMER', 'NAMER', 'Phillips 66', 1056, 'Energy', 'Strategic', 'FinanceHub', 'JI6BVL70HQ', 14.62, 2, 0.0, 6.8714),\n",
              " (4, 'EMEA-2021-108966', '10/11/2021', 20211011, 'Zoe Hodges', 'Germany', 'Stuttgart', 'EMEA', 'EU-WEST', 'Royal Dutch Shell', 1031, 'Energy', 'SMB', 'ContactMatcher', 'DE9GJKGD44', 957.5775, 5, 0.45, -383.031),\n",
              " (5, 'EMEA-2021-108966', '10/11/2021', 20211011, 'Zoe Hodges', 'Germany', 'Stuttgart', 'EMEA', 'EU-WEST', 'Royal Dutch Shell', 1031, 'Energy', 'SMB', 'Marketing Suite - Gold', 'OIF7NY23WD', 22.368, 2, 0.2, 2.5164)]"
            ],
            "text/html": [
              "<table>\n",
              "    <thead>\n",
              "        <tr>\n",
              "            <th>Row_ID</th>\n",
              "            <th>Order_ID</th>\n",
              "            <th>Order_Date</th>\n",
              "            <th>Date_Key</th>\n",
              "            <th>Contact_Name</th>\n",
              "            <th>Country</th>\n",
              "            <th>City</th>\n",
              "            <th>Region</th>\n",
              "            <th>Subregion</th>\n",
              "            <th>Customer</th>\n",
              "            <th>Customer_ID</th>\n",
              "            <th>Industry</th>\n",
              "            <th>Segment</th>\n",
              "            <th>Product</th>\n",
              "            <th>License</th>\n",
              "            <th>Sales</th>\n",
              "            <th>Quantity</th>\n",
              "            <th>Discount</th>\n",
              "            <th>Profit</th>\n",
              "        </tr>\n",
              "    </thead>\n",
              "    <tbody>\n",
              "        <tr>\n",
              "            <td>1</td>\n",
              "            <td>EMEA-2022-152156</td>\n",
              "            <td>11/9/2022</td>\n",
              "            <td>20221109</td>\n",
              "            <td>Nathan Bell</td>\n",
              "            <td>Ireland</td>\n",
              "            <td>Dublin</td>\n",
              "            <td>EMEA</td>\n",
              "            <td>UKIR</td>\n",
              "            <td>Chevron</td>\n",
              "            <td>1017</td>\n",
              "            <td>Energy</td>\n",
              "            <td>SMB</td>\n",
              "            <td>Marketing Suite</td>\n",
              "            <td>16GRM07R1K</td>\n",
              "            <td>261.96</td>\n",
              "            <td>2</td>\n",
              "            <td>0.0</td>\n",
              "            <td>41.9136</td>\n",
              "        </tr>\n",
              "        <tr>\n",
              "            <td>2</td>\n",
              "            <td>EMEA-2022-152156</td>\n",
              "            <td>11/9/2022</td>\n",
              "            <td>20221109</td>\n",
              "            <td>Nathan Bell</td>\n",
              "            <td>Ireland</td>\n",
              "            <td>Dublin</td>\n",
              "            <td>EMEA</td>\n",
              "            <td>UKIR</td>\n",
              "            <td>Chevron</td>\n",
              "            <td>1017</td>\n",
              "            <td>Energy</td>\n",
              "            <td>SMB</td>\n",
              "            <td>FinanceHub</td>\n",
              "            <td>QLIW57KZUV</td>\n",
              "            <td>731.94</td>\n",
              "            <td>3</td>\n",
              "            <td>0.0</td>\n",
              "            <td>219.582</td>\n",
              "        </tr>\n",
              "        <tr>\n",
              "            <td>3</td>\n",
              "            <td>AMER-2022-138688</td>\n",
              "            <td>6/13/2022</td>\n",
              "            <td>20220613</td>\n",
              "            <td>Deirdre Bailey</td>\n",
              "            <td>United States</td>\n",
              "            <td>New York City</td>\n",
              "            <td>AMER</td>\n",
              "            <td>NAMER</td>\n",
              "            <td>Phillips 66</td>\n",
              "            <td>1056</td>\n",
              "            <td>Energy</td>\n",
              "            <td>Strategic</td>\n",
              "            <td>FinanceHub</td>\n",
              "            <td>JI6BVL70HQ</td>\n",
              "            <td>14.62</td>\n",
              "            <td>2</td>\n",
              "            <td>0.0</td>\n",
              "            <td>6.8714</td>\n",
              "        </tr>\n",
              "        <tr>\n",
              "            <td>4</td>\n",
              "            <td>EMEA-2021-108966</td>\n",
              "            <td>10/11/2021</td>\n",
              "            <td>20211011</td>\n",
              "            <td>Zoe Hodges</td>\n",
              "            <td>Germany</td>\n",
              "            <td>Stuttgart</td>\n",
              "            <td>EMEA</td>\n",
              "            <td>EU-WEST</td>\n",
              "            <td>Royal Dutch Shell</td>\n",
              "            <td>1031</td>\n",
              "            <td>Energy</td>\n",
              "            <td>SMB</td>\n",
              "            <td>ContactMatcher</td>\n",
              "            <td>DE9GJKGD44</td>\n",
              "            <td>957.5775</td>\n",
              "            <td>5</td>\n",
              "            <td>0.45</td>\n",
              "            <td>-383.031</td>\n",
              "        </tr>\n",
              "        <tr>\n",
              "            <td>5</td>\n",
              "            <td>EMEA-2021-108966</td>\n",
              "            <td>10/11/2021</td>\n",
              "            <td>20211011</td>\n",
              "            <td>Zoe Hodges</td>\n",
              "            <td>Germany</td>\n",
              "            <td>Stuttgart</td>\n",
              "            <td>EMEA</td>\n",
              "            <td>EU-WEST</td>\n",
              "            <td>Royal Dutch Shell</td>\n",
              "            <td>1031</td>\n",
              "            <td>Energy</td>\n",
              "            <td>SMB</td>\n",
              "            <td>Marketing Suite - Gold</td>\n",
              "            <td>OIF7NY23WD</td>\n",
              "            <td>22.368</td>\n",
              "            <td>2</td>\n",
              "            <td>0.2</td>\n",
              "            <td>2.5164</td>\n",
              "        </tr>\n",
              "    </tbody>\n",
              "</table>"
            ]
          },
          "metadata": {},
          "execution_count": 16
        }
      ]
    },
    {
      "cell_type": "code",
      "source": [
        "%%sql\n",
        "SELECT\n",
        "    strftime('%Y', Order_Date) AS Year,\n",
        "    (CAST(strftime('%m', Order_Date) AS INTEGER) - 1) / 3 + 1 AS Quarter,\n",
        "    ROUND(SUM(Profit), 2) AS Total_Profit\n",
        "FROM SaaS_Sales\n",
        "GROUP BY Year, Quarter\n",
        "ORDER BY Year, Quarter;"
      ],
      "metadata": {
        "colab": {
          "base_uri": "https://localhost:8080/",
          "height": 409
        },
        "collapsed": true,
        "id": "iHYV7GksGAFh",
        "outputId": "7cd8426c-2917-4c45-fc02-0f3fc0699b3c"
      },
      "execution_count": null,
      "outputs": [
        {
          "output_type": "stream",
          "name": "stdout",
          "text": [
            " * sqlite:///SaaS_Company.db\n",
            "Done.\n"
          ]
        },
        {
          "output_type": "execute_result",
          "data": {
            "text/plain": [
              "[('2020', 1, 3811.23),\n",
              " ('2020', 2, 11204.07),\n",
              " ('2020', 3, 12804.72),\n",
              " ('2020', 4, 21723.95),\n",
              " ('2021', 1, 9264.94),\n",
              " ('2021', 2, 12190.92),\n",
              " ('2021', 3, 16853.62),\n",
              " ('2021', 4, 23309.12),\n",
              " ('2022', 1, 11446.34),\n",
              " ('2022', 2, 16084.91),\n",
              " ('2022', 3, 16153.5),\n",
              " ('2022', 4, 38042.18),\n",
              " ('2023', 1, 21772.23),\n",
              " ('2023', 2, 17165.76),\n",
              " ('2023', 3, 26913.45),\n",
              " ('2023', 4, 27656.08)]"
            ],
            "text/html": [
              "<table>\n",
              "    <thead>\n",
              "        <tr>\n",
              "            <th>Year</th>\n",
              "            <th>Quarter</th>\n",
              "            <th>Total_Profit</th>\n",
              "        </tr>\n",
              "    </thead>\n",
              "    <tbody>\n",
              "        <tr>\n",
              "            <td>2020</td>\n",
              "            <td>1</td>\n",
              "            <td>3811.23</td>\n",
              "        </tr>\n",
              "        <tr>\n",
              "            <td>2020</td>\n",
              "            <td>2</td>\n",
              "            <td>11204.07</td>\n",
              "        </tr>\n",
              "        <tr>\n",
              "            <td>2020</td>\n",
              "            <td>3</td>\n",
              "            <td>12804.72</td>\n",
              "        </tr>\n",
              "        <tr>\n",
              "            <td>2020</td>\n",
              "            <td>4</td>\n",
              "            <td>21723.95</td>\n",
              "        </tr>\n",
              "        <tr>\n",
              "            <td>2021</td>\n",
              "            <td>1</td>\n",
              "            <td>9264.94</td>\n",
              "        </tr>\n",
              "        <tr>\n",
              "            <td>2021</td>\n",
              "            <td>2</td>\n",
              "            <td>12190.92</td>\n",
              "        </tr>\n",
              "        <tr>\n",
              "            <td>2021</td>\n",
              "            <td>3</td>\n",
              "            <td>16853.62</td>\n",
              "        </tr>\n",
              "        <tr>\n",
              "            <td>2021</td>\n",
              "            <td>4</td>\n",
              "            <td>23309.12</td>\n",
              "        </tr>\n",
              "        <tr>\n",
              "            <td>2022</td>\n",
              "            <td>1</td>\n",
              "            <td>11446.34</td>\n",
              "        </tr>\n",
              "        <tr>\n",
              "            <td>2022</td>\n",
              "            <td>2</td>\n",
              "            <td>16084.91</td>\n",
              "        </tr>\n",
              "        <tr>\n",
              "            <td>2022</td>\n",
              "            <td>3</td>\n",
              "            <td>16153.5</td>\n",
              "        </tr>\n",
              "        <tr>\n",
              "            <td>2022</td>\n",
              "            <td>4</td>\n",
              "            <td>38042.18</td>\n",
              "        </tr>\n",
              "        <tr>\n",
              "            <td>2023</td>\n",
              "            <td>1</td>\n",
              "            <td>21772.23</td>\n",
              "        </tr>\n",
              "        <tr>\n",
              "            <td>2023</td>\n",
              "            <td>2</td>\n",
              "            <td>17165.76</td>\n",
              "        </tr>\n",
              "        <tr>\n",
              "            <td>2023</td>\n",
              "            <td>3</td>\n",
              "            <td>26913.45</td>\n",
              "        </tr>\n",
              "        <tr>\n",
              "            <td>2023</td>\n",
              "            <td>4</td>\n",
              "            <td>27656.08</td>\n",
              "        </tr>\n",
              "    </tbody>\n",
              "</table>"
            ]
          },
          "metadata": {},
          "execution_count": 66
        }
      ]
    },
    {
      "cell_type": "markdown",
      "source": [
        "**Insight 4:** Fourth quarter always generate the highest profit while first quarter usually generate the lowest profit\n",
        "Recommendation: Resource Allocation based on Quarterly Insights.\n",
        "Understanding the quarterly profit patterns is crucial for resource allocation. Since the fourth quarter consistently generates the highest profit and the first quarter tends to have the lowest, allocate additional resources and marketing efforts leading up to the fourth quarter. Plan promotions, product launches, and sales campaigns during this time to maximize profit and offset any potential dips in the first quarter."
      ],
      "metadata": {
        "id": "JoVjGXORGkrt"
      }
    },
    {
      "cell_type": "markdown",
      "source": [
        "## **E.Sales vs. Discount Correlation:**"
      ],
      "metadata": {
        "id": "PvOtjtIkGq7K"
      }
    },
    {
      "cell_type": "code",
      "source": [
        "%%sql\n",
        "select *\n",
        "from SaaS_Sales\n",
        "limit 5;"
      ],
      "metadata": {
        "colab": {
          "base_uri": "https://localhost:8080/",
          "height": 353
        },
        "id": "EJFojcL0GzaF",
        "outputId": "3298adf3-e271-441d-dc41-1a59ff5f57f9"
      },
      "execution_count": null,
      "outputs": [
        {
          "output_type": "stream",
          "name": "stdout",
          "text": [
            " * sqlite:///SaaS_Company.db\n",
            "Done.\n"
          ]
        },
        {
          "output_type": "execute_result",
          "data": {
            "text/plain": [
              "[('1', 'EMEA-2022-152156', '2022-11-09', '20221109', 'Nathan Bell', 'Ireland', 'Dublin', 'EMEA', 'UKIR', 'Chevron', '1017', 'Energy', 'SMB', 'Marketing Suite', '16GRM07R1K', 261.96, 2, 0.0, 41.9136),\n",
              " ('2', 'EMEA-2022-152156', '2022-11-09', '20221109', 'Nathan Bell', 'Ireland', 'Dublin', 'EMEA', 'UKIR', 'Chevron', '1017', 'Energy', 'SMB', 'FinanceHub', 'QLIW57KZUV', 731.94, 3, 0.0, 219.582),\n",
              " ('3', 'AMER-2022-138688', '2022-06-13', '20220613', 'Deirdre Bailey', 'United States', 'New York City', 'AMER', 'NAMER', 'Phillips 66', '1056', 'Energy', 'Strategic', 'FinanceHub', 'JI6BVL70HQ', 14.62, 2, 0.0, 6.8714),\n",
              " ('4', 'EMEA-2021-108966', '2021-10-11', '20211011', 'Zoe Hodges', 'Germany', 'Stuttgart', 'EMEA', 'EU-WEST', 'Royal Dutch Shell', '1031', 'Energy', 'SMB', 'ContactMatcher', 'DE9GJKGD44', 957.5775, 5, 0.45, -383.031),\n",
              " ('5', 'EMEA-2021-108966', '2021-10-11', '20211011', 'Zoe Hodges', 'Germany', 'Stuttgart', 'EMEA', 'EU-WEST', 'Royal Dutch Shell', '1031', 'Energy', 'SMB', 'Marketing Suite - Gold', 'OIF7NY23WD', 22.368, 2, 0.2, 2.5164)]"
            ],
            "text/html": [
              "<table>\n",
              "    <thead>\n",
              "        <tr>\n",
              "            <th>Row_ID</th>\n",
              "            <th>Order_ID</th>\n",
              "            <th>Order_Date</th>\n",
              "            <th>Date_Key</th>\n",
              "            <th>Contact_Name</th>\n",
              "            <th>Country</th>\n",
              "            <th>City</th>\n",
              "            <th>Region</th>\n",
              "            <th>Subregion</th>\n",
              "            <th>Customer</th>\n",
              "            <th>Customer_ID</th>\n",
              "            <th>Industry</th>\n",
              "            <th>Segment</th>\n",
              "            <th>Product</th>\n",
              "            <th>License</th>\n",
              "            <th>Sales</th>\n",
              "            <th>Quantity</th>\n",
              "            <th>Discount</th>\n",
              "            <th>Profit</th>\n",
              "        </tr>\n",
              "    </thead>\n",
              "    <tbody>\n",
              "        <tr>\n",
              "            <td>1</td>\n",
              "            <td>EMEA-2022-152156</td>\n",
              "            <td>2022-11-09</td>\n",
              "            <td>20221109</td>\n",
              "            <td>Nathan Bell</td>\n",
              "            <td>Ireland</td>\n",
              "            <td>Dublin</td>\n",
              "            <td>EMEA</td>\n",
              "            <td>UKIR</td>\n",
              "            <td>Chevron</td>\n",
              "            <td>1017</td>\n",
              "            <td>Energy</td>\n",
              "            <td>SMB</td>\n",
              "            <td>Marketing Suite</td>\n",
              "            <td>16GRM07R1K</td>\n",
              "            <td>261.96</td>\n",
              "            <td>2</td>\n",
              "            <td>0.0</td>\n",
              "            <td>41.9136</td>\n",
              "        </tr>\n",
              "        <tr>\n",
              "            <td>2</td>\n",
              "            <td>EMEA-2022-152156</td>\n",
              "            <td>2022-11-09</td>\n",
              "            <td>20221109</td>\n",
              "            <td>Nathan Bell</td>\n",
              "            <td>Ireland</td>\n",
              "            <td>Dublin</td>\n",
              "            <td>EMEA</td>\n",
              "            <td>UKIR</td>\n",
              "            <td>Chevron</td>\n",
              "            <td>1017</td>\n",
              "            <td>Energy</td>\n",
              "            <td>SMB</td>\n",
              "            <td>FinanceHub</td>\n",
              "            <td>QLIW57KZUV</td>\n",
              "            <td>731.94</td>\n",
              "            <td>3</td>\n",
              "            <td>0.0</td>\n",
              "            <td>219.582</td>\n",
              "        </tr>\n",
              "        <tr>\n",
              "            <td>3</td>\n",
              "            <td>AMER-2022-138688</td>\n",
              "            <td>2022-06-13</td>\n",
              "            <td>20220613</td>\n",
              "            <td>Deirdre Bailey</td>\n",
              "            <td>United States</td>\n",
              "            <td>New York City</td>\n",
              "            <td>AMER</td>\n",
              "            <td>NAMER</td>\n",
              "            <td>Phillips 66</td>\n",
              "            <td>1056</td>\n",
              "            <td>Energy</td>\n",
              "            <td>Strategic</td>\n",
              "            <td>FinanceHub</td>\n",
              "            <td>JI6BVL70HQ</td>\n",
              "            <td>14.62</td>\n",
              "            <td>2</td>\n",
              "            <td>0.0</td>\n",
              "            <td>6.8714</td>\n",
              "        </tr>\n",
              "        <tr>\n",
              "            <td>4</td>\n",
              "            <td>EMEA-2021-108966</td>\n",
              "            <td>2021-10-11</td>\n",
              "            <td>20211011</td>\n",
              "            <td>Zoe Hodges</td>\n",
              "            <td>Germany</td>\n",
              "            <td>Stuttgart</td>\n",
              "            <td>EMEA</td>\n",
              "            <td>EU-WEST</td>\n",
              "            <td>Royal Dutch Shell</td>\n",
              "            <td>1031</td>\n",
              "            <td>Energy</td>\n",
              "            <td>SMB</td>\n",
              "            <td>ContactMatcher</td>\n",
              "            <td>DE9GJKGD44</td>\n",
              "            <td>957.5775</td>\n",
              "            <td>5</td>\n",
              "            <td>0.45</td>\n",
              "            <td>-383.031</td>\n",
              "        </tr>\n",
              "        <tr>\n",
              "            <td>5</td>\n",
              "            <td>EMEA-2021-108966</td>\n",
              "            <td>2021-10-11</td>\n",
              "            <td>20211011</td>\n",
              "            <td>Zoe Hodges</td>\n",
              "            <td>Germany</td>\n",
              "            <td>Stuttgart</td>\n",
              "            <td>EMEA</td>\n",
              "            <td>EU-WEST</td>\n",
              "            <td>Royal Dutch Shell</td>\n",
              "            <td>1031</td>\n",
              "            <td>Energy</td>\n",
              "            <td>SMB</td>\n",
              "            <td>Marketing Suite - Gold</td>\n",
              "            <td>OIF7NY23WD</td>\n",
              "            <td>22.368</td>\n",
              "            <td>2</td>\n",
              "            <td>0.2</td>\n",
              "            <td>2.5164</td>\n",
              "        </tr>\n",
              "    </tbody>\n",
              "</table>"
            ]
          },
          "metadata": {},
          "execution_count": 67
        }
      ]
    },
    {
      "cell_type": "markdown",
      "source": [
        "After using shaphiro wilk test and make histogram for Sales and Discount,\n",
        "it is concluded that both Sales and Discount are not normally distributed."
      ],
      "metadata": {
        "id": "4NVL-rZWiKjd"
      }
    },
    {
      "cell_type": "code",
      "source": [
        "import sqlite3\n",
        "import pandas as pd\n",
        "import seaborn as sns\n",
        "import matplotlib.pyplot as plt\n",
        "from scipy.stats import shapiro\n",
        "\n",
        "# Connect to DB\n",
        "conn = sqlite3.connect(\"SaaS_Company.db\")"
      ],
      "metadata": {
        "id": "VfI5gTTxjtUq"
      },
      "execution_count": 82,
      "outputs": []
    },
    {
      "cell_type": "code",
      "source": [
        "# Create df4 from Sales and Discount\n",
        "# Pull required columns\n",
        "df4 = pd.read_sql(\"SELECT Sales, Discount FROM SaaS_Sales;\", conn)\n",
        "\n",
        "# Quick check\n",
        "df4.shape, df4.head()\n"
      ],
      "metadata": {
        "colab": {
          "base_uri": "https://localhost:8080/"
        },
        "id": "jc--cGahjvUp",
        "outputId": "ddd97c3e-37c5-4221-d92d-a182612d8bf0"
      },
      "execution_count": 85,
      "outputs": [
        {
          "output_type": "execute_result",
          "data": {
            "text/plain": [
              "((9994, 2),\n",
              "       Sales  Discount\n",
              " 0  261.9600      0.00\n",
              " 1  731.9400      0.00\n",
              " 2   14.6200      0.00\n",
              " 3  957.5775      0.45\n",
              " 4   22.3680      0.20)"
            ]
          },
          "metadata": {},
          "execution_count": 85
        }
      ]
    },
    {
      "cell_type": "code",
      "source": [
        "# Test for normality using shapiro wilk test on Sales and Discount with significance level alpha(0.05)\n",
        "alpha = 0.05\n",
        "for col in df4.columns:\n",
        "    stat, p = shapiro(df4[col])\n",
        "    if p > alpha:\n",
        "        print(f\"{col}: p={p:.4f} > {alpha}, looks NORMAL\")\n",
        "    else:\n",
        "        print(f\"{col}: p={p:.4f} <= {alpha}, NOT normal\")"
      ],
      "metadata": {
        "colab": {
          "base_uri": "https://localhost:8080/"
        },
        "id": "9Vgax9ynj2v7",
        "outputId": "63237fcc-071f-4ab9-aa87-949e02113bfb"
      },
      "execution_count": 86,
      "outputs": [
        {
          "output_type": "stream",
          "name": "stdout",
          "text": [
            "Sales: p=0.0000 <= 0.05, NOT normal\n",
            "Discount: p=0.0000 <= 0.05, NOT normal\n"
          ]
        },
        {
          "output_type": "stream",
          "name": "stderr",
          "text": [
            "/usr/local/lib/python3.12/dist-packages/scipy/stats/_axis_nan_policy.py:579: UserWarning: scipy.stats.shapiro: For N > 5000, computed p-value may not be accurate. Current N is 9994.\n",
            "  res = hypotest_fun_out(*samples, **kwds)\n"
          ]
        }
      ]
    },
    {
      "cell_type": "markdown",
      "source": [
        "Sales, Shapiro Wilk Test Result:<br>\n",
        "pvalue = 0.0 is less or equal than alpha(0.05).<br>\n",
        "Sample does not look Gaussian (reject Ho), therefore Sales is not normally distributed.<br>\n",
        "\n",
        "Discount, Shapiro Wilk Test Result:<br>\n",
        "pvalue = 0.0 is less or equal than alpha(0.05).<br>\n",
        "Sample does not look Gaussian (reject Ho), therefore Discount is not normally distributed.<br>"
      ],
      "metadata": {
        "id": "RwV-howLkeqj"
      }
    },
    {
      "cell_type": "code",
      "source": [
        "# Test for normality by create Sales and Discount histogram\n",
        "plt.figure(figsize=(12,5))\n",
        "\n",
        "plt.subplot(1,2,1)\n",
        "sns.histplot(df5['Sales'], bins=20, kde=True)\n",
        "plt.title(\"Sales Histogram\")\n",
        "\n",
        "plt.subplot(1,2,2)\n",
        "sns.histplot(df5['Discount'], bins=20, kde=True)\n",
        "plt.title(\"Discount Histogram\")\n",
        "\n",
        "plt.show()"
      ],
      "metadata": {
        "colab": {
          "base_uri": "https://localhost:8080/",
          "height": 487
        },
        "id": "EvOXRR4lj9J2",
        "outputId": "3c4bb5d0-6e26-426e-8e5d-709db01363aa"
      },
      "execution_count": 87,
      "outputs": [
        {
          "output_type": "display_data",
          "data": {
            "text/plain": [
              "<Figure size 1200x500 with 2 Axes>"
            ],
            "image/png": "[encoded data removed]"
          },
          "metadata": {}
        }
      ]
    },
    {
      "cell_type": "markdown",
      "source": [
        "After using shaphiro wilk test and make histogram for Sales and Discount,<br>\n",
        "it is concluded that both Sales and Discount are not normally distributed."
      ],
      "metadata": {
        "id": "0DSoCUCAkTW0"
      }
    },
    {
      "cell_type": "code",
      "source": [
        "# Using Spearman Correlation instead of Pearson Correlation on df5 because Sales or Discount are not normally distributed.\n",
        "\n",
        "df4_corr = df4.corr(method='spearman').apply(lambda x: round(x,2))\n",
        "df4_corr"
      ],
      "metadata": {
        "colab": {
          "base_uri": "https://localhost:8080/",
          "height": 125
        },
        "id": "UkiBE3r0j_0v",
        "outputId": "daff67de-de91-457a-bc07-1daa352e8b67"
      },
      "execution_count": 88,
      "outputs": [
        {
          "output_type": "execute_result",
          "data": {
            "text/plain": [
              "          Sales  Discount\n",
              "Sales      1.00     -0.06\n",
              "Discount  -0.06      1.00"
            ],
            "text/html": [
              "\n",
              "  <div id=\"df-5fda7a9c-57b5-4ba0-9d4e-ef57b29244c3\" class=\"colab-df-container\">\n",
              "    <div>\n",
              "<style scoped>\n",
              "    .dataframe tbody tr th:only-of-type {\n",
              "        vertical-align: middle;\n",
              "    }\n",
              "\n",
              "    .dataframe tbody tr th {\n",
              "        vertical-align: top;\n",
              "    }\n",
              "\n",
              "    .dataframe thead th {\n",
              "        text-align: right;\n",
              "    }\n",
              "</style>\n",
              "<table border=\"1\" class=\"dataframe\">\n",
              "  <thead>\n",
              "    <tr style=\"text-align: right;\">\n",
              "      <th></th>\n",
              "      <th>Sales</th>\n",
              "      <th>Discount</th>\n",
              "    </tr>\n",
              "  </thead>\n",
              "  <tbody>\n",
              "    <tr>\n",
              "      <th>Sales</th>\n",
              "      <td>1.00</td>\n",
              "      <td>-0.06</td>\n",
              "    </tr>\n",
              "    <tr>\n",
              "      <th>Discount</th>\n",
              "      <td>-0.06</td>\n",
              "      <td>1.00</td>\n",
              "    </tr>\n",
              "  </tbody>\n",
              "</table>\n",
              "</div>\n",
              "    <div class=\"colab-df-buttons\">\n",
              "\n",
              "  <div class=\"colab-df-container\">\n",
              "    <button class=\"colab-df-convert\" onclick=\"convertToInteractive('df-5fda7a9c-57b5-4ba0-9d4e-ef57b29244c3')\"\n",
              "            title=\"Convert this dataframe to an interactive table.\"\n",
              "            style=\"display:none;\">\n",
              "\n",
              "  <svg xmlns=\"http://www.w3.org/2000/svg\" height=\"24px\" viewBox=\"0 -960 960 960\">\n",
              "    <path d=\"M120-120v-720h720v720H120Zm60-500h600v-160H180v160Zm220 220h160v-160H400v160Zm0 220h160v-160H400v160ZM180-400h160v-160H180v160Zm440 0h160v-160H620v160ZM180-180h160v-160H180v160Zm440 0h160v-160H620v160Z\"/>\n",
              "  </svg>\n",
              "    </button>\n",
              "\n",
              "  <style>\n",
              "    .colab-df-container {\n",
              "      display:flex;\n",
              "      gap: 12px;\n",
              "    }\n",
              "\n",
              "    .colab-df-convert {\n",
              "      background-color: #E8F0FE;\n",
              "      border: none;\n",
              "      border-radius: 50%;\n",
              "      cursor: pointer;\n",
              "      display: none;\n",
              "      fill: #1967D2;\n",
              "      height: 32px;\n",
              "      padding: 0 0 0 0;\n",
              "      width: 32px;\n",
              "    }\n",
              "\n",
              "    .colab-df-convert:hover {\n",
              "      background-color: #E2EBFA;\n",
              "      box-shadow: 0px 1px 2px rgba(60, 64, 67, 0.3), 0px 1px 3px 1px rgba(60, 64, 67, 0.15);\n",
              "      fill: #174EA6;\n",
              "    }\n",
              "\n",
              "    .colab-df-buttons div {\n",
              "      margin-bottom: 4px;\n",
              "    }\n",
              "\n",
              "    [theme=dark] .colab-df-convert {\n",
              "      background-color: #3B4455;\n",
              "      fill: #D2E3FC;\n",
              "    }\n",
              "\n",
              "    [theme=dark] .colab-df-convert:hover {\n",
              "      background-color: #434B5C;\n",
              "      box-shadow: 0px 1px 3px 1px rgba(0, 0, 0, 0.15);\n",
              "      filter: drop-shadow(0px 1px 2px rgba(0, 0, 0, 0.3));\n",
              "      fill: #FFFFFF;\n",
              "    }\n",
              "  </style>\n",
              "\n",
              "    <script>\n",
              "      const buttonEl =\n",
              "        document.querySelector('#df-5fda7a9c-57b5-4ba0-9d4e-ef57b29244c3 button.colab-df-convert');\n",
              "      buttonEl.style.display =\n",
              "        google.colab.kernel.accessAllowed ? 'block' : 'none';\n",
              "\n",
              "      async function convertToInteractive(key) {\n",
              "        const element = document.querySelector('#df-5fda7a9c-57b5-4ba0-9d4e-ef57b29244c3');\n",
              "        const dataTable =\n",
              "          await google.colab.kernel.invokeFunction('convertToInteractive',\n",
              "                                                    [key], {});\n",
              "        if (!dataTable) return;\n",
              "\n",
              "        const docLinkHtml = 'Like what you see? Visit the ' +\n",
              "          '<a target=\"_blank\" href=https://colab.research.google.com/notebooks/data_table.ipynb>data table notebook</a>'\n",
              "          + ' to learn more about interactive tables.';\n",
              "        element.innerHTML = '';\n",
              "        dataTable['output_type'] = 'display_data';\n",
              "        await google.colab.output.renderOutput(dataTable, element);\n",
              "        const docLink = document.createElement('div');\n",
              "        docLink.innerHTML = docLinkHtml;\n",
              "        element.appendChild(docLink);\n",
              "      }\n",
              "    </script>\n",
              "  </div>\n",
              "\n",
              "\n",
              "    <div id=\"df-195b40fa-85ea-4f27-90e6-ff34921bc02e\">\n",
              "      <button class=\"colab-df-quickchart\" onclick=\"quickchart('df-195b40fa-85ea-4f27-90e6-ff34921bc02e')\"\n",
              "                title=\"Suggest charts\"\n",
              "                style=\"display:none;\">\n",
              "\n",
              "<svg xmlns=\"http://www.w3.org/2000/svg\" height=\"24px\"viewBox=\"0 0 24 24\"\n",
              "     width=\"24px\">\n",
              "    <g>\n",
              "        <path d=\"M19 3H5c-1.1 0-2 .9-2 2v14c0 1.1.9 2 2 2h14c1.1 0 2-.9 2-2V5c0-1.1-.9-2-2-2zM9 17H7v-7h2v7zm4 0h-2V7h2v10zm4 0h-2v-4h2v4z\"/>\n",
              "    </g>\n",
              "</svg>\n",
              "      </button>\n",
              "\n",
              "<style>\n",
              "  .colab-df-quickchart {\n",
              "      --bg-color: #E8F0FE;\n",
              "      --fill-color: #1967D2;\n",
              "      --hover-bg-color: #E2EBFA;\n",
              "      --hover-fill-color: #174EA6;\n",
              "      --disabled-fill-color: #AAA;\n",
              "      --disabled-bg-color: #DDD;\n",
              "  }\n",
              "\n",
              "  [theme=dark] .colab-df-quickchart {\n",
              "      --bg-color: #3B4455;\n",
              "      --fill-color: #D2E3FC;\n",
              "      --hover-bg-color: #434B5C;\n",
              "      --hover-fill-color: #FFFFFF;\n",
              "      --disabled-bg-color: #3B4455;\n",
              "      --disabled-fill-color: #666;\n",
              "  }\n",
              "\n",
              "  .colab-df-quickchart {\n",
              "    background-color: var(--bg-color);\n",
              "    border: none;\n",
              "    border-radius: 50%;\n",
              "    cursor: pointer;\n",
              "    display: none;\n",
              "    fill: var(--fill-color);\n",
              "    height: 32px;\n",
              "    padding: 0;\n",
              "    width: 32px;\n",
              "  }\n",
              "\n",
              "  .colab-df-quickchart:hover {\n",
              "    background-color: var(--hover-bg-color);\n",
              "    box-shadow: 0 1px 2px rgba(60, 64, 67, 0.3), 0 1px 3px 1px rgba(60, 64, 67, 0.15);\n",
              "    fill: var(--button-hover-fill-color);\n",
              "  }\n",
              "\n",
              "  .colab-df-quickchart-complete:disabled,\n",
              "  .colab-df-quickchart-complete:disabled:hover {\n",
              "    background-color: var(--disabled-bg-color);\n",
              "    fill: var(--disabled-fill-color);\n",
              "    box-shadow: none;\n",
              "  }\n",
              "\n",
              "  .colab-df-spinner {\n",
              "    border: 2px solid var(--fill-color);\n",
              "    border-color: transparent;\n",
              "    border-bottom-color: var(--fill-color);\n",
              "    animation:\n",
              "      spin 1s steps(1) infinite;\n",
              "  }\n",
              "\n",
              "  @keyframes spin {\n",
              "    0% {\n",
              "      border-color: transparent;\n",
              "      border-bottom-color: var(--fill-color);\n",
              "      border-left-color: var(--fill-color);\n",
              "    }\n",
              "    20% {\n",
              "      border-color: transparent;\n",
              "      border-left-color: var(--fill-color);\n",
              "      border-top-color: var(--fill-color);\n",
              "    }\n",
              "    30% {\n",
              "      border-color: transparent;\n",
              "      border-left-color: var(--fill-color);\n",
              "      border-top-color: var(--fill-color);\n",
              "      border-right-color: var(--fill-color);\n",
              "    }\n",
              "    40% {\n",
              "      border-color: transparent;\n",
              "      border-right-color: var(--fill-color);\n",
              "      border-top-color: var(--fill-color);\n",
              "    }\n",
              "    60% {\n",
              "      border-color: transparent;\n",
              "      border-right-color: var(--fill-color);\n",
              "    }\n",
              "    80% {\n",
              "      border-color: transparent;\n",
              "      border-right-color: var(--fill-color);\n",
              "      border-bottom-color: var(--fill-color);\n",
              "    }\n",
              "    90% {\n",
              "      border-color: transparent;\n",
              "      border-bottom-color: var(--fill-color);\n",
              "    }\n",
              "  }\n",
              "</style>\n",
              "\n",
              "      <script>\n",
              "        async function quickchart(key) {\n",
              "          const quickchartButtonEl =\n",
              "            document.querySelector('#' + key + ' button');\n",
              "          quickchartButtonEl.disabled = true;  // To prevent multiple clicks.\n",
              "          quickchartButtonEl.classList.add('colab-df-spinner');\n",
              "          try {\n",
              "            const charts = await google.colab.kernel.invokeFunction(\n",
              "                'suggestCharts', [key], {});\n",
              "          } catch (error) {\n",
              "            console.error('Error during call to suggestCharts:', error);\n",
              "          }\n",
              "          quickchartButtonEl.classList.remove('colab-df-spinner');\n",
              "          quickchartButtonEl.classList.add('colab-df-quickchart-complete');\n",
              "        }\n",
              "        (() => {\n",
              "          let quickchartButtonEl =\n",
              "            document.querySelector('#df-195b40fa-85ea-4f27-90e6-ff34921bc02e button');\n",
              "          quickchartButtonEl.style.display =\n",
              "            google.colab.kernel.accessAllowed ? 'block' : 'none';\n",
              "        })();\n",
              "      </script>\n",
              "    </div>\n",
              "\n",
              "  <div id=\"id_4e0d6de3-72f7-49f7-97bf-4489d6b3787f\">\n",
              "    <style>\n",
              "      .colab-df-generate {\n",
              "        background-color: #E8F0FE;\n",
              "        border: none;\n",
              "        border-radius: 50%;\n",
              "        cursor: pointer;\n",
              "        display: none;\n",
              "        fill: #1967D2;\n",
              "        height: 32px;\n",
              "        padding: 0 0 0 0;\n",
              "        width: 32px;\n",
              "      }\n",
              "\n",
              "      .colab-df-generate:hover {\n",
              "        background-color: #E2EBFA;\n",
              "        box-shadow: 0px 1px 2px rgba(60, 64, 67, 0.3), 0px 1px 3px 1px rgba(60, 64, 67, 0.15);\n",
              "        fill: #174EA6;\n",
              "      }\n",
              "\n",
              "      [theme=dark] .colab-df-generate {\n",
              "        background-color: #3B4455;\n",
              "        fill: #D2E3FC;\n",
              "      }\n",
              "\n",
              "      [theme=dark] .colab-df-generate:hover {\n",
              "        background-color: #434B5C;\n",
              "        box-shadow: 0px 1px 3px 1px rgba(0, 0, 0, 0.15);\n",
              "        filter: drop-shadow(0px 1px 2px rgba(0, 0, 0, 0.3));\n",
              "        fill: #FFFFFF;\n",
              "      }\n",
              "    </style>\n",
              "    <button class=\"colab-df-generate\" onclick=\"generateWithVariable('df4_corr')\"\n",
              "            title=\"Generate code using this dataframe.\"\n",
              "            style=\"display:none;\">\n",
              "\n",
              "  <svg xmlns=\"http://www.w3.org/2000/svg\" height=\"24px\"viewBox=\"0 0 24 24\"\n",
              "       width=\"24px\">\n",
              "    <path d=\"M7,19H8.4L18.45,9,17,7.55,7,17.6ZM5,21V16.75L18.45,3.32a2,2,0,0,1,2.83,0l1.4,1.43a1.91,1.91,0,0,1,.58,1.4,1.91,1.91,0,0,1-.58,1.4L9.25,21ZM18.45,9,17,7.55Zm-12,3A5.31,5.31,0,0,0,4.9,8.1,5.31,5.31,0,0,0,1,6.5,5.31,5.31,0,0,0,4.9,4.9,5.31,5.31,0,0,0,6.5,1,5.31,5.31,0,0,0,8.1,4.9,5.31,5.31,0,0,0,12,6.5,5.46,5.46,0,0,0,6.5,12Z\"/>\n",
              "  </svg>\n",
              "    </button>\n",
              "    <script>\n",
              "      (() => {\n",
              "      const buttonEl =\n",
              "        document.querySelector('#id_4e0d6de3-72f7-49f7-97bf-4489d6b3787f button.colab-df-generate');\n",
              "      buttonEl.style.display =\n",
              "        google.colab.kernel.accessAllowed ? 'block' : 'none';\n",
              "\n",
              "      buttonEl.onclick = () => {\n",
              "        google.colab.notebook.generateWithVariable('df4_corr');\n",
              "      }\n",
              "      })();\n",
              "    </script>\n",
              "  </div>\n",
              "\n",
              "    </div>\n",
              "  </div>\n"
            ],
            "application/vnd.google.colaboratory.intrinsic+json": {
              "type": "dataframe",
              "variable_name": "df4_corr",
              "summary": "{\n  \"name\": \"df4_corr\",\n  \"rows\": 2,\n  \"fields\": [\n    {\n      \"column\": \"Sales\",\n      \"properties\": {\n        \"dtype\": \"number\",\n        \"std\": 0.7495331880577404,\n        \"min\": -0.06,\n        \"max\": 1.0,\n        \"num_unique_values\": 2,\n        \"samples\": [\n          -0.06,\n          1.0\n        ],\n        \"semantic_type\": \"\",\n        \"description\": \"\"\n      }\n    },\n    {\n      \"column\": \"Discount\",\n      \"properties\": {\n        \"dtype\": \"number\",\n        \"std\": 0.7495331880577404,\n        \"min\": -0.06,\n        \"max\": 1.0,\n        \"num_unique_values\": 2,\n        \"samples\": [\n          1.0,\n          -0.06\n        ],\n        \"semantic_type\": \"\",\n        \"description\": \"\"\n      }\n    }\n  ]\n}"
            }
          },
          "metadata": {},
          "execution_count": 88
        }
      ]
    },
    {
      "cell_type": "code",
      "source": [
        "sns.heatmap(df5_corr, annot=True, cmap='seismic', center=0)\n",
        "plt.show()"
      ],
      "metadata": {
        "colab": {
          "base_uri": "https://localhost:8080/",
          "height": 435
        },
        "id": "0CIeDJJNkE-5",
        "outputId": "76d52487-be21-4c54-a245-6629b578559d"
      },
      "execution_count": 89,
      "outputs": [
        {
          "output_type": "display_data",
          "data": {
            "text/plain": [
              "<Figure size 640x480 with 2 Axes>"
            ],
            "image/png": "[encoded data removed]"
          },
          "metadata": {}
        }
      ]
    },
    {
      "cell_type": "markdown",
      "source": [
        "**Insight 5:** Sales and Discount has weak negative relations\n",
        "Recommendation: Analyze Discount Strategy Effectiveness.\n",
        "Given the weak negative correlation between sales and discounts, it's important to carefully evaluate your discount strategy. Consider conducting further testing to measure the impact of different discount on sales. Monitor customer behavior and purchasing patterns closely during discount periods. Adjust your discount strategy based on the insights gained to strike the right balance between boosting sales and maintaining healthy profit margins."
      ],
      "metadata": {
        "id": "VReANekUkOpV"
      }
    },
    {
      "cell_type": "markdown",
      "source": [
        "## **F. Chi-Squared Test for Independence between 5 Countries with the highest sales and 3 Industries with the highest profit**"
      ],
      "metadata": {
        "id": "fqEVmGcTljfZ"
      }
    },
    {
      "cell_type": "markdown",
      "source": [
        "You have:\n",
        "\n",
        "1. Countries (categorical variable).\n",
        "2. Industries (categorical variable).\n",
        "\n",
        "We want to know if the distribution of sales/profit across industries differs significantly by country.\n",
        "This is a categorical vs categorical problem → ✅ Chi-Square Test.\n",
        "\n",
        "1. Filter Data .<br>\n",
        "    a. Pick top 5 countries with highest sales.<br>\n",
        "    b. Pick top 3 industries with highest profit.<br>\n",
        "\n",
        "2. Create a Contingency Table <br>\n",
        "    A cross-tab (pivot) where rows = countries, columns = industries, values = counts (or aggregated sales/profits).\n",
        "\n",
        "3. Run Chi-Square Test <br>\n",
        "    a. Using scipy.stats.chi2_contingency(table) in Python.<br>\n",
        "    b. Output gives: χ² statistic, p-value, degrees of freedom.\n",
        "\n",
        "4. Decision Rule <br>\n",
        "    a. If p <= 0.05 → Reject H₀ → Country & Industry are dependent.<br>\n",
        "    b. If p > 0.05 → Fail to reject H₀ → No evidence of dependence.        "
      ],
      "metadata": {
        "id": "Rbk7_5QNoAJZ"
      }
    },
    {
      "cell_type": "code",
      "source": [
        "import pandas as pd\n",
        "from scipy.stats import chi2_contingency\n",
        "\n",
        "# Top 5 countries by sales\n",
        "top_countries = pd.read_sql(\"\"\"\n",
        "    SELECT Country, SUM(Sales) AS Total_Sales\n",
        "    FROM SaaS_Sales\n",
        "    GROUP BY Country\n",
        "    ORDER BY Total_Sales DESC\n",
        "    LIMIT 5;\n",
        "\"\"\", conn)\n",
        "\n",
        "# Top 3 industries by profit\n",
        "top_industries = pd.read_sql(\"\"\"\n",
        "    SELECT Industry, SUM(Profit) AS Total_Profit\n",
        "    FROM SaaS_Sales\n",
        "    GROUP BY Industry\n",
        "    ORDER BY Total_Profit DESC\n",
        "    LIMIT 3;\n",
        "\"\"\", conn)\n",
        "\n",
        "# Contingency table (Country vs Industry, count of orders)\n",
        "query = f\"\"\"\n",
        "SELECT Country, Industry, COUNT(*) as Orders\n",
        "FROM SaaS_Sales\n",
        "WHERE Country IN ({\",\".join(\"'\" + c + \"'\" for c in top_countries['Country'])})\n",
        "  AND Industry IN ({\",\".join(\"'\" + i + \"'\" for i in top_industries['Industry'])})\n",
        "GROUP BY Country, Industry;\n",
        "\"\"\"\n",
        "contingency_df = pd.read_sql(query, conn)\n",
        "\n",
        "table = contingency_df.pivot(index=\"Country\", columns=\"Industry\", values=\"Orders\").fillna(0)\n",
        "table"
      ],
      "metadata": {
        "colab": {
          "base_uri": "https://localhost:8080/",
          "height": 237
        },
        "id": "oSH98syDoBNF",
        "outputId": "5af5b95d-a56f-4872-99f4-25cc5e647fb5"
      },
      "execution_count": 90,
      "outputs": [
        {
          "output_type": "execute_result",
          "data": {
            "text/plain": [
              "Industry        Energy  Finance  Manufacturing\n",
              "Country                                       \n",
              "Canada              69      129             57\n",
              "France              45      121             94\n",
              "Japan              167      207            103\n",
              "United Kingdom     163      265            137\n",
              "United States      245      416            226"
            ],
            "text/html": [
              "\n",
              "  <div id=\"df-671583c0-0b9e-47c9-96e7-84a4f331129d\" class=\"colab-df-container\">\n",
              "    <div>\n",
              "<style scoped>\n",
              "    .dataframe tbody tr th:only-of-type {\n",
              "        vertical-align: middle;\n",
              "    }\n",
              "\n",
              "    .dataframe tbody tr th {\n",
              "        vertical-align: top;\n",
              "    }\n",
              "\n",
              "    .dataframe thead th {\n",
              "        text-align: right;\n",
              "    }\n",
              "</style>\n",
              "<table border=\"1\" class=\"dataframe\">\n",
              "  <thead>\n",
              "    <tr style=\"text-align: right;\">\n",
              "      <th>Industry</th>\n",
              "      <th>Energy</th>\n",
              "      <th>Finance</th>\n",
              "      <th>Manufacturing</th>\n",
              "    </tr>\n",
              "    <tr>\n",
              "      <th>Country</th>\n",
              "      <th></th>\n",
              "      <th></th>\n",
              "      <th></th>\n",
              "    </tr>\n",
              "  </thead>\n",
              "  <tbody>\n",
              "    <tr>\n",
              "      <th>Canada</th>\n",
              "      <td>69</td>\n",
              "      <td>129</td>\n",
              "      <td>57</td>\n",
              "    </tr>\n",
              "    <tr>\n",
              "      <th>France</th>\n",
              "      <td>45</td>\n",
              "      <td>121</td>\n",
              "      <td>94</td>\n",
              "    </tr>\n",
              "    <tr>\n",
              "      <th>Japan</th>\n",
              "      <td>167</td>\n",
              "      <td>207</td>\n",
              "      <td>103</td>\n",
              "    </tr>\n",
              "    <tr>\n",
              "      <th>United Kingdom</th>\n",
              "      <td>163</td>\n",
              "      <td>265</td>\n",
              "      <td>137</td>\n",
              "    </tr>\n",
              "    <tr>\n",
              "      <th>United States</th>\n",
              "      <td>245</td>\n",
              "      <td>416</td>\n",
              "      <td>226</td>\n",
              "    </tr>\n",
              "  </tbody>\n",
              "</table>\n",
              "</div>\n",
              "    <div class=\"colab-df-buttons\">\n",
              "\n",
              "  <div class=\"colab-df-container\">\n",
              "    <button class=\"colab-df-convert\" onclick=\"convertToInteractive('df-671583c0-0b9e-47c9-96e7-84a4f331129d')\"\n",
              "            title=\"Convert this dataframe to an interactive table.\"\n",
              "            style=\"display:none;\">\n",
              "\n",
              "  <svg xmlns=\"http://www.w3.org/2000/svg\" height=\"24px\" viewBox=\"0 -960 960 960\">\n",
              "    <path d=\"M120-120v-720h720v720H120Zm60-500h600v-160H180v160Zm220 220h160v-160H400v160Zm0 220h160v-160H400v160ZM180-400h160v-160H180v160Zm440 0h160v-160H620v160ZM180-180h160v-160H180v160Zm440 0h160v-160H620v160Z\"/>\n",
              "  </svg>\n",
              "    </button>\n",
              "\n",
              "  <style>\n",
              "    .colab-df-container {\n",
              "      display:flex;\n",
              "      gap: 12px;\n",
              "    }\n",
              "\n",
              "    .colab-df-convert {\n",
              "      background-color: #E8F0FE;\n",
              "      border: none;\n",
              "      border-radius: 50%;\n",
              "      cursor: pointer;\n",
              "      display: none;\n",
              "      fill: #1967D2;\n",
              "      height: 32px;\n",
              "      padding: 0 0 0 0;\n",
              "      width: 32px;\n",
              "    }\n",
              "\n",
              "    .colab-df-convert:hover {\n",
              "      background-color: #E2EBFA;\n",
              "      box-shadow: 0px 1px 2px rgba(60, 64, 67, 0.3), 0px 1px 3px 1px rgba(60, 64, 67, 0.15);\n",
              "      fill: #174EA6;\n",
              "    }\n",
              "\n",
              "    .colab-df-buttons div {\n",
              "      margin-bottom: 4px;\n",
              "    }\n",
              "\n",
              "    [theme=dark] .colab-df-convert {\n",
              "      background-color: #3B4455;\n",
              "      fill: #D2E3FC;\n",
              "    }\n",
              "\n",
              "    [theme=dark] .colab-df-convert:hover {\n",
              "      background-color: #434B5C;\n",
              "      box-shadow: 0px 1px 3px 1px rgba(0, 0, 0, 0.15);\n",
              "      filter: drop-shadow(0px 1px 2px rgba(0, 0, 0, 0.3));\n",
              "      fill: #FFFFFF;\n",
              "    }\n",
              "  </style>\n",
              "\n",
              "    <script>\n",
              "      const buttonEl =\n",
              "        document.querySelector('#df-671583c0-0b9e-47c9-96e7-84a4f331129d button.colab-df-convert');\n",
              "      buttonEl.style.display =\n",
              "        google.colab.kernel.accessAllowed ? 'block' : 'none';\n",
              "\n",
              "      async function convertToInteractive(key) {\n",
              "        const element = document.querySelector('#df-671583c0-0b9e-47c9-96e7-84a4f331129d');\n",
              "        const dataTable =\n",
              "          await google.colab.kernel.invokeFunction('convertToInteractive',\n",
              "                                                    [key], {});\n",
              "        if (!dataTable) return;\n",
              "\n",
              "        const docLinkHtml = 'Like what you see? Visit the ' +\n",
              "          '<a target=\"_blank\" href=https://colab.research.google.com/notebooks/data_table.ipynb>data table notebook</a>'\n",
              "          + ' to learn more about interactive tables.';\n",
              "        element.innerHTML = '';\n",
              "        dataTable['output_type'] = 'display_data';\n",
              "        await google.colab.output.renderOutput(dataTable, element);\n",
              "        const docLink = document.createElement('div');\n",
              "        docLink.innerHTML = docLinkHtml;\n",
              "        element.appendChild(docLink);\n",
              "      }\n",
              "    </script>\n",
              "  </div>\n",
              "\n",
              "\n",
              "    <div id=\"df-adc625f3-6d89-4b91-a57f-7e5a727ae85b\">\n",
              "      <button class=\"colab-df-quickchart\" onclick=\"quickchart('df-adc625f3-6d89-4b91-a57f-7e5a727ae85b')\"\n",
              "                title=\"Suggest charts\"\n",
              "                style=\"display:none;\">\n",
              "\n",
              "<svg xmlns=\"http://www.w3.org/2000/svg\" height=\"24px\"viewBox=\"0 0 24 24\"\n",
              "     width=\"24px\">\n",
              "    <g>\n",
              "        <path d=\"M19 3H5c-1.1 0-2 .9-2 2v14c0 1.1.9 2 2 2h14c1.1 0 2-.9 2-2V5c0-1.1-.9-2-2-2zM9 17H7v-7h2v7zm4 0h-2V7h2v10zm4 0h-2v-4h2v4z\"/>\n",
              "    </g>\n",
              "</svg>\n",
              "      </button>\n",
              "\n",
              "<style>\n",
              "  .colab-df-quickchart {\n",
              "      --bg-color: #E8F0FE;\n",
              "      --fill-color: #1967D2;\n",
              "      --hover-bg-color: #E2EBFA;\n",
              "      --hover-fill-color: #174EA6;\n",
              "      --disabled-fill-color: #AAA;\n",
              "      --disabled-bg-color: #DDD;\n",
              "  }\n",
              "\n",
              "  [theme=dark] .colab-df-quickchart {\n",
              "      --bg-color: #3B4455;\n",
              "      --fill-color: #D2E3FC;\n",
              "      --hover-bg-color: #434B5C;\n",
              "      --hover-fill-color: #FFFFFF;\n",
              "      --disabled-bg-color: #3B4455;\n",
              "      --disabled-fill-color: #666;\n",
              "  }\n",
              "\n",
              "  .colab-df-quickchart {\n",
              "    background-color: var(--bg-color);\n",
              "    border: none;\n",
              "    border-radius: 50%;\n",
              "    cursor: pointer;\n",
              "    display: none;\n",
              "    fill: var(--fill-color);\n",
              "    height: 32px;\n",
              "    padding: 0;\n",
              "    width: 32px;\n",
              "  }\n",
              "\n",
              "  .colab-df-quickchart:hover {\n",
              "    background-color: var(--hover-bg-color);\n",
              "    box-shadow: 0 1px 2px rgba(60, 64, 67, 0.3), 0 1px 3px 1px rgba(60, 64, 67, 0.15);\n",
              "    fill: var(--button-hover-fill-color);\n",
              "  }\n",
              "\n",
              "  .colab-df-quickchart-complete:disabled,\n",
              "  .colab-df-quickchart-complete:disabled:hover {\n",
              "    background-color: var(--disabled-bg-color);\n",
              "    fill: var(--disabled-fill-color);\n",
              "    box-shadow: none;\n",
              "  }\n",
              "\n",
              "  .colab-df-spinner {\n",
              "    border: 2px solid var(--fill-color);\n",
              "    border-color: transparent;\n",
              "    border-bottom-color: var(--fill-color);\n",
              "    animation:\n",
              "      spin 1s steps(1) infinite;\n",
              "  }\n",
              "\n",
              "  @keyframes spin {\n",
              "    0% {\n",
              "      border-color: transparent;\n",
              "      border-bottom-color: var(--fill-color);\n",
              "      border-left-color: var(--fill-color);\n",
              "    }\n",
              "    20% {\n",
              "      border-color: transparent;\n",
              "      border-left-color: var(--fill-color);\n",
              "      border-top-color: var(--fill-color);\n",
              "    }\n",
              "    30% {\n",
              "      border-color: transparent;\n",
              "      border-left-color: var(--fill-color);\n",
              "      border-top-color: var(--fill-color);\n",
              "      border-right-color: var(--fill-color);\n",
              "    }\n",
              "    40% {\n",
              "      border-color: transparent;\n",
              "      border-right-color: var(--fill-color);\n",
              "      border-top-color: var(--fill-color);\n",
              "    }\n",
              "    60% {\n",
              "      border-color: transparent;\n",
              "      border-right-color: var(--fill-color);\n",
              "    }\n",
              "    80% {\n",
              "      border-color: transparent;\n",
              "      border-right-color: var(--fill-color);\n",
              "      border-bottom-color: var(--fill-color);\n",
              "    }\n",
              "    90% {\n",
              "      border-color: transparent;\n",
              "      border-bottom-color: var(--fill-color);\n",
              "    }\n",
              "  }\n",
              "</style>\n",
              "\n",
              "      <script>\n",
              "        async function quickchart(key) {\n",
              "          const quickchartButtonEl =\n",
              "            document.querySelector('#' + key + ' button');\n",
              "          quickchartButtonEl.disabled = true;  // To prevent multiple clicks.\n",
              "          quickchartButtonEl.classList.add('colab-df-spinner');\n",
              "          try {\n",
              "            const charts = await google.colab.kernel.invokeFunction(\n",
              "                'suggestCharts', [key], {});\n",
              "          } catch (error) {\n",
              "            console.error('Error during call to suggestCharts:', error);\n",
              "          }\n",
              "          quickchartButtonEl.classList.remove('colab-df-spinner');\n",
              "          quickchartButtonEl.classList.add('colab-df-quickchart-complete');\n",
              "        }\n",
              "        (() => {\n",
              "          let quickchartButtonEl =\n",
              "            document.querySelector('#df-adc625f3-6d89-4b91-a57f-7e5a727ae85b button');\n",
              "          quickchartButtonEl.style.display =\n",
              "            google.colab.kernel.accessAllowed ? 'block' : 'none';\n",
              "        })();\n",
              "      </script>\n",
              "    </div>\n",
              "\n",
              "  <div id=\"id_a4c96e02-bd6a-45c6-97dc-31d37050557e\">\n",
              "    <style>\n",
              "      .colab-df-generate {\n",
              "        background-color: #E8F0FE;\n",
              "        border: none;\n",
              "        border-radius: 50%;\n",
              "        cursor: pointer;\n",
              "        display: none;\n",
              "        fill: #1967D2;\n",
              "        height: 32px;\n",
              "        padding: 0 0 0 0;\n",
              "        width: 32px;\n",
              "      }\n",
              "\n",
              "      .colab-df-generate:hover {\n",
              "        background-color: #E2EBFA;\n",
              "        box-shadow: 0px 1px 2px rgba(60, 64, 67, 0.3), 0px 1px 3px 1px rgba(60, 64, 67, 0.15);\n",
              "        fill: #174EA6;\n",
              "      }\n",
              "\n",
              "      [theme=dark] .colab-df-generate {\n",
              "        background-color: #3B4455;\n",
              "        fill: #D2E3FC;\n",
              "      }\n",
              "\n",
              "      [theme=dark] .colab-df-generate:hover {\n",
              "        background-color: #434B5C;\n",
              "        box-shadow: 0px 1px 3px 1px rgba(0, 0, 0, 0.15);\n",
              "        filter: drop-shadow(0px 1px 2px rgba(0, 0, 0, 0.3));\n",
              "        fill: #FFFFFF;\n",
              "      }\n",
              "    </style>\n",
              "    <button class=\"colab-df-generate\" onclick=\"generateWithVariable('table')\"\n",
              "            title=\"Generate code using this dataframe.\"\n",
              "            style=\"display:none;\">\n",
              "\n",
              "  <svg xmlns=\"http://www.w3.org/2000/svg\" height=\"24px\"viewBox=\"0 0 24 24\"\n",
              "       width=\"24px\">\n",
              "    <path d=\"M7,19H8.4L18.45,9,17,7.55,7,17.6ZM5,21V16.75L18.45,3.32a2,2,0,0,1,2.83,0l1.4,1.43a1.91,1.91,0,0,1,.58,1.4,1.91,1.91,0,0,1-.58,1.4L9.25,21ZM18.45,9,17,7.55Zm-12,3A5.31,5.31,0,0,0,4.9,8.1,5.31,5.31,0,0,0,1,6.5,5.31,5.31,0,0,0,4.9,4.9,5.31,5.31,0,0,0,6.5,1,5.31,5.31,0,0,0,8.1,4.9,5.31,5.31,0,0,0,12,6.5,5.46,5.46,0,0,0,6.5,12Z\"/>\n",
              "  </svg>\n",
              "    </button>\n",
              "    <script>\n",
              "      (() => {\n",
              "      const buttonEl =\n",
              "        document.querySelector('#id_a4c96e02-bd6a-45c6-97dc-31d37050557e button.colab-df-generate');\n",
              "      buttonEl.style.display =\n",
              "        google.colab.kernel.accessAllowed ? 'block' : 'none';\n",
              "\n",
              "      buttonEl.onclick = () => {\n",
              "        google.colab.notebook.generateWithVariable('table');\n",
              "      }\n",
              "      })();\n",
              "    </script>\n",
              "  </div>\n",
              "\n",
              "    </div>\n",
              "  </div>\n"
            ],
            "application/vnd.google.colaboratory.intrinsic+json": {
              "type": "dataframe",
              "variable_name": "table",
              "summary": "{\n  \"name\": \"table\",\n  \"rows\": 5,\n  \"fields\": [\n    {\n      \"column\": \"Country\",\n      \"properties\": {\n        \"dtype\": \"string\",\n        \"num_unique_values\": 5,\n        \"samples\": [\n          \"France\",\n          \"United States\",\n          \"Japan\"\n        ],\n        \"semantic_type\": \"\",\n        \"description\": \"\"\n      }\n    },\n    {\n      \"column\": \"Energy\",\n      \"properties\": {\n        \"dtype\": \"number\",\n        \"std\": 81,\n        \"min\": 45,\n        \"max\": 245,\n        \"num_unique_values\": 5,\n        \"samples\": [\n          45,\n          245,\n          167\n        ],\n        \"semantic_type\": \"\",\n        \"description\": \"\"\n      }\n    },\n    {\n      \"column\": \"Finance\",\n      \"properties\": {\n        \"dtype\": \"number\",\n        \"std\": 120,\n        \"min\": 121,\n        \"max\": 416,\n        \"num_unique_values\": 5,\n        \"samples\": [\n          121,\n          416,\n          207\n        ],\n        \"semantic_type\": \"\",\n        \"description\": \"\"\n      }\n    },\n    {\n      \"column\": \"Manufacturing\",\n      \"properties\": {\n        \"dtype\": \"number\",\n        \"std\": 64,\n        \"min\": 57,\n        \"max\": 226,\n        \"num_unique_values\": 5,\n        \"samples\": [\n          94,\n          226,\n          103\n        ],\n        \"semantic_type\": \"\",\n        \"description\": \"\"\n      }\n    }\n  ]\n}"
            }
          },
          "metadata": {},
          "execution_count": 90
        }
      ]
    },
    {
      "cell_type": "code",
      "source": [
        "chi2, p, dof, expected = chi2_contingency(table)\n",
        "\n",
        "print(\"Chi-Square Statistic:\", chi2)\n",
        "print(\"Degrees of Freedom:\", dof)\n",
        "print(\"p-value:\", p)\n",
        "\n",
        "if p <= 0.05:\n",
        "    print(\"Reject H0 → Country and Industry are DEPENDENT\")\n",
        "else:\n",
        "    print(\"Fail to reject H0 → No evidence of dependence\")\n"
      ],
      "metadata": {
        "colab": {
          "base_uri": "https://localhost:8080/"
        },
        "id": "5z6afYXepShw",
        "outputId": "8ba07495-0926-432e-f09e-412c3aedcea7"
      },
      "execution_count": 91,
      "outputs": [
        {
          "output_type": "stream",
          "name": "stdout",
          "text": [
            "Chi-Square Statistic: 36.91005904573438\n",
            "Degrees of Freedom: 8\n",
            "p-value: 1.1955634627355058e-05\n",
            "Reject H0 → Country and Industry are DEPENDENT\n"
          ]
        }
      ]
    },
    {
      "cell_type": "code",
      "source": [
        "df6 = pd.read_sql(\"SELECT Country,Sales,Industry,Profit  FROM SaaS_Sales;\", conn)\n",
        "\n",
        "top_countries = df6.groupby(\"Country\")[\"Sales\"].sum().nlargest(5).index\n",
        "top_industries = df6.groupby(\"Industry\")[\"Profit\"].sum().nlargest(3).index\n",
        "df_filtered = df6[df6[\"Country\"].isin(top_countries) & df6[\"Industry\"].isin(top_industries)]\n",
        "\n",
        "import pandas as pd\n",
        "\n",
        "df6 = pd.crosstab(df_filtered[\"Country\"], df_filtered[\"Industry\"])\n",
        "print(df6)"
      ],
      "metadata": {
        "colab": {
          "base_uri": "https://localhost:8080/"
        },
        "id": "t-tKy7evpx0a",
        "outputId": "dbb70ba3-d259-4431-cb51-91d081549158"
      },
      "execution_count": 97,
      "outputs": [
        {
          "output_type": "stream",
          "name": "stdout",
          "text": [
            "Industry        Energy  Finance  Manufacturing\n",
            "Country                                       \n",
            "Canada              69      129             57\n",
            "France              45      121             94\n",
            "Japan              167      207            103\n",
            "United Kingdom     163      265            137\n",
            "United States      245      416            226\n"
          ]
        }
      ]
    },
    {
      "cell_type": "code",
      "source": [
        "import seaborn as sns\n",
        "import matplotlib.pyplot as plt\n",
        "\n",
        "# Create Barplot using Country as x axis, Count as y axis and group by Industry from df6\n",
        "sns.barplot(df6, x='Country', y='Count', hue='Industry')\n",
        "plt.xticks(ticks=range(len((df6['Country'].unique()))), labels=[label.replace(' ', '\\n') for label in df6['Country'].unique()], fontsize=10)  # Adjust x-ticks labels to new rows every whitespace\n",
        "plt.yticks(fontsize=10)\n",
        "plt.xlabel(df6.columns[0], fontsize=15)\n",
        "plt.ylabel(df6.columns[-1], fontsize=15)\n",
        "plt.title('Countries and Industries Count', fontsize=20)\n",
        "plt.show()"
      ],
      "metadata": {
        "colab": {
          "base_uri": "https://localhost:8080/",
          "height": 373
        },
        "id": "iSvlSGGCpewL",
        "outputId": "0a2f636f-7a2b-4117-f467-b6cc3c36a0c5"
      },
      "execution_count": 100,
      "outputs": [
        {
          "output_type": "error",
          "ename": "ValueError",
          "evalue": "Could not interpret value `Count` for `y`. An entry with this name does not appear in `data`.",
          "traceback": [
            "\u001b[0;31m---------------------------------------------------------------------------\u001b[0m",
            "\u001b[0;31mValueError\u001b[0m                                Traceback (most recent call last)",
            "\u001b[0;32m/tmp/ipython-input-2363062.py\u001b[0m in \u001b[0;36m<cell line: 0>\u001b[0;34m()\u001b[0m\n\u001b[1;32m      3\u001b[0m \u001b[0;34m\u001b[0m\u001b[0m\n\u001b[1;32m      4\u001b[0m \u001b[0;31m# Create Barplot using Country as x axis, Count as y axis and group by Industry from df6\u001b[0m\u001b[0;34m\u001b[0m\u001b[0;34m\u001b[0m\u001b[0m\n\u001b[0;32m----> 5\u001b[0;31m \u001b[0msns\u001b[0m\u001b[0;34m.\u001b[0m\u001b[0mbarplot\u001b[0m\u001b[0;34m(\u001b[0m\u001b[0mdf6\u001b[0m\u001b[0;34m,\u001b[0m \u001b[0mx\u001b[0m\u001b[0;34m=\u001b[0m\u001b[0;34m'Country'\u001b[0m\u001b[0;34m,\u001b[0m \u001b[0my\u001b[0m\u001b[0;34m=\u001b[0m\u001b[0;34m'Count'\u001b[0m\u001b[0;34m,\u001b[0m \u001b[0mhue\u001b[0m\u001b[0;34m=\u001b[0m\u001b[0;34m'Industry'\u001b[0m\u001b[0;34m)\u001b[0m\u001b[0;34m\u001b[0m\u001b[0;34m\u001b[0m\u001b[0m\n\u001b[0m\u001b[1;32m      6\u001b[0m \u001b[0mplt\u001b[0m\u001b[0;34m.\u001b[0m\u001b[0mxticks\u001b[0m\u001b[0;34m(\u001b[0m\u001b[0mticks\u001b[0m\u001b[0;34m=\u001b[0m\u001b[0mrange\u001b[0m\u001b[0;34m(\u001b[0m\u001b[0mlen\u001b[0m\u001b[0;34m(\u001b[0m\u001b[0;34m(\u001b[0m\u001b[0mdf6\u001b[0m\u001b[0;34m[\u001b[0m\u001b[0;34m'Country'\u001b[0m\u001b[0;34m]\u001b[0m\u001b[0;34m.\u001b[0m\u001b[0munique\u001b[0m\u001b[0;34m(\u001b[0m\u001b[0;34m)\u001b[0m\u001b[0;34m)\u001b[0m\u001b[0;34m)\u001b[0m\u001b[0;34m)\u001b[0m\u001b[0;34m,\u001b[0m \u001b[0mlabels\u001b[0m\u001b[0;34m=\u001b[0m\u001b[0;34m[\u001b[0m\u001b[0mlabel\u001b[0m\u001b[0;34m.\u001b[0m\u001b[0mreplace\u001b[0m\u001b[0;34m(\u001b[0m\u001b[0;34m' '\u001b[0m\u001b[0;34m,\u001b[0m \u001b[0;34m'\\n'\u001b[0m\u001b[0;34m)\u001b[0m \u001b[0;32mfor\u001b[0m \u001b[0mlabel\u001b[0m \u001b[0;32min\u001b[0m \u001b[0mdf6\u001b[0m\u001b[0;34m[\u001b[0m\u001b[0;34m'Country'\u001b[0m\u001b[0;34m]\u001b[0m\u001b[0;34m.\u001b[0m\u001b[0munique\u001b[0m\u001b[0;34m(\u001b[0m\u001b[0;34m)\u001b[0m\u001b[0;34m]\u001b[0m\u001b[0;34m,\u001b[0m \u001b[0mfontsize\u001b[0m\u001b[0;34m=\u001b[0m\u001b[0;36m10\u001b[0m\u001b[0;34m)\u001b[0m  \u001b[0;31m# Adjust x-ticks labels to new rows every whitespace\u001b[0m\u001b[0;34m\u001b[0m\u001b[0;34m\u001b[0m\u001b[0m\n\u001b[1;32m      7\u001b[0m \u001b[0mplt\u001b[0m\u001b[0;34m.\u001b[0m\u001b[0myticks\u001b[0m\u001b[0;34m(\u001b[0m\u001b[0mfontsize\u001b[0m\u001b[0;34m=\u001b[0m\u001b[0;36m10\u001b[0m\u001b[0;34m)\u001b[0m\u001b[0;34m\u001b[0m\u001b[0;34m\u001b[0m\u001b[0m\n",
            "\u001b[0;32m/usr/local/lib/python3.12/dist-packages/seaborn/categorical.py\u001b[0m in \u001b[0;36mbarplot\u001b[0;34m(data, x, y, hue, order, hue_order, estimator, errorbar, n_boot, seed, units, weights, orient, color, palette, saturation, fill, hue_norm, width, dodge, gap, log_scale, native_scale, formatter, legend, capsize, err_kws, ci, errcolor, errwidth, ax, **kwargs)\u001b[0m\n\u001b[1;32m   2339\u001b[0m         \u001b[0mestimator\u001b[0m \u001b[0;34m=\u001b[0m \u001b[0;34m\"size\"\u001b[0m\u001b[0;34m\u001b[0m\u001b[0;34m\u001b[0m\u001b[0m\n\u001b[1;32m   2340\u001b[0m \u001b[0;34m\u001b[0m\u001b[0m\n\u001b[0;32m-> 2341\u001b[0;31m     p = _CategoricalAggPlotter(\n\u001b[0m\u001b[1;32m   2342\u001b[0m         \u001b[0mdata\u001b[0m\u001b[0;34m=\u001b[0m\u001b[0mdata\u001b[0m\u001b[0;34m,\u001b[0m\u001b[0;34m\u001b[0m\u001b[0;34m\u001b[0m\u001b[0m\n\u001b[1;32m   2343\u001b[0m         \u001b[0mvariables\u001b[0m\u001b[0;34m=\u001b[0m\u001b[0mdict\u001b[0m\u001b[0;34m(\u001b[0m\u001b[0mx\u001b[0m\u001b[0;34m=\u001b[0m\u001b[0mx\u001b[0m\u001b[0;34m,\u001b[0m \u001b[0my\u001b[0m\u001b[0;34m=\u001b[0m\u001b[0my\u001b[0m\u001b[0;34m,\u001b[0m \u001b[0mhue\u001b[0m\u001b[0;34m=\u001b[0m\u001b[0mhue\u001b[0m\u001b[0;34m,\u001b[0m \u001b[0munits\u001b[0m\u001b[0;34m=\u001b[0m\u001b[0munits\u001b[0m\u001b[0;34m,\u001b[0m \u001b[0mweight\u001b[0m\u001b[0;34m=\u001b[0m\u001b[0mweights\u001b[0m\u001b[0;34m)\u001b[0m\u001b[0;34m,\u001b[0m\u001b[0;34m\u001b[0m\u001b[0;34m\u001b[0m\u001b[0m\n",
            "\u001b[0;32m/usr/local/lib/python3.12/dist-packages/seaborn/categorical.py\u001b[0m in \u001b[0;36m__init__\u001b[0;34m(self, data, variables, order, orient, require_numeric, color, legend)\u001b[0m\n\u001b[1;32m     65\u001b[0m     ):\n\u001b[1;32m     66\u001b[0m \u001b[0;34m\u001b[0m\u001b[0m\n\u001b[0;32m---> 67\u001b[0;31m         \u001b[0msuper\u001b[0m\u001b[0;34m(\u001b[0m\u001b[0;34m)\u001b[0m\u001b[0;34m.\u001b[0m\u001b[0m__init__\u001b[0m\u001b[0;34m(\u001b[0m\u001b[0mdata\u001b[0m\u001b[0;34m=\u001b[0m\u001b[0mdata\u001b[0m\u001b[0;34m,\u001b[0m \u001b[0mvariables\u001b[0m\u001b[0;34m=\u001b[0m\u001b[0mvariables\u001b[0m\u001b[0;34m)\u001b[0m\u001b[0;34m\u001b[0m\u001b[0;34m\u001b[0m\u001b[0m\n\u001b[0m\u001b[1;32m     68\u001b[0m \u001b[0;34m\u001b[0m\u001b[0m\n\u001b[1;32m     69\u001b[0m         \u001b[0;31m# This method takes care of some bookkeeping that is necessary because the\u001b[0m\u001b[0;34m\u001b[0m\u001b[0;34m\u001b[0m\u001b[0m\n",
            "\u001b[0;32m/usr/local/lib/python3.12/dist-packages/seaborn/_base.py\u001b[0m in \u001b[0;36m__init__\u001b[0;34m(self, data, variables)\u001b[0m\n\u001b[1;32m    632\u001b[0m         \u001b[0;31m# information for numeric axes would be information about log scales.\u001b[0m\u001b[0;34m\u001b[0m\u001b[0;34m\u001b[0m\u001b[0m\n\u001b[1;32m    633\u001b[0m         \u001b[0mself\u001b[0m\u001b[0;34m.\u001b[0m\u001b[0m_var_ordered\u001b[0m \u001b[0;34m=\u001b[0m \u001b[0;34m{\u001b[0m\u001b[0;34m\"x\"\u001b[0m\u001b[0;34m:\u001b[0m \u001b[0;32mFalse\u001b[0m\u001b[0;34m,\u001b[0m \u001b[0;34m\"y\"\u001b[0m\u001b[0;34m:\u001b[0m \u001b[0;32mFalse\u001b[0m\u001b[0;34m}\u001b[0m  \u001b[0;31m# alt., used DefaultDict\u001b[0m\u001b[0;34m\u001b[0m\u001b[0;34m\u001b[0m\u001b[0m\n\u001b[0;32m--> 634\u001b[0;31m         \u001b[0mself\u001b[0m\u001b[0;34m.\u001b[0m\u001b[0massign_variables\u001b[0m\u001b[0;34m(\u001b[0m\u001b[0mdata\u001b[0m\u001b[0;34m,\u001b[0m \u001b[0mvariables\u001b[0m\u001b[0;34m)\u001b[0m\u001b[0;34m\u001b[0m\u001b[0;34m\u001b[0m\u001b[0m\n\u001b[0m\u001b[1;32m    635\u001b[0m \u001b[0;34m\u001b[0m\u001b[0m\n\u001b[1;32m    636\u001b[0m         \u001b[0;31m# TODO Lots of tests assume that these are called to initialize the\u001b[0m\u001b[0;34m\u001b[0m\u001b[0;34m\u001b[0m\u001b[0m\n",
            "\u001b[0;32m/usr/local/lib/python3.12/dist-packages/seaborn/_base.py\u001b[0m in \u001b[0;36massign_variables\u001b[0;34m(self, data, variables)\u001b[0m\n\u001b[1;32m    677\u001b[0m             \u001b[0;31m# to centralize / standardize data consumption logic.\u001b[0m\u001b[0;34m\u001b[0m\u001b[0;34m\u001b[0m\u001b[0m\n\u001b[1;32m    678\u001b[0m             \u001b[0mself\u001b[0m\u001b[0;34m.\u001b[0m\u001b[0minput_format\u001b[0m \u001b[0;34m=\u001b[0m \u001b[0;34m\"long\"\u001b[0m\u001b[0;34m\u001b[0m\u001b[0;34m\u001b[0m\u001b[0m\n\u001b[0;32m--> 679\u001b[0;31m             \u001b[0mplot_data\u001b[0m \u001b[0;34m=\u001b[0m \u001b[0mPlotData\u001b[0m\u001b[0;34m(\u001b[0m\u001b[0mdata\u001b[0m\u001b[0;34m,\u001b[0m \u001b[0mvariables\u001b[0m\u001b[0;34m)\u001b[0m\u001b[0;34m\u001b[0m\u001b[0;34m\u001b[0m\u001b[0m\n\u001b[0m\u001b[1;32m    680\u001b[0m             \u001b[0mframe\u001b[0m \u001b[0;34m=\u001b[0m \u001b[0mplot_data\u001b[0m\u001b[0;34m.\u001b[0m\u001b[0mframe\u001b[0m\u001b[0;34m\u001b[0m\u001b[0;34m\u001b[0m\u001b[0m\n\u001b[1;32m    681\u001b[0m             \u001b[0mnames\u001b[0m \u001b[0;34m=\u001b[0m \u001b[0mplot_data\u001b[0m\u001b[0;34m.\u001b[0m\u001b[0mnames\u001b[0m\u001b[0;34m\u001b[0m\u001b[0;34m\u001b[0m\u001b[0m\n",
            "\u001b[0;32m/usr/local/lib/python3.12/dist-packages/seaborn/_core/data.py\u001b[0m in \u001b[0;36m__init__\u001b[0;34m(self, data, variables)\u001b[0m\n\u001b[1;32m     56\u001b[0m \u001b[0;34m\u001b[0m\u001b[0m\n\u001b[1;32m     57\u001b[0m         \u001b[0mdata\u001b[0m \u001b[0;34m=\u001b[0m \u001b[0mhandle_data_source\u001b[0m\u001b[0;34m(\u001b[0m\u001b[0mdata\u001b[0m\u001b[0;34m)\u001b[0m\u001b[0;34m\u001b[0m\u001b[0;34m\u001b[0m\u001b[0m\n\u001b[0;32m---> 58\u001b[0;31m         \u001b[0mframe\u001b[0m\u001b[0;34m,\u001b[0m \u001b[0mnames\u001b[0m\u001b[0;34m,\u001b[0m \u001b[0mids\u001b[0m \u001b[0;34m=\u001b[0m \u001b[0mself\u001b[0m\u001b[0;34m.\u001b[0m\u001b[0m_assign_variables\u001b[0m\u001b[0;34m(\u001b[0m\u001b[0mdata\u001b[0m\u001b[0;34m,\u001b[0m \u001b[0mvariables\u001b[0m\u001b[0;34m)\u001b[0m\u001b[0;34m\u001b[0m\u001b[0;34m\u001b[0m\u001b[0m\n\u001b[0m\u001b[1;32m     59\u001b[0m \u001b[0;34m\u001b[0m\u001b[0m\n\u001b[1;32m     60\u001b[0m         \u001b[0mself\u001b[0m\u001b[0;34m.\u001b[0m\u001b[0mframe\u001b[0m \u001b[0;34m=\u001b[0m \u001b[0mframe\u001b[0m\u001b[0;34m\u001b[0m\u001b[0;34m\u001b[0m\u001b[0m\n",
            "\u001b[0;32m/usr/local/lib/python3.12/dist-packages/seaborn/_core/data.py\u001b[0m in \u001b[0;36m_assign_variables\u001b[0;34m(self, data, variables)\u001b[0m\n\u001b[1;32m    230\u001b[0m                 \u001b[0;32melse\u001b[0m\u001b[0;34m:\u001b[0m\u001b[0;34m\u001b[0m\u001b[0;34m\u001b[0m\u001b[0m\n\u001b[1;32m    231\u001b[0m                     \u001b[0merr\u001b[0m \u001b[0;34m+=\u001b[0m \u001b[0;34m\"An entry with this name does not appear in `data`.\"\u001b[0m\u001b[0;34m\u001b[0m\u001b[0;34m\u001b[0m\u001b[0m\n\u001b[0;32m--> 232\u001b[0;31m                 \u001b[0;32mraise\u001b[0m \u001b[0mValueError\u001b[0m\u001b[0;34m(\u001b[0m\u001b[0merr\u001b[0m\u001b[0;34m)\u001b[0m\u001b[0;34m\u001b[0m\u001b[0;34m\u001b[0m\u001b[0m\n\u001b[0m\u001b[1;32m    233\u001b[0m \u001b[0;34m\u001b[0m\u001b[0m\n\u001b[1;32m    234\u001b[0m             \u001b[0;32melse\u001b[0m\u001b[0;34m:\u001b[0m\u001b[0;34m\u001b[0m\u001b[0;34m\u001b[0m\u001b[0m\n",
            "\u001b[0;31mValueError\u001b[0m: Could not interpret value `Count` for `y`. An entry with this name does not appear in `data`."
          ]
        }
      ]
    },
    {
      "cell_type": "markdown",
      "source": [
        "From Chi-Squared Test before the result conclude that the two variables are dependent, this conclusion also supported by the barplot above as the occurrences between each unique Countries and Industries are not same, therefore:"
      ],
      "metadata": {
        "id": "UVX1_xlcrbmL"
      }
    },
    {
      "cell_type": "markdown",
      "source": [
        "**Insight 6:** Country and Industry are dependent\n",
        "Recommendation: Cross-Reference Country and Industry Strategies.\n",
        "Since the analysis indicates dependency between the countries with the highest sales and the industries with the highest profit, prioritize aligning your product offerings with the needs of these industries within these countries. Tailor your marketing messages to highlight how your products can specifically benefit the targeted industries in each country. This alignment will likely result in higher customer engagement and conversion rates."
      ],
      "metadata": {
        "id": "b1KgLmxGrcR3"
      }
    },
    {
      "cell_type": "markdown",
      "source": [
        "# **After every session download the transformed db for next use.**             "
      ],
      "metadata": {
        "id": "1gXVI3_Bzau1"
      }
    },
    {
      "cell_type": "code",
      "source": [
        "!ls"
      ],
      "metadata": {
        "colab": {
          "base_uri": "https://localhost:8080/"
        },
        "id": "uShTHNjazqn_",
        "outputId": "447d7113-d766-4e69-98de-21772acb7d78"
      },
      "execution_count": null,
      "outputs": [
        {
          "output_type": "stream",
          "name": "stdout",
          "text": [
            "SaaS_Company.db  sample_data\n"
          ]
        }
      ]
    },
    {
      "cell_type": "code",
      "source": [
        "%%sql\n",
        "SELECT name\n",
        "FROM sqlite_master\n",
        "WHERE type='table';"
      ],
      "metadata": {
        "colab": {
          "base_uri": "https://localhost:8080/",
          "height": 95
        },
        "id": "De3Z521VAP2J",
        "outputId": "3d0ad212-d4ac-48c9-960a-cd1f9aa39ec4"
      },
      "execution_count": null,
      "outputs": [
        {
          "output_type": "stream",
          "name": "stdout",
          "text": [
            " * sqlite:///SaaS_Company.db\n",
            "Done.\n"
          ]
        },
        {
          "output_type": "execute_result",
          "data": {
            "text/plain": [
              "[('SaaS_Sales',)]"
            ],
            "text/html": [
              "<table>\n",
              "    <thead>\n",
              "        <tr>\n",
              "            <th>name</th>\n",
              "        </tr>\n",
              "    </thead>\n",
              "    <tbody>\n",
              "        <tr>\n",
              "            <td>SaaS_Sales</td>\n",
              "        </tr>\n",
              "    </tbody>\n",
              "</table>"
            ]
          },
          "metadata": {},
          "execution_count": 64
        }
      ]
    },
    {
      "cell_type": "code",
      "source": [
        "from google.colab import files\n",
        "files.download('/content/SaaS_Company.db')"
      ],
      "metadata": {
        "colab": {
          "base_uri": "https://localhost:8080/",
          "height": 17
        },
        "id": "6lJYDGhPzcgE",
        "outputId": "b3e91cc3-799a-4024-f950-ad847cc876c4"
      },
      "execution_count": 101,
      "outputs": [
        {
          "output_type": "display_data",
          "data": {
            "text/plain": [
              "<IPython.core.display.Javascript object>"
            ],
            "application/javascript": [
              "\n",
              "    async function download(id, filename, size) {\n",
              "      if (!google.colab.kernel.accessAllowed) {\n",
              "        return;\n",
              "      }\n",
              "      const div = document.createElement('div');\n",
              "      const label = document.createElement('label');\n",
              "      label.textContent = `Downloading \"${filename}\": `;\n",
              "      div.appendChild(label);\n",
              "      const progress = document.createElement('progress');\n",
              "      progress.max = size;\n",
              "      div.appendChild(progress);\n",
              "      document.body.appendChild(div);\n",
              "\n",
              "      const buffers = [];\n",
              "      let downloaded = 0;\n",
              "\n",
              "      const channel = await google.colab.kernel.comms.open(id);\n",
              "      // Send a message to notify the kernel that we're ready.\n",
              "      channel.send({})\n",
              "\n",
              "      for await (const message of channel.messages) {\n",
              "        // Send a message to notify the kernel that we're ready.\n",
              "        channel.send({})\n",
              "        if (message.buffers) {\n",
              "          for (const buffer of message.buffers) {\n",
              "            buffers.push(buffer);\n",
              "            downloaded += buffer.byteLength;\n",
              "            progress.value = downloaded;\n",
              "          }\n",
              "        }\n",
              "      }\n",
              "      const blob = new Blob(buffers, {type: 'application/binary'});\n",
              "      const a = document.createElement('a');\n",
              "      a.href = window.URL.createObjectURL(blob);\n",
              "      a.download = filename;\n",
              "      div.appendChild(a);\n",
              "      a.click();\n",
              "      div.remove();\n",
              "    }\n",
              "  "
            ]
          },
          "metadata": {}
        },
        {
          "output_type": "display_data",
          "data": {
            "text/plain": [
              "<IPython.core.display.Javascript object>"
            ],
            "application/javascript": [
              "download(\"download_16f6028b-68b4-4440-a0a2-a359dd897719\", \"SaaS_Company.db\", 3526656)"
            ]
          },
          "metadata": {}
        }
      ]
    }
  ]
}